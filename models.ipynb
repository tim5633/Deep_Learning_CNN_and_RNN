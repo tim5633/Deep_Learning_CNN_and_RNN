{
 "cells": [
  {
   "cell_type": "code",
   "execution_count": 1,
   "metadata": {},
   "outputs": [],
   "source": [
    "import numpy as np\n",
    "import os\n",
    "from pathlib import Path\n",
    "import tensorflow as tf\n",
    "import pandas as pd\n",
    "import matplotlib.pyplot as plt\n",
    "from tensorflow.keras.models import Sequential\n",
    "from tensorflow.keras.layers import Flatten, Dense, SimpleRNN, BatchNormalization, LSTM, Conv1D, Embedding, GRU\n",
    "from tensorflow.keras.optimizers import Adam, Nadam\n",
    "from tensorflow.keras.metrics import mean_squared_error\n",
    "from tensorflow.data import Dataset, TFRecordDataset\n",
    "\n",
    "from sklearn.model_selection import train_test_split\n",
    "import keras\n",
    "\n",
    "import numpy as np\n",
    "import matplotlib.pyplot as plt \n",
    "import tensorflow as tf\n",
    "from tensorflow.keras import backend as K\n",
    "from tensorflow.keras.applications.mobilenet import MobileNet, preprocess_input\n",
    "from tensorflow.keras.datasets import cifar10 \n",
    "from tensorflow.keras.models import Sequential, Model\n",
    "from tensorflow.keras.layers import Dense, Dropout, Flatten, Input\n",
    "from tensorflow.keras.layers import Conv2D, MaxPooling2D, GlobalAveragePooling2D, UpSampling2D, MaxPool2D\n",
    "from tensorflow.keras import backend as K\n",
    "from scipy.ndimage import zoom\n",
    "\n",
    "\n",
    "import keras_tuner as kt"
   ]
  },
  {
   "cell_type": "markdown",
   "metadata": {},
   "source": [
    "## Data Pre-processing"
   ]
  },
  {
   "cell_type": "markdown",
   "metadata": {},
   "source": [
    "#### import the data of time series and y label"
   ]
  },
  {
   "cell_type": "code",
   "execution_count": 2,
   "metadata": {},
   "outputs": [],
   "source": [
    "import pickle\n",
    "with open ('time_series_1.pickle', 'rb') as handle:\n",
    "    time_series_1 = pickle.load(handle)\n",
    "with open ('time_series_2.pickle', 'rb') as handle:\n",
    "    time_series_2 = pickle.load(handle)\n",
    "with open ('y.pickle', 'rb') as handle:\n",
    "    y = pickle.load(handle)\n",
    "with open ('y.pickle', 'rb') as handle:\n",
    "    y_plot = pickle.load(handle)"
   ]
  },
  {
   "cell_type": "markdown",
   "metadata": {},
   "source": [
    "#### Sequence to Vector\n",
    "\n",
    "Sequence is defined as a particular order in which related things follow each other. For x in this case are two time series, which will be precedence and precedence, so we treat this as Sequence. while the output is the mode of wind turbines with multiple classes. We feed the time sequence of inputs and map only last output of one dimension with 4 classes, so it is applied wuth Sequence-to-Vector method (also called an encoder). There are several approaches to convert y data points into a vector.\n",
    "\n",
    "1. Regarding all the models we used below, within the final layer, we use softmax activaciton function because softmax could use to predict the probability by logistic regression for each class.\n",
    "2. the error between the expected and predicted value of multionmial probablity is the cross entropy loss caclulated within the function, which is the difference between probablity distribution as compiling the model.\n",
    "3. the error would also be used to calculate the gradient of the model and the model would be updated.\n",
    "\n",
    "Here we change the y from (1,2,3,0) to ((0,1,0,0),(0,0,1,0),(0,0,0,1),(1, 0,0,0). The reason why using one-hot encoding is that the final Dense layer we would use softmax to have 4 number of categorical output, to choose the highest probablity as its category. Also when we conpile the model compile loss would also use =\"categorical_crossentropy\""
   ]
  },
  {
   "cell_type": "code",
   "execution_count": 3,
   "metadata": {},
   "outputs": [],
   "source": [
    "nb_classes = 4\n",
    "y_one_hot = y.astype(int)\n",
    "y_one_hot_targets = np.eye(nb_classes)[y_one_hot]\n",
    "y = y_one_hot_targets"
   ]
  },
  {
   "cell_type": "markdown",
   "metadata": {},
   "source": [
    "#### Trian, Validation, Test spliting\n",
    "One thing worth mentioning is that we did not scale the two time series:\n",
    "1. After we looked at the distribution of data, we found that in two separate time series, the values between different time periods are not significantly different\n",
    "2. We are worried that if the scaling is finished, the important information of some time periods will be lost, which will be detrimental to the learning of NN\n",
    "So we keep the original data and use shuffle to randomly collect the observation index, and split it into datasets of train with 75%, validation with 15%, and test with 15%"
   ]
  },
  {
   "cell_type": "code",
   "execution_count": 4,
   "metadata": {},
   "outputs": [],
   "source": [
    "np.random.seed(123)\n",
    "idx = np.arange(len(time_series_1))\n",
    "np.random.shuffle(idx) # randomly collect the observation index\n",
    "\n",
    "train = 2800\n",
    "val = 600\n",
    "test = 600\n",
    "train_idxs = idx[:train]\n",
    "val_idxs = idx[train:train+val]\n",
    "test_idxs = idx[train+val:train+val+test]\n",
    "\n",
    "train_time_series_1 = time_series_1[train_idxs]\n",
    "val_time_series_1 = time_series_1[val_idxs]\n",
    "test_time_series_1 = time_series_1[test_idxs]\n",
    "\n",
    "train_time_series_2 = time_series_2[train_idxs]\n",
    "val_time_series_2 = time_series_2[val_idxs]\n",
    "test_time_series_2 = time_series_2[test_idxs]\n",
    "\n",
    "y_train = y[train_idxs]\n",
    "y_val = y[val_idxs]\n",
    "y_test = y[test_idxs]"
   ]
  },
  {
   "cell_type": "markdown",
   "metadata": {},
   "source": [
    "#### Create a empty dataframe to record the result and compare\n",
    "the dataframe would be used for question 6 for comparison and choosing the best model"
   ]
  },
  {
   "cell_type": "code",
   "execution_count": 142,
   "metadata": {},
   "outputs": [],
   "source": [
    "df_model_record_trn_accuracy  = pd.DataFrame()\n",
    "df_model_record_val_accuracy = pd.DataFrame()\n",
    "df_model_record_trn_loss = pd.DataFrame()\n",
    "df_model_record_val_loss = pd.DataFrame()"
   ]
  },
  {
   "cell_type": "markdown",
   "metadata": {},
   "source": [
    "## Question 1\t\n",
    "**Create a recurrent neural network in TensorFlow to predict the operating mode of a wind turbine based on the two time series(俯仰角跟扭矩) from the sensors. Before any implementation, carefully consider what type of approach (sequence-to-vector, sequence-to-sequence, or encoder-decoder) is most sensible here and how you need to manipulate the data, given that you have two different time series for each observation.Then, make sure that you try out the different layers and elements discussed in class, such as SimpleRNN, LSTM and Conv1D - while a certain amount of trial and error will be necessary, it is recommended that you tune your network systematically. Make sure to record your final validation set accuracy.**"
   ]
  },
  {
   "cell_type": "markdown",
   "metadata": {},
   "source": [
    "### BenchMark of simple layers with using different methods\n",
    "(i.e. SimpleRNN, LSTM, Conv1D, and GRU)\n",
    "Here we first test in the same layers (1 layer of input, 1 layer of layerord of method we applied, 1 layer of softmax output). To compare the efficiency, learning curve, loss and accuracy of different methods in train and valiadaiton\n",
    "1. After having such a benchmark comparison, perform a superposition on layers that perform better or have similar structure.\n",
    "2. After compare the BenchMark model and deduce the reason, we could build and test the Optimal Model"
   ]
  },
  {
   "cell_type": "markdown",
   "metadata": {},
   "source": [
    "Why do we need to stack time_series_1 with time_series_2 is because in SimpleRNN, LSTM, Conv1D, and GRU models:\n",
    "1. Its input layer shape is input_shape=[None, 2]: None means we analyze the entire time series, 2 means we have two dimensions (which is time_series_1 and time_series_2)\n",
    "2. The reason why the two time series are superimposed is because we found that both 0 if the turbine is healthy and 3 if both are faulty in the output y label need to consider the conditions of the two time periods"
   ]
  },
  {
   "cell_type": "code",
   "execution_count": 144,
   "metadata": {},
   "outputs": [
    {
     "data": {
      "text/plain": [
       "((2800, 5000, 2), (600, 5000, 2), (600, 5000, 2))"
      ]
     },
     "execution_count": 144,
     "metadata": {},
     "output_type": "execute_result"
    }
   ],
   "source": [
    "# stack the time series\n",
    "# the time series are stacked as [observation, time_steps, features]\n",
    "# column would be using axis=2,\n",
    "merged_array_trn = np.stack([train_time_series_1, train_time_series_2], axis=2)\n",
    "merged_array_val = np.stack([val_time_series_1, val_time_series_2], axis=2)\n",
    "merged_array_test = np.stack([test_time_series_1, test_time_series_2], axis=2)\n",
    "merged_array_trn.shape, merged_array_val.shape, merged_array_test.shape"
   ]
  },
  {
   "cell_type": "markdown",
   "metadata": {},
   "source": [
    "#### Method 1: simple RNN"
   ]
  },
  {
   "cell_type": "markdown",
   "metadata": {},
   "source": [
    "RNN will be weighted and memorized according to the previous information, so the information of the entire time period will be included in the last unit, which can be regarded as the feature vector extracted from the two time periods. This is why time series is suitable for this scenario:\n",
    "1. Due to the simple internal structure of simpleRNN and low requirements for computing resources, compared with the RNN variants we will use later: LSTM and GRU model parameters, the total number of parameters is much less (this model is only with 1,364), and the calculation time is relatively low to save time.\n",
    "2. Simple RNN is only suitable for short-term dependence. But its disadvantage is that it is not good at long-term dependence. If too many time series are accumulated, the important information will be diluted (often abnormal calculation of gradient, or gradient disappearance or explosion)\n",
    "\n",
    " With 20 epcchs, we can observe \n",
    " 1. loss: 0.6900 \n",
    " 2. accuracy: 0.7429 \n",
    " 3. val_loss: 0.7184\n",
    " 4. val_accuracy: 0.7133 \n",
    " 5. The execution time of each epoch is about 265 seconds\n"
   ]
  },
  {
   "cell_type": "code",
   "execution_count": null,
   "metadata": {},
   "outputs": [],
   "source": [
    "# clean sessions and set seeds\n",
    "tf.keras.backend.clear_session()\n",
    "np.random.seed(231)\n",
    "tf.random.set_seed(631)"
   ]
  },
  {
   "cell_type": "code",
   "execution_count": 7,
   "metadata": {},
   "outputs": [
    {
     "name": "stdout",
     "output_type": "stream",
     "text": [
      "Model: \"sequential\"\n",
      "_________________________________________________________________\n",
      " Layer (type)                Output Shape              Param #   \n",
      "=================================================================\n",
      " simple_rnn (SimpleRNN)      (None, None, 20)          460       \n",
      "                                                                 \n",
      " simple_rnn_1 (SimpleRNN)    (None, 20)                820       \n",
      "                                                                 \n",
      " dense (Dense)               (None, 4)                 84        \n",
      "                                                                 \n",
      "=================================================================\n",
      "Total params: 1,364\n",
      "Trainable params: 1,364\n",
      "Non-trainable params: 0\n",
      "_________________________________________________________________\n"
     ]
    },
    {
     "name": "stderr",
     "output_type": "stream",
     "text": [
      "2022-04-14 11:17:50.038025: I tensorflow/core/platform/cpu_feature_guard.cc:151] This TensorFlow binary is optimized with oneAPI Deep Neural Network Library (oneDNN) to use the following CPU instructions in performance-critical operations:  SSE4.1 SSE4.2\n",
      "To enable them in other operations, rebuild TensorFlow with the appropriate compiler flags.\n"
     ]
    }
   ],
   "source": [
    "# create tensorflow model\n",
    "model_simpleRNN = Sequential([ \n",
    "    SimpleRNN(20, return_sequences=True, input_shape=[None, 2]),\n",
    "    SimpleRNN(20),\n",
    "    Dense(4, activation=\"softmax\")\n",
    "    ])\n",
    "\n",
    "learning_rate = 0.001\n",
    "model_simpleRNN.compile(loss=\"categorical_crossentropy\", optimizer=Adam(learning_rate), metrics=[\"accuracy\"]) # sparse_categorical_crossentropy\n",
    "\n",
    "model_simpleRNN.summary()"
   ]
  },
  {
   "cell_type": "code",
   "execution_count": 8,
   "metadata": {},
   "outputs": [
    {
     "name": "stdout",
     "output_type": "stream",
     "text": [
      "Epoch 1/20\n",
      "88/88 [==============================] - 269s 3s/step - loss: 1.3946 - accuracy: 0.2875 - val_loss: 1.3668 - val_accuracy: 0.3667\n",
      "Epoch 2/20\n",
      "88/88 [==============================] - 261s 3s/step - loss: 1.3470 - accuracy: 0.3371 - val_loss: 1.3255 - val_accuracy: 0.3700\n",
      "Epoch 3/20\n",
      "88/88 [==============================] - 255s 3s/step - loss: 1.3102 - accuracy: 0.3821 - val_loss: 1.2806 - val_accuracy: 0.4117\n",
      "Epoch 4/20\n",
      "88/88 [==============================] - 272s 3s/step - loss: 1.2482 - accuracy: 0.4446 - val_loss: 1.2065 - val_accuracy: 0.4733\n",
      "Epoch 5/20\n",
      "88/88 [==============================] - 263s 3s/step - loss: 1.1484 - accuracy: 0.5332 - val_loss: 1.0762 - val_accuracy: 0.5517\n",
      "Epoch 6/20\n",
      "88/88 [==============================] - 263s 3s/step - loss: 1.0310 - accuracy: 0.5600 - val_loss: 0.9803 - val_accuracy: 0.5917\n",
      "Epoch 7/20\n",
      "88/88 [==============================] - 261s 3s/step - loss: 0.9353 - accuracy: 0.6171 - val_loss: 0.9073 - val_accuracy: 0.6367\n",
      "Epoch 8/20\n",
      "88/88 [==============================] - 262s 3s/step - loss: 0.8786 - accuracy: 0.6532 - val_loss: 0.8662 - val_accuracy: 0.6400\n",
      "Epoch 9/20\n",
      "88/88 [==============================] - 271s 3s/step - loss: 0.8418 - accuracy: 0.6714 - val_loss: 0.8212 - val_accuracy: 0.6633\n",
      "Epoch 10/20\n",
      "88/88 [==============================] - 262s 3s/step - loss: 0.8198 - accuracy: 0.6825 - val_loss: 0.8050 - val_accuracy: 0.6850\n",
      "Epoch 11/20\n",
      "88/88 [==============================] - 260s 3s/step - loss: 0.7851 - accuracy: 0.6975 - val_loss: 0.7635 - val_accuracy: 0.7017\n",
      "Epoch 12/20\n",
      "88/88 [==============================] - 270s 3s/step - loss: 0.7623 - accuracy: 0.7086 - val_loss: 0.7593 - val_accuracy: 0.7100\n",
      "Epoch 13/20\n",
      "88/88 [==============================] - 260s 3s/step - loss: 0.7550 - accuracy: 0.7107 - val_loss: 0.7373 - val_accuracy: 0.7100\n",
      "Epoch 14/20\n",
      "88/88 [==============================] - 255s 3s/step - loss: 0.7352 - accuracy: 0.7168 - val_loss: 0.7378 - val_accuracy: 0.7083\n",
      "Epoch 15/20\n",
      "88/88 [==============================] - 800s 9s/step - loss: 0.7191 - accuracy: 0.7257 - val_loss: 0.7615 - val_accuracy: 0.7050\n",
      "Epoch 16/20\n",
      "88/88 [==============================] - 262s 3s/step - loss: 0.7297 - accuracy: 0.7225 - val_loss: 0.7565 - val_accuracy: 0.6917\n",
      "Epoch 17/20\n",
      "88/88 [==============================] - 265s 3s/step - loss: 0.7147 - accuracy: 0.7282 - val_loss: 0.7332 - val_accuracy: 0.7133\n",
      "Epoch 18/20\n",
      "88/88 [==============================] - 269s 3s/step - loss: 0.6862 - accuracy: 0.7414 - val_loss: 0.7492 - val_accuracy: 0.7033\n",
      "Epoch 19/20\n",
      "88/88 [==============================] - 264s 3s/step - loss: 0.6978 - accuracy: 0.7318 - val_loss: 0.7332 - val_accuracy: 0.7033\n",
      "Epoch 20/20\n",
      "88/88 [==============================] - 272s 3s/step - loss: 0.6900 - accuracy: 0.7429 - val_loss: 0.7184 - val_accuracy: 0.7133\n"
     ]
    }
   ],
   "source": [
    "epochs = 20 \n",
    "# early_stopping_cb = tf.keras.callbacks.EarlyStopping(patience = 5, restore_best_weights=True)\n",
    "log_simpleRNN = model_simpleRNN.fit(merged_array_trn, y_train, \n",
    "                epochs=epochs,\n",
    "                validation_data=(merged_array_val, y_val),\n",
    "                # callbacks = [early_stopping_cb]\n",
    "                )\n",
    "# log.history['loss']"
   ]
  },
  {
   "cell_type": "code",
   "execution_count": 9,
   "metadata": {},
   "outputs": [
    {
     "data": {
      "image/png": "[encoded data removed]",
      "text/plain": [
       "<Figure size 432x288 with 1 Axes>"
      ]
     },
     "metadata": {
      "needs_background": "light"
     },
     "output_type": "display_data"
    }
   ],
   "source": [
    "plt.plot(log_simpleRNN.history['loss'],label = \"training loss\",color='darkgreen')\n",
    "plt.plot(log_simpleRNN.history['val_loss'], label = \"validation loss\",color='darkblue')\n",
    "plt.legend()\n",
    "ax = plt.gca()\n",
    "plt.show()"
   ]
  },
  {
   "cell_type": "markdown",
   "metadata": {},
   "source": [
    "#### Method 2: LSTM"
   ]
  },
  {
   "cell_type": "markdown",
   "metadata": {},
   "source": [
    "1. Compare LSTMs to SimpleRNN, as mentioned in our method1: RNN has the problem that it cannot solve long-term dependencies. In order to solve the above problems, LSTM (Long Short-Term Memory) is proposed, which realizes the temporal memory function and prevents the gradient from disappearing by switching the cell gate (input, output, and forget gate and through the sigmiod function to decide).\n",
    "2. Disadvantages: Due to the relatively complex internal structure, the training efficiency is much lower than that of simpleRNN under the same computing power.\n",
    "\n",
    "It is worth noting here that in order to allow simpleRNN, LSTM, and GRU to be compared and because of time efficiency, we set the Epoch of the four methods to 20 (because simpleRNN will not continue to grow when the epoch is almost 20). ). We also tried LSTM with 30 epochs and set early_stopping_cb, its accuracy is about 0.63\n",
    "\n",
    " With 20 epcchs, we can observe\n",
    " 1. loss: 0.8763 \n",
    " 2. accuracy: 0.6164 \n",
    " 3. val_loss: 0.9074 \n",
    " 4. val_accuracy: 0.6067 \n",
    " 5. The execution time of each epoch is about 420 seconds"
   ]
  },
  {
   "cell_type": "code",
   "execution_count": 191,
   "metadata": {},
   "outputs": [],
   "source": [
    "# clean sessions and set seeds\n",
    "tf.keras.backend.clear_session()\n",
    "np.random.seed(231)\n",
    "tf.random.set_seed(631)"
   ]
  },
  {
   "cell_type": "code",
   "execution_count": 74,
   "metadata": {},
   "outputs": [
    {
     "name": "stdout",
     "output_type": "stream",
     "text": [
      "Model: \"sequential\"\n",
      "_________________________________________________________________\n",
      " Layer (type)                Output Shape              Param #   \n",
      "=================================================================\n",
      " lstm (LSTM)                 (None, None, 20)          1840      \n",
      "                                                                 \n",
      " lstm_1 (LSTM)               (None, 20)                3280      \n",
      "                                                                 \n",
      " dense (Dense)               (None, 4)                 84        \n",
      "                                                                 \n",
      "=================================================================\n",
      "Total params: 5,204\n",
      "Trainable params: 5,204\n",
      "Non-trainable params: 0\n",
      "_________________________________________________________________\n"
     ]
    }
   ],
   "source": [
    "model_LSTM = Sequential([\n",
    "    LSTM(20, return_sequences=True, input_shape=[None, 2]),\n",
    "    #BatchNormalization(), # We tried it and it didn't make much difference\n",
    "    LSTM(20,input_shape=[None, 2]),\n",
    "    Dense(4, activation=\"softmax\")\n",
    "])\n",
    "\n",
    "learning_rate = 0.001\n",
    "model_LSTM.compile(loss=\"categorical_crossentropy\", optimizer=Adam(learning_rate), metrics=[\"accuracy\"])\n",
    "\n",
    "model_LSTM.summary()"
   ]
  },
  {
   "cell_type": "code",
   "execution_count": 75,
   "metadata": {},
   "outputs": [
    {
     "name": "stdout",
     "output_type": "stream",
     "text": [
      "Epoch 1/20\n",
      "88/88 [==============================] - 3445s 40s/step - loss: 1.3717 - accuracy: 0.3225 - val_loss: 1.2946 - val_accuracy: 0.3967\n",
      "Epoch 2/20\n",
      "88/88 [==============================] - 418s 5s/step - loss: 1.2771 - accuracy: 0.4114 - val_loss: 1.2475 - val_accuracy: 0.4317\n",
      "Epoch 3/20\n",
      "88/88 [==============================] - 416s 5s/step - loss: 1.2421 - accuracy: 0.4318 - val_loss: 1.2191 - val_accuracy: 0.4433\n",
      "Epoch 4/20\n",
      "88/88 [==============================] - 416s 5s/step - loss: 1.2211 - accuracy: 0.4432 - val_loss: 1.2107 - val_accuracy: 0.4550\n",
      "Epoch 5/20\n",
      "88/88 [==============================] - 415s 5s/step - loss: 1.2049 - accuracy: 0.4504 - val_loss: 1.1969 - val_accuracy: 0.4450\n",
      "Epoch 6/20\n",
      "88/88 [==============================] - 416s 5s/step - loss: 1.2089 - accuracy: 0.4550 - val_loss: 1.1949 - val_accuracy: 0.4550\n",
      "Epoch 7/20\n",
      "88/88 [==============================] - 420s 5s/step - loss: 1.1877 - accuracy: 0.4686 - val_loss: 1.2186 - val_accuracy: 0.4367\n",
      "Epoch 8/20\n",
      "88/88 [==============================] - 418s 5s/step - loss: 1.1837 - accuracy: 0.4771 - val_loss: 1.1727 - val_accuracy: 0.4550\n",
      "Epoch 9/20\n",
      "88/88 [==============================] - 418s 5s/step - loss: 1.1587 - accuracy: 0.4921 - val_loss: 1.1686 - val_accuracy: 0.4617\n",
      "Epoch 10/20\n",
      "88/88 [==============================] - 417s 5s/step - loss: 1.1518 - accuracy: 0.4843 - val_loss: 1.1298 - val_accuracy: 0.4717\n",
      "Epoch 11/20\n",
      "88/88 [==============================] - 414s 5s/step - loss: 1.1262 - accuracy: 0.4900 - val_loss: 1.1016 - val_accuracy: 0.5050\n",
      "Epoch 12/20\n",
      "88/88 [==============================] - 420s 5s/step - loss: 1.1204 - accuracy: 0.5118 - val_loss: 1.2265 - val_accuracy: 0.4350\n",
      "Epoch 13/20\n",
      "88/88 [==============================] - 415s 5s/step - loss: 1.1212 - accuracy: 0.5086 - val_loss: 1.1657 - val_accuracy: 0.4783\n",
      "Epoch 14/20\n",
      "88/88 [==============================] - 417s 5s/step - loss: 1.0564 - accuracy: 0.5446 - val_loss: 1.0406 - val_accuracy: 0.5517\n",
      "Epoch 15/20\n",
      "88/88 [==============================] - 417s 5s/step - loss: 1.0082 - accuracy: 0.5614 - val_loss: 1.0722 - val_accuracy: 0.5317\n",
      "Epoch 16/20\n",
      "88/88 [==============================] - 420s 5s/step - loss: 0.9992 - accuracy: 0.5675 - val_loss: 1.0119 - val_accuracy: 0.5367\n",
      "Epoch 17/20\n",
      "88/88 [==============================] - 443s 5s/step - loss: 0.9675 - accuracy: 0.5789 - val_loss: 0.9707 - val_accuracy: 0.5833\n",
      "Epoch 18/20\n",
      "88/88 [==============================] - 432s 5s/step - loss: 0.9404 - accuracy: 0.5911 - val_loss: 0.9995 - val_accuracy: 0.5417\n",
      "Epoch 19/20\n",
      "88/88 [==============================] - 464s 5s/step - loss: 0.8945 - accuracy: 0.6107 - val_loss: 0.9583 - val_accuracy: 0.5617\n",
      "Epoch 20/20\n",
      "88/88 [==============================] - 418s 5s/step - loss: 0.8763 - accuracy: 0.6164 - val_loss: 0.9074 - val_accuracy: 0.6067\n"
     ]
    }
   ],
   "source": [
    "epochs = 20\n",
    "# early_stopping_cb = tf.keras.callbacks.EarlyStopping(patience = 5, restore_best_weights=True)\n",
    "log_LSTM= model_LSTM.fit(merged_array_trn, y_train, \n",
    "                epochs=epochs,\n",
    "                validation_data=(merged_array_val, y_val),\n",
    "                # callbacks = [early_stopping_cb]\n",
    "                )"
   ]
  },
  {
   "cell_type": "code",
   "execution_count": 76,
   "metadata": {},
   "outputs": [
    {
     "data": {
      "image/png": "[encoded data removed]",
      "text/plain": [
       "<Figure size 432x288 with 1 Axes>"
      ]
     },
     "metadata": {
      "needs_background": "light"
     },
     "output_type": "display_data"
    }
   ],
   "source": [
    "plt.plot(log_LSTM.history['loss'],label = \"training loss\",color='darkgreen')\n",
    "plt.plot(log_LSTM.history['val_loss'], label = \"validation loss\",color='darkblue')\n",
    "plt.legend()\n",
    "ax = plt.gca()\n",
    "plt.show()"
   ]
  },
  {
   "cell_type": "markdown",
   "metadata": {},
   "source": [
    "#### Method 3: GRU"
   ]
  },
  {
   "cell_type": "markdown",
   "metadata": {},
   "source": [
    "Compare GRU to LSTMs:\\\n",
    "GRU: two gates (reset and update gates)\\\n",
    "LSTMs: three gates (input, output and forget gates)\\\n",
    "1. As method2 said, the problem of LSTM is that the execution speed is slow, so GRU replaces the forget gate and input gate in LSTM with an update gate, and merges the cell state (cell state) and the hidden state (ht)\n",
    "2. So theoretically, Gated Recurrent Unit is used to speed up execution and reduce mem\n",
    "\n",
    " With 20 epcchs, we can observe \n",
    " 1. loss: 0.7023 \n",
    " 2. accuracy: 0.7196 \n",
    " 3. val_loss: 0.7825 \n",
    " 4. val_accuracy: 0.6833 \n",
    " 5. The execution time of each epoch is about 450 seconds\n",
    "\n",
    "From the actual execution results of GRU and LSTM, it can be found that there is little difference between GRU and LSTM (apporximately 420 second per epoch) in execution seconds, and even GRU is slightly slower (apporximately 450 second per epoch), although there is a theoretical difference. slightly contradictory\n",
    "1. Many articles have stated that LSTM and GRU have advantages and disadvantages in different materials and tasks, depending on the situation.\n",
    "2. But it may be due to the computer cache (we ran LSTM first and then GRU, and did not restart Kernal), causing GRU to be relatively slow\n",
    "But in general, the difference between the two models is not large, both of which are used to improve the problem of simpleRNN's poor performance in long-term memory, and even the accuracy of GRU will be higher, so we apply GRU to the RNN optimal model below."
   ]
  },
  {
   "cell_type": "code",
   "execution_count": 77,
   "metadata": {},
   "outputs": [],
   "source": [
    "# clean sessions and set seeds\n",
    "tf.keras.backend.clear_session()\n",
    "np.random.seed(231)\n",
    "tf.random.set_seed(631)"
   ]
  },
  {
   "cell_type": "code",
   "execution_count": 78,
   "metadata": {},
   "outputs": [
    {
     "name": "stdout",
     "output_type": "stream",
     "text": [
      "Model: \"sequential\"\n",
      "_________________________________________________________________\n",
      " Layer (type)                Output Shape              Param #   \n",
      "=================================================================\n",
      " gru (GRU)                   (None, None, 20)          1440      \n",
      "                                                                 \n",
      " gru_1 (GRU)                 (None, 20)                2520      \n",
      "                                                                 \n",
      " dense (Dense)               (None, 4)                 84        \n",
      "                                                                 \n",
      "=================================================================\n",
      "Total params: 4,044\n",
      "Trainable params: 4,044\n",
      "Non-trainable params: 0\n",
      "_________________________________________________________________\n"
     ]
    }
   ],
   "source": [
    "model_GRU = Sequential([\n",
    "    GRU(20, return_sequences=True, input_shape=[None, 2]),\n",
    "    GRU(20),\n",
    "    Dense(4, activation=\"softmax\")\n",
    "])\n",
    "\n",
    "learning_rate = 0.001\n",
    "model_GRU.compile(loss=\"categorical_crossentropy\", optimizer=Adam(learning_rate), metrics=[\"accuracy\"])\n",
    "\n",
    "model_GRU.summary()"
   ]
  },
  {
   "cell_type": "code",
   "execution_count": 79,
   "metadata": {},
   "outputs": [
    {
     "name": "stdout",
     "output_type": "stream",
     "text": [
      "Epoch 1/20\n",
      "88/88 [==============================] - 452s 5s/step - loss: 1.3773 - accuracy: 0.2889 - val_loss: 1.3585 - val_accuracy: 0.3283\n",
      "Epoch 2/20\n",
      "88/88 [==============================] - 442s 5s/step - loss: 1.3253 - accuracy: 0.3554 - val_loss: 1.3039 - val_accuracy: 0.3600\n",
      "Epoch 3/20\n",
      "88/88 [==============================] - 451s 5s/step - loss: 1.2621 - accuracy: 0.4039 - val_loss: 1.2781 - val_accuracy: 0.3267\n",
      "Epoch 4/20\n",
      "88/88 [==============================] - 450s 5s/step - loss: 1.1885 - accuracy: 0.4639 - val_loss: 1.1654 - val_accuracy: 0.4517\n",
      "Epoch 5/20\n",
      "88/88 [==============================] - 449s 5s/step - loss: 1.1459 - accuracy: 0.4954 - val_loss: 1.1128 - val_accuracy: 0.4867\n",
      "Epoch 6/20\n",
      "88/88 [==============================] - 452s 5s/step - loss: 1.1028 - accuracy: 0.5143 - val_loss: 1.0719 - val_accuracy: 0.5183\n",
      "Epoch 7/20\n",
      "88/88 [==============================] - 448s 5s/step - loss: 1.0683 - accuracy: 0.5257 - val_loss: 1.0855 - val_accuracy: 0.5183\n",
      "Epoch 8/20\n",
      "88/88 [==============================] - 452s 5s/step - loss: 1.0399 - accuracy: 0.5400 - val_loss: 1.0438 - val_accuracy: 0.5183\n",
      "Epoch 9/20\n",
      "88/88 [==============================] - 450s 5s/step - loss: 1.0232 - accuracy: 0.5550 - val_loss: 1.0168 - val_accuracy: 0.5533\n",
      "Epoch 10/20\n",
      "88/88 [==============================] - 449s 5s/step - loss: 0.9899 - accuracy: 0.5771 - val_loss: 0.9565 - val_accuracy: 0.5833\n",
      "Epoch 11/20\n",
      "88/88 [==============================] - 449s 5s/step - loss: 0.9650 - accuracy: 0.5836 - val_loss: 1.0378 - val_accuracy: 0.5600\n",
      "Epoch 12/20\n",
      "88/88 [==============================] - 450s 5s/step - loss: 0.9328 - accuracy: 0.6054 - val_loss: 0.9180 - val_accuracy: 0.5800\n",
      "Epoch 13/20\n",
      "88/88 [==============================] - 889s 10s/step - loss: 0.8889 - accuracy: 0.6239 - val_loss: 0.9056 - val_accuracy: 0.6217\n",
      "Epoch 14/20\n",
      "88/88 [==============================] - 447s 5s/step - loss: 0.8582 - accuracy: 0.6464 - val_loss: 0.8556 - val_accuracy: 0.6233\n",
      "Epoch 15/20\n",
      "88/88 [==============================] - 452s 5s/step - loss: 0.8223 - accuracy: 0.6614 - val_loss: 0.8333 - val_accuracy: 0.6450\n",
      "Epoch 16/20\n",
      "88/88 [==============================] - 447s 5s/step - loss: 0.8032 - accuracy: 0.6686 - val_loss: 0.8103 - val_accuracy: 0.6467\n",
      "Epoch 17/20\n",
      "88/88 [==============================] - 449s 5s/step - loss: 0.7663 - accuracy: 0.6871 - val_loss: 0.7806 - val_accuracy: 0.6617\n",
      "Epoch 18/20\n",
      "88/88 [==============================] - 452s 5s/step - loss: 0.7323 - accuracy: 0.6989 - val_loss: 0.8097 - val_accuracy: 0.6667\n",
      "Epoch 19/20\n",
      "88/88 [==============================] - 449s 5s/step - loss: 0.7373 - accuracy: 0.6932 - val_loss: 0.7474 - val_accuracy: 0.6867\n",
      "Epoch 20/20\n",
      "88/88 [==============================] - 465s 5s/step - loss: 0.7023 - accuracy: 0.7196 - val_loss: 0.7825 - val_accuracy: 0.6833\n"
     ]
    }
   ],
   "source": [
    "epochs = 20\n",
    "# early_stopping_cb = tf.keras.callbacks.EarlyStopping(patience = 5, restore_best_weights=True)\n",
    "log_GRU= model_GRU.fit(merged_array_trn, y_train, \n",
    "                epochs=epochs,\n",
    "                validation_data=(merged_array_val, y_val),\n",
    "                # callbacks = [early_stopping_cb]\n",
    "                )"
   ]
  },
  {
   "cell_type": "code",
   "execution_count": 80,
   "metadata": {},
   "outputs": [
    {
     "data": {
      "image/png": "[encoded data removed]",
      "text/plain": [
       "<Figure size 432x288 with 1 Axes>"
      ]
     },
     "metadata": {
      "needs_background": "light"
     },
     "output_type": "display_data"
    }
   ],
   "source": [
    "plt.plot(log_GRU.history['loss'],label = \"training loss\",color='darkgreen')\n",
    "plt.plot(log_GRU.history['val_loss'], label = \"validation loss\",color='darkblue')\n",
    "plt.legend()\n",
    "ax = plt.gca()\n",
    "plt.show()"
   ]
  },
  {
   "cell_type": "markdown",
   "metadata": {},
   "source": [
    "### Based on the BenchMark to add more layers into our model"
   ]
  },
  {
   "cell_type": "markdown",
   "metadata": {},
   "source": [
    "#### Better performing model: Mixing with one input layer of Conv1D and 2 layer of GRU"
   ]
  },
  {
   "cell_type": "markdown",
   "metadata": {},
   "source": [
    "When we are using GRU or LSTM, the biggest problem is that the execution time is too long. At this time, we can use One-dimensional Convolutional Layer to reduce dimensions :\n",
    "1. kernel_size=4 is equivalent to a 4*4 kernel array, filter into a unit of features.\n",
    "2. strides=2 means that every time the next filter is taken down, the index needs an interval of 2\n",
    "3. for instance: (6*6 image)*(3*3 kernel with 1 strides) would have the output of (4*4 image)\n",
    "\n",
    "You can think of the current input as data that is no longer a time series, but a photo with only one dimension. By Conv1D, we could extract features from sequences of times without missing the signals. Simultaneously drop down the input to the next layers and increasing the computing efficiency\n",
    "\n",
    " With 20 epcchs, we can observe \n",
    " 1. loss: 0.7023 \n",
    " 2. accuracy: 0.7196 \n",
    " 3. val_loss: 0.7825 \n",
    " 4. val_accuracy: 0.6833 \n",
    " 5. The execution time of each epoch is about 450 seconds\n",
    "\n",
    "Compared with only GRU or LSTM, we can find that the accuracy rate has indeed improved a lot, but the overall efficiency is still insufficient. The purpose of Conv1D is to improve the efficiency without missing the extracted features. So we think one more Conv1D layer can reduce the dimensions and also improve the accuracy and efficiency."
   ]
  },
  {
   "cell_type": "code",
   "execution_count": 192,
   "metadata": {},
   "outputs": [],
   "source": [
    "# clean sessions and set seeds\n",
    "tf.keras.backend.clear_session()\n",
    "np.random.seed(231)\n",
    "tf.random.set_seed(631)"
   ]
  },
  {
   "cell_type": "code",
   "execution_count": 193,
   "metadata": {},
   "outputs": [
    {
     "name": "stdout",
     "output_type": "stream",
     "text": [
      "Model: \"sequential\"\n",
      "_________________________________________________________________\n",
      " Layer (type)                Output Shape              Param #   \n",
      "=================================================================\n",
      " conv1d (Conv1D)             (None, None, 20)          180       \n",
      "                                                                 \n",
      " gru (GRU)                   (None, None, 20)          2520      \n",
      "                                                                 \n",
      " gru_1 (GRU)                 (None, 20)                2520      \n",
      "                                                                 \n",
      " dense (Dense)               (None, 4)                 84        \n",
      "                                                                 \n",
      "=================================================================\n",
      "Total params: 5,304\n",
      "Trainable params: 5,304\n",
      "Non-trainable params: 0\n",
      "_________________________________________________________________\n"
     ]
    }
   ],
   "source": [
    "model_1D_GRU = Sequential([\n",
    "    Conv1D(filters=20, kernel_size=4, strides=2, padding=\"valid\",input_shape=[None, 2]), # kernel_size=4, It means that there are four time points values are combined into one unit\n",
    "    #BatchNormalization(), # We tried it and it didn't make much difference\n",
    "    GRU(20, return_sequences=True, input_shape=[None, 2]),\n",
    "    GRU(20),\n",
    "    Dense(4, activation=\"softmax\")\n",
    "])\n",
    "\n",
    "learning_rate = 0.001\n",
    "model_1D_GRU.compile(loss=\"categorical_crossentropy\", optimizer=Adam(learning_rate), metrics=[\"accuracy\"])\n",
    "\n",
    "model_1D_GRU.summary()\n"
   ]
  },
  {
   "cell_type": "code",
   "execution_count": 194,
   "metadata": {},
   "outputs": [
    {
     "name": "stdout",
     "output_type": "stream",
     "text": [
      "Epoch 1/20\n",
      "88/88 [==============================] - 229s 3s/step - loss: 1.3451 - accuracy: 0.3500 - val_loss: 1.3003 - val_accuracy: 0.4217\n",
      "Epoch 2/20\n",
      "88/88 [==============================] - 223s 3s/step - loss: 1.2370 - accuracy: 0.4854 - val_loss: 1.2066 - val_accuracy: 0.4950\n",
      "Epoch 3/20\n",
      "88/88 [==============================] - 222s 3s/step - loss: 1.1295 - accuracy: 0.5543 - val_loss: 1.1616 - val_accuracy: 0.4867\n",
      "Epoch 4/20\n",
      "88/88 [==============================] - 224s 3s/step - loss: 1.0094 - accuracy: 0.6021 - val_loss: 0.9376 - val_accuracy: 0.6233\n",
      "Epoch 5/20\n",
      "88/88 [==============================] - 221s 3s/step - loss: 0.8876 - accuracy: 0.6364 - val_loss: 0.8209 - val_accuracy: 0.6633\n",
      "Epoch 6/20\n",
      "88/88 [==============================] - 218s 2s/step - loss: 0.7966 - accuracy: 0.6807 - val_loss: 0.7412 - val_accuracy: 0.6933\n",
      "Epoch 7/20\n",
      "88/88 [==============================] - 222s 3s/step - loss: 0.7024 - accuracy: 0.7243 - val_loss: 0.6962 - val_accuracy: 0.6917\n",
      "Epoch 8/20\n",
      "88/88 [==============================] - 215s 2s/step - loss: 0.6569 - accuracy: 0.7364 - val_loss: 0.6915 - val_accuracy: 0.7150\n",
      "Epoch 9/20\n",
      "88/88 [==============================] - 223s 3s/step - loss: 0.6090 - accuracy: 0.7564 - val_loss: 0.5949 - val_accuracy: 0.7600\n",
      "Epoch 10/20\n",
      "88/88 [==============================] - 221s 3s/step - loss: 0.5634 - accuracy: 0.7857 - val_loss: 0.6221 - val_accuracy: 0.7717\n",
      "Epoch 11/20\n",
      "88/88 [==============================] - 220s 3s/step - loss: 0.5569 - accuracy: 0.7904 - val_loss: 0.5692 - val_accuracy: 0.7800\n",
      "Epoch 12/20\n",
      "88/88 [==============================] - 226s 3s/step - loss: 0.4960 - accuracy: 0.8129 - val_loss: 0.5444 - val_accuracy: 0.7783\n",
      "Epoch 13/20\n",
      "88/88 [==============================] - 229s 3s/step - loss: 0.4731 - accuracy: 0.8257 - val_loss: 0.5292 - val_accuracy: 0.7917\n",
      "Epoch 14/20\n",
      "88/88 [==============================] - 227s 3s/step - loss: 0.4595 - accuracy: 0.8264 - val_loss: 0.5068 - val_accuracy: 0.7900\n",
      "Epoch 15/20\n",
      "88/88 [==============================] - 215s 2s/step - loss: 0.4296 - accuracy: 0.8389 - val_loss: 0.5037 - val_accuracy: 0.7933\n",
      "Epoch 16/20\n",
      "88/88 [==============================] - 223s 3s/step - loss: 0.4087 - accuracy: 0.8507 - val_loss: 0.4852 - val_accuracy: 0.8017\n",
      "Epoch 17/20\n",
      "88/88 [==============================] - 222s 3s/step - loss: 0.4040 - accuracy: 0.8518 - val_loss: 0.4784 - val_accuracy: 0.8117\n",
      "Epoch 18/20\n",
      "88/88 [==============================] - 231s 3s/step - loss: 0.3856 - accuracy: 0.8568 - val_loss: 0.5021 - val_accuracy: 0.8050\n",
      "Epoch 19/20\n",
      "88/88 [==============================] - 231s 3s/step - loss: 0.3733 - accuracy: 0.8639 - val_loss: 0.5056 - val_accuracy: 0.7933\n",
      "Epoch 20/20\n",
      "88/88 [==============================] - 228s 3s/step - loss: 0.3638 - accuracy: 0.8696 - val_loss: 0.4960 - val_accuracy: 0.8117\n"
     ]
    }
   ],
   "source": [
    "epochs = 20\n",
    "early_stopping_cb = tf.keras.callbacks.EarlyStopping(patience = 5, restore_best_weights=True)\n",
    "log_1D_GRU= model_1D_GRU.fit(merged_array_trn, y_train, \n",
    "                epochs=epochs,\n",
    "                validation_data=(merged_array_val, y_val),\n",
    "                callbacks = [early_stopping_cb]\n",
    "                )"
   ]
  },
  {
   "cell_type": "code",
   "execution_count": 195,
   "metadata": {},
   "outputs": [
    {
     "data": {
      "image/png": "[encoded data removed]",
      "text/plain": [
       "<Figure size 432x288 with 1 Axes>"
      ]
     },
     "metadata": {
      "needs_background": "light"
     },
     "output_type": "display_data"
    }
   ],
   "source": [
    "plt.plot(log_1D_GRU.history['loss'],label = \"training loss\",color='darkgreen')\n",
    "plt.plot(log_1D_GRU.history['val_loss'], label = \"validation loss\",color='darkblue')\n",
    "plt.legend()\n",
    "ax = plt.gca()\n",
    "plt.show()"
   ]
  },
  {
   "cell_type": "markdown",
   "metadata": {},
   "source": [
    "#### Optimal model1: 3 layer Conv1D + 2 layer of GRU\n",
    "As mentioned above, adding a layer of Conv1D layer can lead to an increase in the accuracy of the model. However, the effect of efficiency by adding one layer is not the best at present. After continuous testing, it is matched with GRU layers:\n",
    "1. Add two layers of Conv1D to improve the efficiency of the model, and observe the changes in accuracy and loss at the same time to confirm that the accuracy of the model has not decreased\n",
    "2. Increase the number of units of GRU to 150 (compared with the original 20 for both layers, its accuracy is increased by 3% on validation set)\n",
    "In general, such adjustments can improve the efficiency of the model and improve the accuracy of the model, and the results are as follows, and are recorded back into the dataframe\n",
    "\n",
    " With 20 epcchs, we can observe \n",
    " 1. loss: 0.1531 \n",
    " 2. accuracy: 0.9307 \n",
    " 3. val_loss: 0.3225 \n",
    " 4. val_accuracy: 0.8567 \n",
    " 5. The execution time of each epoch is about 74 seconds\n"
   ]
  },
  {
   "cell_type": "markdown",
   "metadata": {},
   "source": [
    "1. Compared with the previous model, both val_accuracy and val_loss have been significantly improved: it is confirmed that the effect of adding two new Conv1D layers does not reduce the accuracy of the model\n",
    "2. The number of units in the GRU layer is increased by 150, and the accuracy is increased by 3%\n",
    "3. In terms of time, from the original 210 seconds to 74 seconds per epoch\n",
    "\n",
    "Overall, this RNN model performs well"
   ]
  },
  {
   "cell_type": "code",
   "execution_count": 145,
   "metadata": {},
   "outputs": [],
   "source": [
    "# clean sessions and set seeds\n",
    "tf.keras.backend.clear_session()\n",
    "np.random.seed(231)\n",
    "tf.random.set_seed(631)"
   ]
  },
  {
   "cell_type": "code",
   "execution_count": 146,
   "metadata": {},
   "outputs": [
    {
     "name": "stdout",
     "output_type": "stream",
     "text": [
      "Model: \"sequential\"\n",
      "_________________________________________________________________\n",
      " Layer (type)                Output Shape              Param #   \n",
      "=================================================================\n",
      " conv1d (Conv1D)             (None, None, 20)          180       \n",
      "                                                                 \n",
      " conv1d_1 (Conv1D)           (None, None, 20)          1620      \n",
      "                                                                 \n",
      " conv1d_2 (Conv1D)           (None, None, 20)          1620      \n",
      "                                                                 \n",
      " gru (GRU)                   (None, None, 150)         77400     \n",
      "                                                                 \n",
      " gru_1 (GRU)                 (None, 20)                10320     \n",
      "                                                                 \n",
      " dense (Dense)               (None, 4)                 84        \n",
      "                                                                 \n",
      "=================================================================\n",
      "Total params: 91,224\n",
      "Trainable params: 91,224\n",
      "Non-trainable params: 0\n",
      "_________________________________________________________________\n"
     ]
    }
   ],
   "source": [
    "model_optimal = Sequential([\n",
    "    Conv1D(filters=20, kernel_size=4, strides=2, padding=\"valid\",input_shape=[None, 2]),\n",
    "    Conv1D(filters=20, kernel_size=4, strides=2, padding=\"valid\",input_shape=[None, 2]), #new added\n",
    "    Conv1D(filters=20, kernel_size=4, strides=2, padding=\"valid\",input_shape=[None, 2]), #new added\n",
    "    GRU(150, return_sequences=True, input_shape=[None, 2]), # new added with 150 neurons\n",
    "    GRU(20),\n",
    "    Dense(4, activation=\"softmax\")\n",
    "])\n",
    "\n",
    "learning_rate = 0.001\n",
    "model_optimal.compile(loss=\"categorical_crossentropy\", optimizer=Adam(learning_rate), metrics=[\"accuracy\"]) \n",
    "\n",
    "model_optimal.summary()"
   ]
  },
  {
   "cell_type": "code",
   "execution_count": 147,
   "metadata": {},
   "outputs": [
    {
     "name": "stdout",
     "output_type": "stream",
     "text": [
      "Epoch 1/20\n",
      "88/88 [==============================] - 83s 905ms/step - loss: 1.0899 - accuracy: 0.5400 - val_loss: 0.8148 - val_accuracy: 0.6433\n",
      "Epoch 2/20\n",
      "88/88 [==============================] - 78s 883ms/step - loss: 0.5839 - accuracy: 0.8025 - val_loss: 0.4479 - val_accuracy: 0.8450\n",
      "Epoch 3/20\n",
      "88/88 [==============================] - 75s 853ms/step - loss: 0.3263 - accuracy: 0.8918 - val_loss: 0.3169 - val_accuracy: 0.8833\n",
      "Epoch 4/20\n",
      "88/88 [==============================] - 77s 874ms/step - loss: 0.2959 - accuracy: 0.8871 - val_loss: 0.3571 - val_accuracy: 0.8700\n",
      "Epoch 5/20\n",
      "88/88 [==============================] - 74s 838ms/step - loss: 0.2728 - accuracy: 0.8993 - val_loss: 0.2972 - val_accuracy: 0.8800\n",
      "Epoch 6/20\n",
      "88/88 [==============================] - 1059s 12s/step - loss: 0.2411 - accuracy: 0.9043 - val_loss: 0.2655 - val_accuracy: 0.8850\n",
      "Epoch 7/20\n",
      "88/88 [==============================] - 78s 886ms/step - loss: 0.2251 - accuracy: 0.9086 - val_loss: 0.2629 - val_accuracy: 0.8883\n",
      "Epoch 8/20\n",
      "88/88 [==============================] - 75s 849ms/step - loss: 0.2098 - accuracy: 0.9100 - val_loss: 0.2624 - val_accuracy: 0.8867\n",
      "Epoch 9/20\n",
      "88/88 [==============================] - 75s 848ms/step - loss: 0.2148 - accuracy: 0.9082 - val_loss: 0.2724 - val_accuracy: 0.8833\n",
      "Epoch 10/20\n",
      "88/88 [==============================] - 74s 841ms/step - loss: 0.2078 - accuracy: 0.9100 - val_loss: 0.2839 - val_accuracy: 0.8867\n",
      "Epoch 11/20\n",
      "88/88 [==============================] - 74s 839ms/step - loss: 0.2051 - accuracy: 0.9132 - val_loss: 0.2737 - val_accuracy: 0.8817\n",
      "Epoch 12/20\n",
      "88/88 [==============================] - 74s 845ms/step - loss: 0.1943 - accuracy: 0.9139 - val_loss: 0.3074 - val_accuracy: 0.8750\n",
      "Epoch 13/20\n",
      "88/88 [==============================] - 74s 845ms/step - loss: 0.1952 - accuracy: 0.9136 - val_loss: 0.2751 - val_accuracy: 0.8783\n",
      "Epoch 14/20\n",
      "88/88 [==============================] - 75s 850ms/step - loss: 0.1843 - accuracy: 0.9154 - val_loss: 0.2885 - val_accuracy: 0.8367\n",
      "Epoch 15/20\n",
      "88/88 [==============================] - 74s 841ms/step - loss: 0.1793 - accuracy: 0.9189 - val_loss: 0.3017 - val_accuracy: 0.8767\n",
      "Epoch 16/20\n",
      "88/88 [==============================] - 77s 871ms/step - loss: 0.1712 - accuracy: 0.9189 - val_loss: 0.3157 - val_accuracy: 0.8833\n",
      "Epoch 17/20\n",
      "88/88 [==============================] - 77s 872ms/step - loss: 0.1656 - accuracy: 0.9264 - val_loss: 0.3073 - val_accuracy: 0.8783\n",
      "Epoch 18/20\n",
      "88/88 [==============================] - 75s 850ms/step - loss: 0.1830 - accuracy: 0.9196 - val_loss: 0.3373 - val_accuracy: 0.8600\n",
      "Epoch 19/20\n",
      "88/88 [==============================] - 74s 842ms/step - loss: 0.1707 - accuracy: 0.9271 - val_loss: 0.3224 - val_accuracy: 0.8483\n",
      "Epoch 20/20\n",
      "88/88 [==============================] - 74s 838ms/step - loss: 0.1531 - accuracy: 0.9307 - val_loss: 0.3225 - val_accuracy: 0.8567\n"
     ]
    }
   ],
   "source": [
    "epochs = 20\n",
    "# early_stopping_cb = tf.keras.callbacks.EarlyStopping(patience = 5, restore_best_weights=True)\n",
    "log_optimal = model_optimal.fit(merged_array_trn, y_train, \n",
    "                epochs=epochs,\n",
    "                validation_data=(merged_array_val, y_val),\n",
    "                # callbacks = [early_stopping_cb]\n",
    "                )"
   ]
  },
  {
   "cell_type": "code",
   "execution_count": 148,
   "metadata": {},
   "outputs": [
    {
     "data": {
      "image/png": "[encoded data removed]",
      "text/plain": [
       "<Figure size 432x288 with 1 Axes>"
      ]
     },
     "metadata": {
      "needs_background": "light"
     },
     "output_type": "display_data"
    }
   ],
   "source": [
    "plt.plot(log_optimal.history['loss'],label = \"training loss\",color='darkgreen')\n",
    "plt.plot(log_optimal.history['val_loss'], label = \"validation loss\",color='darkblue')\n",
    "plt.legend()\n",
    "ax = plt.gca()\n",
    "plt.show()\n",
    "\n",
    "# the plot shows this is a bit overfitting, but in order to have the same consistency (most of the model won't be overfitting)"
   ]
  },
  {
   "cell_type": "markdown",
   "metadata": {},
   "source": [
    "This is the optimal model, which is the better performance of the above model above and we thought it might be applied to the Question6 final evulation\\\n",
    "So we further recorded the result to dataframe."
   ]
  },
  {
   "cell_type": "code",
   "execution_count": 149,
   "metadata": {},
   "outputs": [],
   "source": [
    "df_model_record_val_accuracy['log_optimal'] = log_optimal.history['val_accuracy']\n",
    "df_model_record_val_loss['log_optimal'] = log_optimal.history['val_loss']\n",
    "df_model_record_trn_accuracy['log_optimal'] = log_optimal.history['accuracy']\n",
    "df_model_record_trn_loss['log_optimal'] = log_optimal.history['loss']"
   ]
  },
  {
   "cell_type": "markdown",
   "metadata": {},
   "source": [
    "#### Optimal model2: 3 layer Conv1D + 2 layer of LSTM\n",
    "\n",
    "Remember that when we simply used GRU or LSTM as the BenchMark model, we found that the time efficiency and accuracy were similar, so for better comparison, we changed the GRU layer of the above model to LSTM layers, the result as follows:\n",
    "\n",
    "3 layer Conv1D + 2 layer of LSTM:\n",
    "\n",
    " With 20 epcchs, we can observe \n",
    " 1. loss: 0.1761 \n",
    " 2. accuracy: 0.9218 \n",
    " 3. val_loss: 0.3289 \n",
    " 4. val_accuracy: 0.8583 \n",
    " 5. The execution time of each epoch is about 84 seconds\n",
    "\n",
    "3 layer Conv1D + 2 layer of GRU:\n",
    "\n",
    " With 20 epcchs, we can observe \n",
    " 1. loss: 0.1531 \n",
    " 2. accuracy: 0.9307 \n",
    " 3. val_loss: 0.3225 \n",
    " 4. val_accuracy: 0.8567 \n",
    " 5. The execution time of each epoch is about 74 seconds\n",
    "\n",
    "\n",
    "Comparision:\n",
    "1. The val_loss in the layer Conv1D + 2 LSTM model is higher than the layer Conv1D + 2 layer GRU\n",
    "2. The Validation accuracy of layer Conv1D + 2 LSTM is similar to that of layer Conv1D + 2 layer GRU model\n",
    "3. The calculation time is 74 seconds per epoch with layer Conv1D + 2 layer GRU is faster\n",
    "4. Both have a problem with overfitting when epoch is set to 20, which will be noticed in Question6\n",
    "\n",
    "This model is also recorded in the dataframe and used for comparison in the final evaluation of Question6"
   ]
  },
  {
   "cell_type": "code",
   "execution_count": 150,
   "metadata": {},
   "outputs": [],
   "source": [
    "# clean sessions and set seeds\n",
    "tf.keras.backend.clear_session()\n",
    "np.random.seed(231)\n",
    "tf.random.set_seed(631)"
   ]
  },
  {
   "cell_type": "code",
   "execution_count": 151,
   "metadata": {},
   "outputs": [
    {
     "name": "stdout",
     "output_type": "stream",
     "text": [
      "Model: \"sequential\"\n",
      "_________________________________________________________________\n",
      " Layer (type)                Output Shape              Param #   \n",
      "=================================================================\n",
      " conv1d (Conv1D)             (None, None, 20)          180       \n",
      "                                                                 \n",
      " conv1d_1 (Conv1D)           (None, None, 20)          1620      \n",
      "                                                                 \n",
      " conv1d_2 (Conv1D)           (None, None, 20)          1620      \n",
      "                                                                 \n",
      " lstm (LSTM)                 (None, None, 150)         102600    \n",
      "                                                                 \n",
      " lstm_1 (LSTM)               (None, 20)                13680     \n",
      "                                                                 \n",
      " dense (Dense)               (None, 4)                 84        \n",
      "                                                                 \n",
      "=================================================================\n",
      "Total params: 119,784\n",
      "Trainable params: 119,784\n",
      "Non-trainable params: 0\n",
      "_________________________________________________________________\n"
     ]
    }
   ],
   "source": [
    "model_optimal2 = Sequential([\n",
    "    Conv1D(filters=20, kernel_size=4, strides=2, padding=\"valid\",input_shape=[None, 2]), # strides= 2, 每兩個跳一下(可以看一下老師的瞅瞅的text\n",
    "    Conv1D(filters=20, kernel_size=4, strides=2, padding=\"valid\",input_shape=[None, 2]), \n",
    "    Conv1D(filters=20, kernel_size=4, strides=2, padding=\"valid\",input_shape=[None, 2]),\n",
    "    LSTM(150,  return_sequences=True,input_shape=[None, 1]),\n",
    "    LSTM(20),\n",
    "    Dense(4, activation=\"softmax\")\n",
    "])\n",
    "\n",
    "learning_rate = 0.001\n",
    "model_optimal2.compile(loss=\"categorical_crossentropy\", optimizer=Adam(learning_rate), metrics=[\"accuracy\"]) \n",
    "\n",
    "model_optimal2.summary()\n"
   ]
  },
  {
   "cell_type": "code",
   "execution_count": 152,
   "metadata": {},
   "outputs": [
    {
     "name": "stdout",
     "output_type": "stream",
     "text": [
      "Epoch 1/20\n",
      "88/88 [==============================] - 85s 928ms/step - loss: 1.2605 - accuracy: 0.4104 - val_loss: 1.0952 - val_accuracy: 0.5033\n",
      "Epoch 2/20\n",
      "88/88 [==============================] - 76s 863ms/step - loss: 0.9524 - accuracy: 0.6011 - val_loss: 0.7823 - val_accuracy: 0.7083\n",
      "Epoch 3/20\n",
      "88/88 [==============================] - 78s 883ms/step - loss: 0.6701 - accuracy: 0.7493 - val_loss: 0.5870 - val_accuracy: 0.7650\n",
      "Epoch 4/20\n",
      "88/88 [==============================] - 77s 873ms/step - loss: 0.4812 - accuracy: 0.8293 - val_loss: 0.4273 - val_accuracy: 0.8350\n",
      "Epoch 5/20\n",
      "88/88 [==============================] - 77s 879ms/step - loss: 0.3521 - accuracy: 0.8761 - val_loss: 0.3564 - val_accuracy: 0.8633\n",
      "Epoch 6/20\n",
      "88/88 [==============================] - 80s 906ms/step - loss: 0.3098 - accuracy: 0.8896 - val_loss: 0.3370 - val_accuracy: 0.8617\n",
      "Epoch 7/20\n",
      "88/88 [==============================] - 75s 857ms/step - loss: 0.2678 - accuracy: 0.8996 - val_loss: 0.3073 - val_accuracy: 0.8783\n",
      "Epoch 8/20\n",
      "88/88 [==============================] - 76s 866ms/step - loss: 0.2470 - accuracy: 0.9025 - val_loss: 0.3239 - val_accuracy: 0.8650\n",
      "Epoch 9/20\n",
      "88/88 [==============================] - 76s 867ms/step - loss: 0.2278 - accuracy: 0.9071 - val_loss: 0.2791 - val_accuracy: 0.8800\n",
      "Epoch 10/20\n",
      "88/88 [==============================] - 78s 884ms/step - loss: 0.2197 - accuracy: 0.9082 - val_loss: 0.2836 - val_accuracy: 0.8833\n",
      "Epoch 11/20\n",
      "88/88 [==============================] - 76s 865ms/step - loss: 0.2200 - accuracy: 0.9064 - val_loss: 0.3029 - val_accuracy: 0.8750\n",
      "Epoch 12/20\n",
      "88/88 [==============================] - 76s 865ms/step - loss: 0.2288 - accuracy: 0.9061 - val_loss: 0.2960 - val_accuracy: 0.8683\n",
      "Epoch 13/20\n",
      "88/88 [==============================] - 82s 931ms/step - loss: 0.2167 - accuracy: 0.9100 - val_loss: 0.2797 - val_accuracy: 0.8567\n",
      "Epoch 14/20\n",
      "88/88 [==============================] - 86s 973ms/step - loss: 0.2069 - accuracy: 0.9107 - val_loss: 0.3177 - val_accuracy: 0.8617\n",
      "Epoch 15/20\n",
      "88/88 [==============================] - 87s 988ms/step - loss: 0.1974 - accuracy: 0.9143 - val_loss: 0.2998 - val_accuracy: 0.8717\n",
      "Epoch 16/20\n",
      "88/88 [==============================] - 88s 999ms/step - loss: 0.1763 - accuracy: 0.9229 - val_loss: 0.3280 - val_accuracy: 0.8733\n",
      "Epoch 17/20\n",
      "88/88 [==============================] - 77s 877ms/step - loss: 0.1721 - accuracy: 0.9214 - val_loss: 0.3110 - val_accuracy: 0.8717\n",
      "Epoch 18/20\n",
      "88/88 [==============================] - 86s 979ms/step - loss: 0.1715 - accuracy: 0.9254 - val_loss: 0.3338 - val_accuracy: 0.8733\n",
      "Epoch 19/20\n",
      "88/88 [==============================] - 89s 1s/step - loss: 0.1713 - accuracy: 0.9225 - val_loss: 0.3162 - val_accuracy: 0.8567\n",
      "Epoch 20/20\n",
      "88/88 [==============================] - 84s 956ms/step - loss: 0.1761 - accuracy: 0.9218 - val_loss: 0.3289 - val_accuracy: 0.8583\n"
     ]
    }
   ],
   "source": [
    "epochs = 20\n",
    "# early_stopping_cb = tf.keras.callbacks.EarlyStopping(patience = 5, restore_best_weights=True)\n",
    "log_optimal2 = model_optimal2.fit(merged_array_trn, y_train, \n",
    "                epochs=epochs,\n",
    "                validation_data=(merged_array_val, y_val),\n",
    "#                 callbacks = [early_stopping_cb]\n",
    "                )"
   ]
  },
  {
   "cell_type": "code",
   "execution_count": 153,
   "metadata": {},
   "outputs": [
    {
     "data": {
      "image/png": "[encoded data removed]",
      "text/plain": [
       "<Figure size 432x288 with 1 Axes>"
      ]
     },
     "metadata": {
      "needs_background": "light"
     },
     "output_type": "display_data"
    }
   ],
   "source": [
    "plt.plot(log_optimal2.history['loss'],label = \"training loss\",color='darkgreen')\n",
    "plt.plot(log_optimal2.history['val_loss'], label = \"validation loss\",color='darkblue')\n",
    "plt.legend()\n",
    "ax = plt.gca()\n",
    "plt.show()"
   ]
  },
  {
   "cell_type": "markdown",
   "metadata": {},
   "source": [
    "This is the optimal model, which is the better performance of the above model above and we thought it might be applied to the Question6 final evulation\\\n",
    "So we further recorded the result to dataframe."
   ]
  },
  {
   "cell_type": "code",
   "execution_count": 154,
   "metadata": {},
   "outputs": [],
   "source": [
    "df_model_record_val_accuracy['log_optimal2'] = log_optimal2.history['val_accuracy']\n",
    "df_model_record_val_loss['log_optimal2'] = log_optimal2.history['val_loss']\n",
    "df_model_record_trn_accuracy['log_optimal2'] = log_optimal2.history['accuracy']\n",
    "df_model_record_trn_loss['log_optimal2'] = log_optimal2.history['loss']"
   ]
  },
  {
   "cell_type": "markdown",
   "metadata": {},
   "source": [
    "## Question 2\n",
    "**In your own words, explain why the approach outlined here can help analyze time-series data and why it might outperform RNNs.** "
   ]
  },
  {
   "cell_type": "markdown",
   "metadata": {},
   "source": [
    "Looking at the model building in the research paper, we can find several differences from RNN:\n",
    "1. non-linearity can output unique values(independent components): thus would increasing the accuracy of the classficaiton) and can also help in the problems with noisy conditions.\n",
    "2. convolutional layer fix the the problems with noisy conditions (extract the feature signals).\n",
    "3. MaxPooling: is extracting the signals with the highest value and will strength the signal.\n",
    "4. in all, CNN can discover and extract the suitable internal structure to generate deep features of the input time series automatically by using convolution and pooling operations.\n",
    "\n",
    "\n",
    "Comparing with the foundmental calculating structure of RNN and CNN:\n",
    "1. CNNs are computationally cheaper than RNNs: CNN learns by batch while RNNs train sequentially (with time series step by steps). As such, RNN can’t use parallelization because it must wait for the previous computations.\n",
    "2. CNNs don’t have the assumption that history is complete: Unlike RNNs, CNNs learn patterns within the time window. If you have missing data, CNNs should be useful.\n",
    "3. In a way, CNNs can look forward (exploit “spatial correlation” in data): RNN models only learn from data before the timestep it needs to predict. CNNs (with shuffling) can see data from a broader perspective."
   ]
  },
  {
   "cell_type": "markdown",
   "metadata": {},
   "source": [
    "## Question 3\n",
    "**Convert the data for use with a CNN. In particular, following the approach outlined in Scenario 2 (section 5.3 of the paper) and summarized in Figure 18, convert the two time series corresponding to one wind turbine run into a single (100,100,1) array (i.e., a gray- scale image).**"
   ]
  },
  {
   "cell_type": "code",
   "execution_count": 5,
   "metadata": {},
   "outputs": [
    {
     "data": {
      "text/plain": [
       "array([[0., 1., 0., 0.],\n",
       "       [0., 0., 1., 0.],\n",
       "       [0., 0., 0., 1.],\n",
       "       ...,\n",
       "       [0., 0., 0., 1.],\n",
       "       [0., 0., 0., 1.],\n",
       "       [0., 1., 0., 0.]], dtype=float32)"
      ]
     },
     "execution_count": 5,
     "metadata": {},
     "output_type": "execute_result"
    }
   ],
   "source": [
    "import pickle\n",
    "with open ('y.pickle', 'rb') as handle:\n",
    "    y_CNN = pickle.load(handle)\n",
    "\n",
    "# Convert class vectors to one-hot encoding\n",
    "y_CNN = tf.keras.utils.to_categorical(y_CNN)\n",
    "y_CNN"
   ]
  },
  {
   "cell_type": "markdown",
   "metadata": {},
   "source": [
    "#### transform the data into different dimensions\n",
    "1. The reason why we set img_rows, img_cols, img_channels = 100, 50, 1 is that we would like to add the two time series into a single image, and the image would be 100*100, so we set the img_rows = 100, img_cols = 50, img_channels = 1. And as the Research paper did, we applied the append of axis=2 (columns add after) to have single image to (100,100,1)\\\n",
    "2. note here we need a gray- scale image, so we set img_channels = 1. (if RGB image, we would set img_channels = 3)"
   ]
  },
  {
   "cell_type": "code",
   "execution_count": 6,
   "metadata": {},
   "outputs": [
    {
     "name": "stdout",
     "output_type": "stream",
     "text": [
      "time_series_1_test shape: (4000, 100, 50, 1)\n",
      "time_series_2_test shape: (4000, 100, 50, 1)\n"
     ]
    }
   ],
   "source": [
    "img_rows, img_cols, img_channels = 100, 50, 1# input image dimensions\n",
    "\n",
    "# Depending on the implementation, the underlying libraries might want the image \n",
    "if K.image_data_format() == 'channels_first':\n",
    "    time_series_1_reshape = time_series_1.reshape(time_series_1.shape[0],img_channels, img_rows, img_cols)\n",
    "    time_series_2_reshape = time_series_2.reshape(time_series_2.shape[0],img_channels, img_rows, img_cols)\n",
    "    input_shape = (img_channels, img_rows, img_cols)\n",
    "else:\n",
    "    time_series_1_reshape = time_series_1.reshape(time_series_1.shape[0], img_rows, img_cols, img_channels)\n",
    "    time_series_2_reshape = time_series_2.reshape(time_series_2.shape[0], img_rows, img_cols, img_channels)\n",
    "    input_shape = (img_rows, img_cols, img_channels)\n",
    "\n",
    "# dimensions in different orders, check for it and reshape\n",
    "print('time_series_1_test shape:', time_series_1_reshape.shape)\n",
    "print('time_series_2_test shape:', time_series_2_reshape.shape)"
   ]
  },
  {
   "cell_type": "code",
   "execution_count": 7,
   "metadata": {},
   "outputs": [
    {
     "data": {
      "text/plain": [
       "(4000, 100, 100, 1)"
      ]
     },
     "execution_count": 7,
     "metadata": {},
     "output_type": "execute_result"
    }
   ],
   "source": [
    "time_series_CNN = np.append(time_series_1_reshape, time_series_2_reshape , axis=2)\n",
    "time_series_CNN.shape\n",
    "# checking \n",
    "# time_series_CNN[0][0][0:5]\n",
    "\n",
    "# # or use dstack could have the same result\n",
    "# test = np.dstack((time_series_1_reshape, time_series_2_reshape))\n",
    "# test.shape\n",
    "# # # checking\n",
    "# # test[0][0][0:5]"
   ]
  },
  {
   "cell_type": "markdown",
   "metadata": {},
   "source": [
    "#### after transforming the data, split with the same seed and percentage for train, validation and test data"
   ]
  },
  {
   "cell_type": "code",
   "execution_count": 8,
   "metadata": {},
   "outputs": [
    {
     "name": "stdout",
     "output_type": "stream",
     "text": [
      "(2800, 100, 100, 1)\n",
      "(600, 100, 100, 1)\n",
      "(600, 100, 100, 1)\n",
      "(2800, 4)\n",
      "(600, 4)\n",
      "(600, 4)\n"
     ]
    }
   ],
   "source": [
    "np.random.seed(123)\n",
    "idx = np.arange(len(time_series_1))\n",
    "np.random.shuffle(idx)\n",
    "\n",
    "train = 2800\n",
    "val = 600\n",
    "test = 600\n",
    "\n",
    "train_idxs = idx[:train]\n",
    "val_idxs = idx[train:train+val]\n",
    "test_idxs = idx[train+val:train+val+test]\n",
    "\n",
    "x_CNN_trn = time_series_CNN[train_idxs]\n",
    "x_CNN_val = time_series_CNN[val_idxs]\n",
    "x_CNN_test = time_series_CNN[test_idxs]\n",
    "\n",
    "y_CNN_trn = y_CNN[train_idxs]\n",
    "y_CNN_val = y_CNN[val_idxs]\n",
    "y_CNN_test = y_CNN[test_idxs]\n",
    "\n",
    "print(x_CNN_trn.shape)\n",
    "print(x_CNN_val.shape)\n",
    "print(x_CNN_test.shape)\n",
    "print(y_CNN_trn.shape)\n",
    "print(y_CNN_val.shape)\n",
    "print(y_CNN_test.shape)"
   ]
  },
  {
   "cell_type": "markdown",
   "metadata": {},
   "source": [
    "## Question 4\n",
    "**In TensorFlow, replicate the CNN with three convolutional layers displayed in Figure 12 and train it on your data. Make sure to record your final validation set accuracy.**"
   ]
  },
  {
   "cell_type": "code",
   "execution_count": 197,
   "metadata": {
    "vscode": {
     "languageId": "markdown"
    }
   },
   "outputs": [],
   "source": [
    "# clean sessions and set seeds\n",
    "tf.keras.backend.clear_session()\n",
    "np.random.seed(231)\n",
    "tf.random.set_seed(631)"
   ]
  },
  {
   "cell_type": "markdown",
   "metadata": {},
   "source": [
    "1. Step 1 : the input images are applied to a convolutional layer with the 20 kernels of 3*3 with 32 filters and 1 stride.\n",
    "2. Step 2 : Convolutional layer with the 20 kernels of 3*3 with 32 filters and 2 stride. \\\n",
    "    (the reason for adding another layer is that, by adding a signal, which has high-frequency variation such as pitch angle in the wind turbine benchmark, it is better to increase the nonlinearity of the model in order to cope with this problem.)\n",
    "3. Step 3 : Dropout of 0.2 layer\\\n",
    "    (see a Dropout layer is added to this structure. In Dropout layer, some of the neurons are simply droped out, since they are very similar to the other ones. This layer is a simple solution to prevent CNN from overfitting)\n",
    "4. Step 4 : The outputs from convolved kernels are routed through a ReLu activation function. \n",
    "5. Step 5 : The next layer is a max pooling with the pools of 3 * 3. (The responsibility of this layer is to extract the strongest features.)\n",
    "6. Step 6 : The last layer is an FCNN with a softmax function, which is used to classify the data."
   ]
  },
  {
   "cell_type": "code",
   "execution_count": 198,
   "metadata": {},
   "outputs": [
    {
     "name": "stdout",
     "output_type": "stream",
     "text": [
      "Model: \"sequential\"\n",
      "_________________________________________________________________\n",
      " Layer (type)                Output Shape              Param #   \n",
      "=================================================================\n",
      " conv2d (Conv2D)             (None, 98, 98, 32)        320       \n",
      "                                                                 \n",
      " conv2d_1 (Conv2D)           (None, 48, 48, 32)        9248      \n",
      "                                                                 \n",
      " dropout (Dropout)           (None, 48, 48, 32)        0         \n",
      "                                                                 \n",
      " conv2d_2 (Conv2D)           (None, 23, 23, 16)        4624      \n",
      "                                                                 \n",
      " max_pooling2d (MaxPooling2D  (None, 7, 7, 16)         0         \n",
      " )                                                               \n",
      "                                                                 \n",
      " flatten (Flatten)           (None, 784)               0         \n",
      "                                                                 \n",
      " dense (Dense)               (None, 4)                 3140      \n",
      "                                                                 \n",
      "=================================================================\n",
      "Total params: 17,332\n",
      "Trainable params: 17,332\n",
      "Non-trainable params: 0\n",
      "_________________________________________________________________\n"
     ]
    }
   ],
   "source": [
    "input_shape = (100, 100, 1)\n",
    "model_CNN = Sequential([\n",
    "    Conv2D(32, kernel_size=(3, 3),strides=1, padding='valid',input_shape=input_shape), # Step 1 : the input images are applied to a convolutional layer with the 20 kernels of 3*3 with 32 filters and 1 stride.\n",
    "    Conv2D(32, kernel_size=(3, 3),strides=2, padding='valid'), # Step 2 : Convolutional layer with the 20 kernels of 3*3 with 32 filters and 2 stride.\n",
    "    tf.keras.layers.Dropout(rate=0.2), # Step 3 : Dropout of 0.2 layer\n",
    "    Conv2D(16, kernel_size=(3, 3),strides=2, padding='valid',activation='relu'), # Step 4 : The outputs from convolved kernels are routed through a ReLu activation function.  \n",
    "    MaxPooling2D(pool_size=(3,3)), # Step 5 : The next layer is a max pooling with the pools of 3 * 3. (The responsibility of this layer is to extract the strongest features.)\n",
    "    Flatten(), # Step 6 : The last layer is an FCNN with a softmax function, which is used to classify the data.\n",
    "    Dense(4, activation='softmax')])\n",
    "\n",
    "model_CNN.compile(loss='categorical_crossentropy',\n",
    "              optimizer=tf.keras.optimizers.Adam(learning_rate=0.001),\n",
    "              metrics=['accuracy'])\n",
    "model_CNN.summary()"
   ]
  },
  {
   "cell_type": "code",
   "execution_count": 199,
   "metadata": {},
   "outputs": [
    {
     "name": "stdout",
     "output_type": "stream",
     "text": [
      "Epoch 1/20\n",
      "88/88 [==============================] - 10s 113ms/step - loss: 4.3199 - accuracy: 0.5496 - val_loss: 0.4548 - val_accuracy: 0.8450\n",
      "Epoch 2/20\n",
      "88/88 [==============================] - 10s 109ms/step - loss: 0.7492 - accuracy: 0.8043 - val_loss: 0.3928 - val_accuracy: 0.8833\n",
      "Epoch 3/20\n",
      "88/88 [==============================] - 9s 98ms/step - loss: 0.5844 - accuracy: 0.8411 - val_loss: 0.4198 - val_accuracy: 0.8717\n",
      "Epoch 4/20\n",
      "88/88 [==============================] - 8s 89ms/step - loss: 0.5475 - accuracy: 0.8571 - val_loss: 0.3630 - val_accuracy: 0.8767\n",
      "Epoch 5/20\n",
      "88/88 [==============================] - 8s 91ms/step - loss: 0.5233 - accuracy: 0.8504 - val_loss: 0.3367 - val_accuracy: 0.8867\n",
      "Epoch 6/20\n",
      "88/88 [==============================] - 8s 88ms/step - loss: 0.4825 - accuracy: 0.8571 - val_loss: 0.4241 - val_accuracy: 0.8850\n",
      "Epoch 7/20\n",
      "88/88 [==============================] - 8s 95ms/step - loss: 0.3745 - accuracy: 0.8746 - val_loss: 0.3275 - val_accuracy: 0.8833\n",
      "Epoch 8/20\n",
      "88/88 [==============================] - 9s 99ms/step - loss: 0.3350 - accuracy: 0.8750 - val_loss: 0.2798 - val_accuracy: 0.8883\n",
      "Epoch 9/20\n",
      "88/88 [==============================] - 8s 90ms/step - loss: 0.2912 - accuracy: 0.8811 - val_loss: 0.2643 - val_accuracy: 0.8883\n",
      "Epoch 10/20\n",
      "88/88 [==============================] - 8s 94ms/step - loss: 0.2740 - accuracy: 0.8854 - val_loss: 0.3088 - val_accuracy: 0.8867\n",
      "Epoch 11/20\n",
      "88/88 [==============================] - 8s 97ms/step - loss: 0.2753 - accuracy: 0.8879 - val_loss: 0.2824 - val_accuracy: 0.8867\n",
      "Epoch 12/20\n",
      "88/88 [==============================] - 8s 94ms/step - loss: 0.2633 - accuracy: 0.8925 - val_loss: 0.2591 - val_accuracy: 0.8867\n",
      "Epoch 13/20\n",
      "88/88 [==============================] - 8s 90ms/step - loss: 0.2520 - accuracy: 0.8904 - val_loss: 0.2494 - val_accuracy: 0.8883\n",
      "Epoch 14/20\n",
      "88/88 [==============================] - 8s 94ms/step - loss: 0.2525 - accuracy: 0.8968 - val_loss: 0.2559 - val_accuracy: 0.8867\n",
      "Epoch 15/20\n",
      "88/88 [==============================] - 9s 98ms/step - loss: 0.2515 - accuracy: 0.8954 - val_loss: 0.2611 - val_accuracy: 0.8850\n",
      "Epoch 16/20\n",
      "88/88 [==============================] - 8s 97ms/step - loss: 0.2410 - accuracy: 0.8975 - val_loss: 0.2669 - val_accuracy: 0.8867\n",
      "Epoch 17/20\n",
      "88/88 [==============================] - 8s 92ms/step - loss: 0.2356 - accuracy: 0.9000 - val_loss: 0.2699 - val_accuracy: 0.8817\n",
      "Epoch 18/20\n",
      "88/88 [==============================] - 9s 103ms/step - loss: 0.2484 - accuracy: 0.8989 - val_loss: 0.2719 - val_accuracy: 0.8867\n",
      "Epoch 19/20\n",
      "88/88 [==============================] - 9s 99ms/step - loss: 0.2372 - accuracy: 0.8957 - val_loss: 0.2595 - val_accuracy: 0.8867\n",
      "Epoch 20/20\n",
      "88/88 [==============================] - 8s 93ms/step - loss: 0.2450 - accuracy: 0.8961 - val_loss: 0.2596 - val_accuracy: 0.8867\n"
     ]
    }
   ],
   "source": [
    "epochs = 20\n",
    "# early_stopping_cb = tf.keras.callbacks.EarlyStopping(patience = 5, restore_best_weights=True)\n",
    "log_CNN= model_CNN.fit(x_CNN_trn, y_CNN_trn, \n",
    "                epochs=epochs,\n",
    "                validation_data=(x_CNN_val, y_CNN_val),\n",
    "                # callbacks = [early_stopping_cb]\n",
    "                )\n"
   ]
  },
  {
   "cell_type": "code",
   "execution_count": 200,
   "metadata": {},
   "outputs": [
    {
     "data": {
      "image/png": "[encoded data removed]",
      "text/plain": [
       "<Figure size 432x288 with 1 Axes>"
      ]
     },
     "metadata": {
      "needs_background": "light"
     },
     "output_type": "display_data"
    },
    {
     "name": "stdout",
     "output_type": "stream",
     "text": [
      "19/19 [==============================] - 0s 22ms/step - loss: 0.2564 - accuracy: 0.8667\n"
     ]
    },
    {
     "data": {
      "text/plain": [
       "[0.25639107823371887, 0.8666666746139526]"
      ]
     },
     "execution_count": 200,
     "metadata": {},
     "output_type": "execute_result"
    }
   ],
   "source": [
    "plt.plot(log_CNN.history['loss'],label = \"training loss\",color='darkgreen')\n",
    "plt.plot(log_CNN.history['val_loss'], label = \"validation loss\",color='darkblue')\n",
    "plt.legend()\n",
    "ax = plt.gca()\n",
    "plt.show()\n",
    "\n",
    "# evalute the model on test set\n",
    "model_CNN.evaluate(x_CNN_test, y_CNN_test)"
   ]
  },
  {
   "cell_type": "markdown",
   "metadata": {},
   "source": [
    "However, the learning speed at the beginning is quite fast, indicating that it might be a direction to adjust the CNN model later."
   ]
  },
  {
   "cell_type": "markdown",
   "metadata": {},
   "source": [
    "But we would also record the performance of the model into the dataframe"
   ]
  },
  {
   "cell_type": "code",
   "execution_count": 159,
   "metadata": {},
   "outputs": [],
   "source": [
    "df_model_record_val_accuracy['log_CNN'] = log_CNN.history['val_accuracy']\n",
    "df_model_record_val_loss['log_CNN'] = log_CNN.history['val_loss']\n",
    "df_model_record_trn_accuracy['log_CNN'] = log_CNN.history['accuracy']\n",
    "df_model_record_trn_loss['log_CNN'] = log_CNN.history['loss']"
   ]
  },
  {
   "cell_type": "markdown",
   "metadata": {},
   "source": [
    "## Question 5\t\n",
    "**Can you do better by adjusting the CNN? Be creative in your design choices (you might also consider pre-trained CNN architectures) and record your final validation set accuracy.**"
   ]
  },
  {
   "cell_type": "markdown",
   "metadata": {},
   "source": [
    "1. Method 1: using the tuner to find the hyperparameters of the model and see whether it could be improved without changing the structure\n",
    "2. Method 2: changing the structures on the research model (such as MaxPooling2D layers and BatchNormalization)\n",
    "3. Method 3: using other pre-train model to comparing with Method 2"
   ]
  },
  {
   "cell_type": "markdown",
   "metadata": {},
   "source": [
    "### Method 1: using tuner"
   ]
  },
  {
   "cell_type": "markdown",
   "metadata": {},
   "source": [
    "1. We use tuner to find out the hyperparameters of the model and see if we can improve the results of the model without changing the structure of the model\n",
    "2. The parameters that can be adjusted are:\n",
    "     1. learning_rate: The setting range is 0.0001 to 0.01 to find the maximum value\n",
    "     2. optimizer: choose one of 'sgd', 'adam'\n",
    "     3. dropout_rate: The setting range is between 0.01 and 0.03 to find the maximum value\n",
    "     4. num_filters within the convolutional layer:\n",
    "         1. The first layer of Conv2D finds the maximum value in [3264,128]\n",
    "         2. The second layer Conv2D finds the maximum value in [128, 64]\n",
    "         3. The third layer Conv2D finds the maximum value in [64, 32]"
   ]
  },
  {
   "cell_type": "markdown",
   "metadata": {},
   "source": [
    "The reason for this setting is that the subsequent Conv2D layer is not expected to have too many filters, because this will cause the complexity of the model to be too high, and it will cause excessive expansion during training.\\\n",
    "If there are too many filters in the front, it will cause an error that the input shape is wrong."
   ]
  },
  {
   "cell_type": "code",
   "execution_count": 160,
   "metadata": {},
   "outputs": [
    {
     "data": {
      "text/plain": [
       "<keras.engine.sequential.Sequential at 0x7fb7d94493a0>"
      ]
     },
     "execution_count": 160,
     "metadata": {},
     "output_type": "execute_result"
    }
   ],
   "source": [
    "def train_model_RNN(hp):      \n",
    "\n",
    "    # clean sessions and set seeds\n",
    "    tf.keras.backend.clear_session()\n",
    "    np.random.seed(231)\n",
    "    tf.random.set_seed(631)\n",
    "       \n",
    "    num_filters1 = hp.Int('num_filters1', min_value=64, max_value=128, step=4)\n",
    "    num_filters2 = hp.Int('num_filters2', min_value=32, max_value=64, step=4)\n",
    "    num_filters3 = hp.Int('num_filters3', min_value=16, max_value=32, step=4)\n",
    "    # find the best hidden layer size\n",
    "    model = tf.keras.models.Sequential()\n",
    "    model.add(tf.keras.layers.Conv2D(num_filters1, kernel_size=(3, 3),strides=1, padding='valid',input_shape=(100, 100, 1)))\n",
    "    model.add(tf.keras.layers.Conv2D(num_filters2, kernel_size=(3, 3),strides=2, padding='valid'))\n",
    "\n",
    "    if hp.Boolean(\"dropout\"):\n",
    "    # set a drop out rate ranging from 0.01 to 0.03\n",
    "        model.add(tf.keras.layers.Dropout(rate=hp.Float('dropout_rate', min_value = 0.01, max_value=0.03, step=0.01)))\n",
    "\n",
    "    model.add(tf.keras.layers.Conv2D(num_filters3, kernel_size=(3, 3),strides=2, padding='valid',activation='relu'))\n",
    "    model.add(tf.keras.layers.MaxPooling2D(pool_size=(3,3)))\n",
    "    model.add(tf.keras.layers.Flatten())\n",
    "    model.add(tf.keras.layers.Dense(4, activation='softmax'))\n",
    "    \n",
    "    # define a choice of optimizer \n",
    "    optim_algo = hp.Choice('optimizer', values=['sgd','adam']) \n",
    "\n",
    "    # define the range of learning rate \n",
    "    learning_rate = hp.Float('learning_rate', min_value=0.001, max_value=0.01, sampling=\"log\")\n",
    "    \n",
    "    # tune wether to use sgd or adam optimizer \n",
    "    if optim_algo == 'sgd':\n",
    "        optimizer = tf.keras.optimizers.SGD(learning_rate=learning_rate,clipvalue=1)\n",
    "    elif optim_algo == 'adam':\n",
    "        optimizer = tf.keras.optimizers.Adam(learning_rate=learning_rate)\n",
    "    \n",
    "    # compile the model    \n",
    "    model.compile(loss='categorical_crossentropy',\n",
    "                    optimizer=optimizer,\n",
    "                    metrics=['accuracy'])\n",
    "\n",
    "    return model\n",
    "\n",
    "train_model_RNN(kt.HyperParameters())"
   ]
  },
  {
   "cell_type": "code",
   "execution_count": 161,
   "metadata": {},
   "outputs": [
    {
     "name": "stdout",
     "output_type": "stream",
     "text": [
      "INFO:tensorflow:Reloading Oracle from existing project /Users/timliu/Desktop/final Individual assignment_SMM768 ADL/tuner_CNN/oracle.json\n",
      "INFO:tensorflow:Reloading Tuner from /Users/timliu/Desktop/final Individual assignment_SMM768 ADL/tuner_CNN/tuner0.json\n",
      "INFO:tensorflow:Oracle triggered exit\n"
     ]
    }
   ],
   "source": [
    "# create tunner\n",
    "tuner = kt.Hyperband(train_model_RNN,\n",
    "                     # set an obejective of minimise loss\n",
    "                     objective='val_loss',\n",
    "                     max_epochs=10,\n",
    "                     factor=3,\n",
    "                     seed=235,\n",
    "                     directory='/Users/timliu/Desktop/final Individual assignment_SMM768 ADL', # note that you need to change the directory to your own\n",
    "                     project_name='tuner_CNN'\n",
    "                     )\n",
    "                    \n",
    "# find the best values\n",
    "tuner.search(x_CNN_trn, y_CNN_trn, validation_data=(x_CNN_val,y_CNN_val))"
   ]
  },
  {
   "cell_type": "markdown",
   "metadata": {},
   "source": [
    "get the best hyperparameters under the restrictions of not changing the structure of the model"
   ]
  },
  {
   "cell_type": "code",
   "execution_count": 162,
   "metadata": {},
   "outputs": [
    {
     "name": "stdout",
     "output_type": "stream",
     "text": [
      "\u001b[1m---------------------Best Parameters---------------------\u001b[0m\n",
      "Best number of num_filters1: 124\n",
      "Best number of num_filters2: 60\n",
      "Best number of num_filters3: 28\n",
      "Best optimizer: adam\n",
      "Best learning rate: 0.0011719961607243963\n",
      "Best dropout rate: 0.01\n"
     ]
    }
   ],
   "source": [
    "# get the best hyperparameters\n",
    "best_hps = tuner.get_best_hyperparameters()[0]\n",
    "\n",
    "# print out the best parameters\n",
    "print(\"\\033[1m---------------------Best Parameters---------------------\\033[0m\")\n",
    "print(\"Best number of num_filters1: \" + str(best_hps['num_filters1']))\n",
    "print(\"Best number of num_filters2: \" + str(best_hps['num_filters2']))\n",
    "print(\"Best number of num_filters3: \" + str(best_hps['num_filters3']))\n",
    "print(\"Best optimizer: \" + str(best_hps['optimizer']))\n",
    "print(\"Best learning rate: \" + str(best_hps['learning_rate']))\n",
    "print(\"Best dropout rate: \" + str(best_hps['dropout_rate']))"
   ]
  },
  {
   "cell_type": "code",
   "execution_count": 202,
   "metadata": {},
   "outputs": [],
   "source": [
    "# clean sessions and set seeds\n",
    "tf.keras.backend.clear_session()\n",
    "np.random.seed(231)\n",
    "tf.random.set_seed(631)"
   ]
  },
  {
   "cell_type": "markdown",
   "metadata": {},
   "source": [
    "Fit to the train data"
   ]
  },
  {
   "cell_type": "code",
   "execution_count": 203,
   "metadata": {},
   "outputs": [],
   "source": [
    "model_tuner = tuner.hypermodel.build(best_hps)"
   ]
  },
  {
   "cell_type": "code",
   "execution_count": 204,
   "metadata": {},
   "outputs": [
    {
     "name": "stdout",
     "output_type": "stream",
     "text": [
      "Epoch 1/20\n",
      "88/88 [==============================] - 45s 511ms/step - loss: 4.3290 - accuracy: 0.6679 - val_loss: 0.4486 - val_accuracy: 0.7800\n",
      "Epoch 2/20\n",
      "88/88 [==============================] - 46s 521ms/step - loss: 0.2997 - accuracy: 0.8850 - val_loss: 0.3130 - val_accuracy: 0.8850\n",
      "Epoch 3/20\n",
      "88/88 [==============================] - 44s 492ms/step - loss: 0.2660 - accuracy: 0.8875 - val_loss: 0.2792 - val_accuracy: 0.8900\n",
      "Epoch 4/20\n",
      "88/88 [==============================] - 43s 488ms/step - loss: 0.2495 - accuracy: 0.8889 - val_loss: 0.3397 - val_accuracy: 0.8867\n",
      "Epoch 5/20\n",
      "88/88 [==============================] - 43s 494ms/step - loss: 0.2498 - accuracy: 0.8871 - val_loss: 0.2617 - val_accuracy: 0.8867\n",
      "Epoch 6/20\n",
      "88/88 [==============================] - 43s 484ms/step - loss: 0.2399 - accuracy: 0.8914 - val_loss: 0.3108 - val_accuracy: 0.8867\n",
      "Epoch 7/20\n",
      "88/88 [==============================] - 44s 501ms/step - loss: 0.2374 - accuracy: 0.8982 - val_loss: 0.2649 - val_accuracy: 0.8817\n",
      "Epoch 8/20\n",
      "88/88 [==============================] - 44s 503ms/step - loss: 0.2366 - accuracy: 0.8932 - val_loss: 0.2590 - val_accuracy: 0.8883\n",
      "Epoch 9/20\n",
      "88/88 [==============================] - 41s 465ms/step - loss: 0.2239 - accuracy: 0.8975 - val_loss: 0.2891 - val_accuracy: 0.8883\n",
      "Epoch 10/20\n",
      "88/88 [==============================] - 42s 472ms/step - loss: 0.2216 - accuracy: 0.9057 - val_loss: 0.2613 - val_accuracy: 0.8800\n",
      "Epoch 11/20\n",
      "88/88 [==============================] - 41s 463ms/step - loss: 0.2389 - accuracy: 0.8964 - val_loss: 0.2561 - val_accuracy: 0.8817\n",
      "Epoch 12/20\n",
      "88/88 [==============================] - 42s 481ms/step - loss: 0.2242 - accuracy: 0.8996 - val_loss: 0.2566 - val_accuracy: 0.8883\n",
      "Epoch 13/20\n",
      "88/88 [==============================] - 45s 505ms/step - loss: 0.2288 - accuracy: 0.8968 - val_loss: 0.2645 - val_accuracy: 0.8817\n",
      "Epoch 14/20\n",
      "88/88 [==============================] - 42s 473ms/step - loss: 0.2316 - accuracy: 0.8954 - val_loss: 0.3247 - val_accuracy: 0.8250\n",
      "Epoch 15/20\n",
      "88/88 [==============================] - 44s 493ms/step - loss: 0.2354 - accuracy: 0.8950 - val_loss: 0.2592 - val_accuracy: 0.8783\n",
      "Epoch 16/20\n",
      "88/88 [==============================] - 41s 472ms/step - loss: 0.2090 - accuracy: 0.9068 - val_loss: 0.2744 - val_accuracy: 0.8867\n",
      "Epoch 17/20\n",
      "88/88 [==============================] - 43s 490ms/step - loss: 0.2196 - accuracy: 0.8961 - val_loss: 0.2574 - val_accuracy: 0.8867\n",
      "Epoch 18/20\n",
      "88/88 [==============================] - 45s 507ms/step - loss: 0.2239 - accuracy: 0.8975 - val_loss: 0.2996 - val_accuracy: 0.8800\n",
      "Epoch 19/20\n",
      "88/88 [==============================] - 47s 540ms/step - loss: 0.2384 - accuracy: 0.9007 - val_loss: 0.3473 - val_accuracy: 0.7950\n",
      "Epoch 20/20\n",
      "88/88 [==============================] - 45s 510ms/step - loss: 0.2357 - accuracy: 0.8993 - val_loss: 0.2743 - val_accuracy: 0.8617\n"
     ]
    }
   ],
   "source": [
    "epochs = 20\n",
    "# early_stopping_cb = tf.keras.callbacks.EarlyStopping(patience = 5, restore_best_weights=True)\n",
    "log_CNN_tuner = model_tuner.fit(x_CNN_trn, y_CNN_trn, \n",
    "                epochs=epochs,\n",
    "                validation_data=(x_CNN_val, y_CNN_val),\n",
    "                # callbacks = [early_stopping_cb]\n",
    "                )"
   ]
  },
  {
   "cell_type": "code",
   "execution_count": 205,
   "metadata": {},
   "outputs": [
    {
     "data": {
      "image/png": "[encoded data removed]",
      "text/plain": [
       "<Figure size 432x288 with 1 Axes>"
      ]
     },
     "metadata": {
      "needs_background": "light"
     },
     "output_type": "display_data"
    },
    {
     "name": "stdout",
     "output_type": "stream",
     "text": [
      "19/19 [==============================] - 2s 127ms/step - loss: 0.2659 - accuracy: 0.8667\n"
     ]
    },
    {
     "data": {
      "text/plain": [
       "[0.2658618986606598, 0.8666666746139526]"
      ]
     },
     "execution_count": 205,
     "metadata": {},
     "output_type": "execute_result"
    }
   ],
   "source": [
    "plt.plot(log_CNN_tuner.history['loss'],label = \"training loss\",color='darkgreen')\n",
    "plt.plot(log_CNN_tuner.history['val_loss'], label = \"validation loss\",color='darkblue')\n",
    "plt.legend()\n",
    "ax = plt.gca()\n",
    "plt.show()\n",
    "\n",
    "# evalute the model on test set\n",
    "model_tuner.evaluate(x_CNN_test, y_CNN_test)"
   ]
  },
  {
   "cell_type": "markdown",
   "metadata": {},
   "source": [
    "Record the result to the dataframe and compare from Question6"
   ]
  },
  {
   "cell_type": "code",
   "execution_count": 206,
   "metadata": {},
   "outputs": [],
   "source": [
    "df_model_record_val_accuracy['log_CNN_tuner'] = log_CNN_tuner.history['val_accuracy']\n",
    "df_model_record_val_loss['log_CNN_tuner'] = log_CNN_tuner.history['val_loss']\n",
    "df_model_record_trn_accuracy['log_CNN_tuner'] = log_CNN_tuner.history['accuracy']\n",
    "df_model_record_trn_loss['log_CNN_tuner'] = log_CNN_tuner.history['loss']"
   ]
  },
  {
   "cell_type": "markdown",
   "metadata": {},
   "source": [
    "### Method 2: add more structure on the research model"
   ]
  },
  {
   "cell_type": "markdown",
   "metadata": {},
   "source": [
    "#### model 1: Adding more units within layers and more MaxPooling2D layers after each Conv2D layers"
   ]
  },
  {
   "cell_type": "markdown",
   "metadata": {},
   "source": [
    "1. Pooling operation is a basic operation that is often used in convolutional neural networks. Many paradigm models will be followed by a pooling operation after the convolutional layer. In recent years, the more mainstream is the use of max-pooling, which is rarely used. Use average-pooling, so we refer to this to use\n",
    "2. Some papers mention that the lower-level network is more responsive to detailed features. With the continuous processing of features, the higher-level network has a better response to abstract features. As a feature processing operation, pooling should also consider what the data before pooling is, what meaning the data represents, and what the correlation of the data is.\n",
    "3. Therefore, our approach here is to add MaxPooling2D to the back of each layer of Conv2D, which should theoretically improve the signifiican of the signals and prevent overfitting."
   ]
  },
  {
   "cell_type": "code",
   "execution_count": 171,
   "metadata": {},
   "outputs": [],
   "source": [
    "# clean sessions and set seeds\n",
    "tf.keras.backend.clear_session()\n",
    "np.random.seed(231)\n",
    "tf.random.set_seed(631)"
   ]
  },
  {
   "cell_type": "code",
   "execution_count": 172,
   "metadata": {},
   "outputs": [
    {
     "name": "stdout",
     "output_type": "stream",
     "text": [
      "Model: \"sequential\"\n",
      "_________________________________________________________________\n",
      " Layer (type)                Output Shape              Param #   \n",
      "=================================================================\n",
      " conv2d (Conv2D)             (None, 98, 98, 64)        640       \n",
      "                                                                 \n",
      " max_pooling2d (MaxPooling2D  (None, 32, 32, 64)       0         \n",
      " )                                                               \n",
      "                                                                 \n",
      " conv2d_1 (Conv2D)           (None, 30, 30, 64)        36928     \n",
      "                                                                 \n",
      " max_pooling2d_1 (MaxPooling  (None, 10, 10, 64)       0         \n",
      " 2D)                                                             \n",
      "                                                                 \n",
      " dropout (Dropout)           (None, 10, 10, 64)        0         \n",
      "                                                                 \n",
      " conv2d_2 (Conv2D)           (None, 4, 4, 32)          18464     \n",
      "                                                                 \n",
      " max_pooling2d_2 (MaxPooling  (None, 1, 1, 32)         0         \n",
      " 2D)                                                             \n",
      "                                                                 \n",
      " flatten (Flatten)           (None, 32)                0         \n",
      "                                                                 \n",
      " dense (Dense)               (None, 4)                 132       \n",
      "                                                                 \n",
      "=================================================================\n",
      "Total params: 56,164\n",
      "Trainable params: 56,164\n",
      "Non-trainable params: 0\n",
      "_________________________________________________________________\n"
     ]
    }
   ],
   "source": [
    "input_shape = (100, 100, 1)\n",
    "model_Max = Sequential([\n",
    "    Conv2D(64, kernel_size=(3, 3),strides=1, padding='valid',input_shape=(100, 100, 1)), \n",
    "    MaxPooling2D(pool_size=(3,3)), # add MaxPooling2D to the back of each layer of Conv2D\n",
    "    Conv2D(64, kernel_size=(3, 3),strides=1, padding='valid'),\n",
    "    MaxPooling2D(pool_size=(3,3)), # add MaxPooling2D to the back of each layer of Conv2D\n",
    "    tf.keras.layers.Dropout(rate=0.2),\n",
    "    Conv2D(32, kernel_size=(3, 3),strides=2, padding='valid',activation='relu'),\n",
    "    MaxPooling2D(pool_size=(3,3)), # add MaxPooling2D to the back of each layer of Conv2D\n",
    "    Flatten(),\n",
    "    Dense(4, activation='softmax')])\n",
    "\n",
    "model_Max.compile(loss='categorical_crossentropy',\n",
    "              optimizer=tf.keras.optimizers.Adam(learning_rate=0.001),\n",
    "              metrics=['accuracy'])\n",
    "model_Max.summary()"
   ]
  },
  {
   "cell_type": "code",
   "execution_count": 173,
   "metadata": {},
   "outputs": [
    {
     "name": "stdout",
     "output_type": "stream",
     "text": [
      "Epoch 1/20\n",
      "88/88 [==============================] - 11s 121ms/step - loss: 5.1341 - accuracy: 0.2807 - val_loss: 1.2888 - val_accuracy: 0.4417\n",
      "Epoch 2/20\n",
      "88/88 [==============================] - 11s 129ms/step - loss: 1.2707 - accuracy: 0.3904 - val_loss: 1.1993 - val_accuracy: 0.4917\n",
      "Epoch 3/20\n",
      "88/88 [==============================] - 11s 128ms/step - loss: 1.1701 - accuracy: 0.4282 - val_loss: 1.0253 - val_accuracy: 0.4583\n",
      "Epoch 4/20\n",
      "88/88 [==============================] - 12s 133ms/step - loss: 1.0359 - accuracy: 0.5068 - val_loss: 0.8591 - val_accuracy: 0.5217\n",
      "Epoch 5/20\n",
      "88/88 [==============================] - 12s 133ms/step - loss: 0.7745 - accuracy: 0.6586 - val_loss: 0.4891 - val_accuracy: 0.8300\n",
      "Epoch 6/20\n",
      "88/88 [==============================] - 11s 128ms/step - loss: 0.4781 - accuracy: 0.8196 - val_loss: 0.3429 - val_accuracy: 0.8867\n",
      "Epoch 7/20\n",
      "88/88 [==============================] - 11s 123ms/step - loss: 0.3101 - accuracy: 0.8921 - val_loss: 0.2819 - val_accuracy: 0.8867\n",
      "Epoch 8/20\n",
      "88/88 [==============================] - 11s 122ms/step - loss: 0.2699 - accuracy: 0.8989 - val_loss: 0.2695 - val_accuracy: 0.8867\n",
      "Epoch 9/20\n",
      "88/88 [==============================] - 11s 121ms/step - loss: 0.2625 - accuracy: 0.9032 - val_loss: 0.2562 - val_accuracy: 0.8867\n",
      "Epoch 10/20\n",
      "88/88 [==============================] - 11s 123ms/step - loss: 0.2468 - accuracy: 0.8986 - val_loss: 0.2609 - val_accuracy: 0.8867\n",
      "Epoch 11/20\n",
      "88/88 [==============================] - 11s 125ms/step - loss: 0.2444 - accuracy: 0.9032 - val_loss: 0.2657 - val_accuracy: 0.8867\n",
      "Epoch 12/20\n",
      "88/88 [==============================] - 12s 133ms/step - loss: 0.2278 - accuracy: 0.9039 - val_loss: 0.2640 - val_accuracy: 0.8867\n",
      "Epoch 13/20\n",
      "88/88 [==============================] - 11s 126ms/step - loss: 0.2378 - accuracy: 0.9007 - val_loss: 0.2499 - val_accuracy: 0.8867\n",
      "Epoch 14/20\n",
      "88/88 [==============================] - 11s 127ms/step - loss: 0.2249 - accuracy: 0.9057 - val_loss: 0.2519 - val_accuracy: 0.8867\n",
      "Epoch 15/20\n",
      "88/88 [==============================] - 10s 119ms/step - loss: 0.2236 - accuracy: 0.9075 - val_loss: 0.2585 - val_accuracy: 0.8833\n",
      "Epoch 16/20\n",
      "88/88 [==============================] - 11s 120ms/step - loss: 0.2240 - accuracy: 0.9043 - val_loss: 0.2582 - val_accuracy: 0.8917\n",
      "Epoch 17/20\n",
      "88/88 [==============================] - 10s 117ms/step - loss: 0.2193 - accuracy: 0.9104 - val_loss: 0.2479 - val_accuracy: 0.8867\n",
      "Epoch 18/20\n",
      "88/88 [==============================] - 11s 127ms/step - loss: 0.2199 - accuracy: 0.9021 - val_loss: 0.2480 - val_accuracy: 0.8867\n",
      "Epoch 19/20\n",
      "88/88 [==============================] - 11s 127ms/step - loss: 0.2158 - accuracy: 0.9082 - val_loss: 0.2497 - val_accuracy: 0.8850\n",
      "Epoch 20/20\n",
      "88/88 [==============================] - 11s 121ms/step - loss: 0.2123 - accuracy: 0.9107 - val_loss: 0.2461 - val_accuracy: 0.8850\n"
     ]
    }
   ],
   "source": [
    "epochs = 20\n",
    "# early_stopping_cb = tf.keras.callbacks.EarlyStopping(patience = 5, restore_best_weights=True)\n",
    "log_Max= model_Max.fit(x_CNN_trn, y_CNN_trn, \n",
    "                epochs=epochs,\n",
    "                validation_data=(x_CNN_val, y_CNN_val),\n",
    "                # callbacks = [early_stopping_cb]\n",
    "                )"
   ]
  },
  {
   "cell_type": "code",
   "execution_count": 174,
   "metadata": {},
   "outputs": [
    {
     "data": {
      "image/png": "[encoded data removed]",
      "text/plain": [
       "<Figure size 432x288 with 1 Axes>"
      ]
     },
     "metadata": {
      "needs_background": "light"
     },
     "output_type": "display_data"
    }
   ],
   "source": [
    "plt.plot(log_Max.history['loss'],label = \"training loss\",color='darkgreen')\n",
    "plt.plot(log_Max.history['val_loss'], label = \"validation loss\",color='darkblue')\n",
    "plt.legend()\n",
    "ax = plt.gca()\n",
    "plt.show()\n",
    "\n",
    "# # evalute the model on test set\n",
    "# model_mobilenet_V2.evaluate(x_preprocess_test, y_test)"
   ]
  },
  {
   "cell_type": "markdown",
   "metadata": {},
   "source": [
    "1. Although the accuracy rate is not improved, the learning speed is much better comparing with the research model and tuning model above.\n",
    "2. The accuracy rate is not improved but remian about the same as the research model\n",
    "\n",
    "Though it is not the best model, but the result would also record to the dataframe"
   ]
  },
  {
   "cell_type": "code",
   "execution_count": 175,
   "metadata": {},
   "outputs": [],
   "source": [
    "df_model_record_val_accuracy['log_Max'] = log_Max.history['val_accuracy']\n",
    "df_model_record_val_loss['log_Max'] = log_Max.history['val_loss']\n",
    "df_model_record_trn_accuracy['log_Max'] = log_Max.history['accuracy']\n",
    "df_model_record_trn_loss['log_Max'] = log_Max.history['loss']"
   ]
  },
  {
   "cell_type": "markdown",
   "metadata": {},
   "source": [
    "#### model 2: Adding BatchNormalization layers"
   ]
  },
  {
   "cell_type": "markdown",
   "metadata": {},
   "source": [
    "Batch Normalization, similar to ordinary data normalization, is a method of unifying scattered data. Through BatchNormalization, the nerves can look down on data with uniform specifications, making it easier for machine learning to learn the laws in the data.\\\n",
    "We believe that after adding BatchNormalization, it can ensure that the training of each layer of neurons is more stable, and important training information will not be lost. And improve the accuracy of the model"
   ]
  },
  {
   "cell_type": "code",
   "execution_count": 176,
   "metadata": {},
   "outputs": [],
   "source": [
    "# clean sessions and set seeds\n",
    "tf.keras.backend.clear_session()\n",
    "np.random.seed(231)\n",
    "tf.random.set_seed(631)"
   ]
  },
  {
   "cell_type": "code",
   "execution_count": 177,
   "metadata": {},
   "outputs": [
    {
     "name": "stdout",
     "output_type": "stream",
     "text": [
      "Model: \"sequential\"\n",
      "_________________________________________________________________\n",
      " Layer (type)                Output Shape              Param #   \n",
      "=================================================================\n",
      " conv2d (Conv2D)             (None, 98, 98, 64)        640       \n",
      "                                                                 \n",
      " batch_normalization (BatchN  (None, 98, 98, 64)       256       \n",
      " ormalization)                                                   \n",
      "                                                                 \n",
      " max_pooling2d (MaxPooling2D  (None, 32, 32, 64)       0         \n",
      " )                                                               \n",
      "                                                                 \n",
      " conv2d_1 (Conv2D)           (None, 30, 30, 64)        36928     \n",
      "                                                                 \n",
      " batch_normalization_1 (Batc  (None, 30, 30, 64)       256       \n",
      " hNormalization)                                                 \n",
      "                                                                 \n",
      " max_pooling2d_1 (MaxPooling  (None, 10, 10, 64)       0         \n",
      " 2D)                                                             \n",
      "                                                                 \n",
      " dropout (Dropout)           (None, 10, 10, 64)        0         \n",
      "                                                                 \n",
      " conv2d_2 (Conv2D)           (None, 4, 4, 32)          18464     \n",
      "                                                                 \n",
      " max_pooling2d_2 (MaxPooling  (None, 1, 1, 32)         0         \n",
      " 2D)                                                             \n",
      "                                                                 \n",
      " flatten (Flatten)           (None, 32)                0         \n",
      "                                                                 \n",
      " dense (Dense)               (None, 4)                 132       \n",
      "                                                                 \n",
      "=================================================================\n",
      "Total params: 56,676\n",
      "Trainable params: 56,420\n",
      "Non-trainable params: 256\n",
      "_________________________________________________________________\n"
     ]
    }
   ],
   "source": [
    "input_shape = (100, 100, 1)\n",
    "model_Max_adjust = Sequential([\n",
    "    Conv2D(64, kernel_size=(3, 3),strides=1, padding='valid',input_shape=input_shape),\n",
    "    BatchNormalization(), # BatchNormalization could prevent overfitting and be senestive to the input feature\n",
    "    MaxPooling2D(pool_size=(3,3)),\n",
    "\n",
    "    Conv2D(64, kernel_size=(3, 3),strides=1, padding='valid'),\n",
    "    BatchNormalization(), \n",
    "    MaxPooling2D(pool_size=(3,3)),\n",
    "\n",
    "\n",
    "    tf.keras.layers.Dropout(rate=0.2), #dropout to also prevent overfitting\n",
    "    Conv2D(32, kernel_size=(3, 3),strides=2, padding='valid',activation='relu'),\n",
    "\n",
    "    #BatchNormalization(),\n",
    "    MaxPooling2D(pool_size=(3,3)),\n",
    "\n",
    "    Flatten(), # convert pixels to vector\n",
    "    Dense(4, activation='softmax')])\n",
    "\n",
    "model_Max_adjust.compile(loss='categorical_crossentropy',\n",
    "              optimizer=tf.keras.optimizers.Adam(learning_rate=0.001), #learning rate\n",
    "              metrics=['accuracy'])\n",
    "model_Max_adjust.summary()"
   ]
  },
  {
   "cell_type": "code",
   "execution_count": 178,
   "metadata": {},
   "outputs": [
    {
     "name": "stdout",
     "output_type": "stream",
     "text": [
      "Epoch 1/20\n",
      "88/88 [==============================] - 17s 181ms/step - loss: 1.3395 - accuracy: 0.3979 - val_loss: 1.2899 - val_accuracy: 0.2650\n",
      "Epoch 2/20\n",
      "88/88 [==============================] - 14s 154ms/step - loss: 0.8203 - accuracy: 0.6800 - val_loss: 0.6471 - val_accuracy: 0.7800\n",
      "Epoch 3/20\n",
      "88/88 [==============================] - 14s 163ms/step - loss: 0.4299 - accuracy: 0.8439 - val_loss: 0.3537 - val_accuracy: 0.8883\n",
      "Epoch 4/20\n",
      "88/88 [==============================] - 14s 161ms/step - loss: 0.3232 - accuracy: 0.8800 - val_loss: 0.2938 - val_accuracy: 0.8867\n",
      "Epoch 5/20\n",
      "88/88 [==============================] - 15s 175ms/step - loss: 0.3041 - accuracy: 0.8850 - val_loss: 0.2951 - val_accuracy: 0.8817\n",
      "Epoch 6/20\n",
      "88/88 [==============================] - 14s 163ms/step - loss: 0.2832 - accuracy: 0.8904 - val_loss: 0.2928 - val_accuracy: 0.8867\n",
      "Epoch 7/20\n",
      "88/88 [==============================] - 15s 166ms/step - loss: 0.2724 - accuracy: 0.8896 - val_loss: 0.2795 - val_accuracy: 0.8867\n",
      "Epoch 8/20\n",
      "88/88 [==============================] - 15s 171ms/step - loss: 0.2712 - accuracy: 0.8943 - val_loss: 0.2856 - val_accuracy: 0.8867\n",
      "Epoch 9/20\n",
      "88/88 [==============================] - 15s 167ms/step - loss: 0.2534 - accuracy: 0.8946 - val_loss: 0.2525 - val_accuracy: 0.8850\n",
      "Epoch 10/20\n",
      "88/88 [==============================] - 14s 163ms/step - loss: 0.2387 - accuracy: 0.9025 - val_loss: 0.2609 - val_accuracy: 0.8867\n",
      "Epoch 11/20\n",
      "88/88 [==============================] - 15s 172ms/step - loss: 0.2572 - accuracy: 0.8950 - val_loss: 0.2906 - val_accuracy: 0.8850\n",
      "Epoch 12/20\n",
      "88/88 [==============================] - 15s 173ms/step - loss: 0.2342 - accuracy: 0.9004 - val_loss: 0.2785 - val_accuracy: 0.8867\n",
      "Epoch 13/20\n",
      "88/88 [==============================] - 14s 162ms/step - loss: 0.2475 - accuracy: 0.8932 - val_loss: 0.2805 - val_accuracy: 0.8783\n",
      "Epoch 14/20\n",
      "88/88 [==============================] - 14s 154ms/step - loss: 0.2397 - accuracy: 0.8957 - val_loss: 0.3177 - val_accuracy: 0.8100\n",
      "Epoch 15/20\n",
      "88/88 [==============================] - 15s 166ms/step - loss: 0.2273 - accuracy: 0.8996 - val_loss: 0.2949 - val_accuracy: 0.8317\n",
      "Epoch 16/20\n",
      "88/88 [==============================] - 15s 171ms/step - loss: 0.2392 - accuracy: 0.9039 - val_loss: 0.2769 - val_accuracy: 0.8867\n",
      "Epoch 17/20\n",
      "88/88 [==============================] - 16s 176ms/step - loss: 0.2214 - accuracy: 0.8993 - val_loss: 0.2731 - val_accuracy: 0.8867\n",
      "Epoch 18/20\n",
      "88/88 [==============================] - 16s 185ms/step - loss: 0.2387 - accuracy: 0.8896 - val_loss: 0.2860 - val_accuracy: 0.8867\n",
      "Epoch 19/20\n",
      "88/88 [==============================] - 14s 160ms/step - loss: 0.2240 - accuracy: 0.9043 - val_loss: 0.2784 - val_accuracy: 0.8517\n",
      "Epoch 20/20\n",
      "88/88 [==============================] - 15s 169ms/step - loss: 0.2227 - accuracy: 0.8968 - val_loss: 0.2841 - val_accuracy: 0.8867\n"
     ]
    }
   ],
   "source": [
    "epochs = 20\n",
    "# early_stopping_cb = tf.keras.callbacks.EarlyStopping(patience = 5, restore_best_weights=True)\n",
    "log_Max_adjust= model_Max_adjust.fit(x_CNN_trn, y_CNN_trn, \n",
    "                epochs=epochs,\n",
    "                validation_data=(x_CNN_val, y_CNN_val),\n",
    "                # callbacks = [early_stopping_cb]\n",
    "                )"
   ]
  },
  {
   "cell_type": "code",
   "execution_count": 179,
   "metadata": {},
   "outputs": [
    {
     "data": {
      "image/png": "[encoded data removed]",
      "text/plain": [
       "<Figure size 432x288 with 1 Axes>"
      ]
     },
     "metadata": {
      "needs_background": "light"
     },
     "output_type": "display_data"
    }
   ],
   "source": [
    "plt.plot(log_Max_adjust.history['loss'],label = \"training loss\",color='darkgreen')\n",
    "plt.plot(log_Max_adjust.history['val_loss'], label = \"validation loss\",color='darkblue')\n",
    "plt.legend()\n",
    "ax = plt.gca()\n",
    "plt.show()\n",
    "\n",
    "# # evalute the model on test set\n",
    "# model_mobilenet_V2.evaluate(x_preprocess_test, y_test)"
   ]
  },
  {
   "cell_type": "markdown",
   "metadata": {},
   "source": [
    " With 20 epcchs, we can observe:\n",
    "1. loss: 0.2227 \n",
    "2. accuracy: 0.8968 \n",
    "3. val_loss: 0.2841 \n",
    "4. val_accuracy: 0.8867\n",
    "5. The execution time of each epoch is about 15 seconds\n",
    "\n",
    "compare with the research model and other model above, adding BatchNormalization and max_pooling2d layers after each Conv2D layers:\n",
    "1. would have the similiar and highest accuracy rate, \n",
    "2. though the execution time of each epoch increase a bit, the learning speed (especially for the validation set) is much better than the research model and other model above\n",
    "\n",
    "We would also record the result to the dataframe:"
   ]
  },
  {
   "cell_type": "code",
   "execution_count": 180,
   "metadata": {},
   "outputs": [],
   "source": [
    "df_model_record_val_accuracy['log_Max_adjust'] = log_Max_adjust.history['val_accuracy']\n",
    "df_model_record_val_loss['log_Max_adjust'] = log_Max_adjust.history['val_loss']\n",
    "df_model_record_trn_accuracy['log_Max_adjust'] = log_Max_adjust.history['accuracy']\n",
    "df_model_record_trn_loss['log_Max_adjust'] = log_Max_adjust.history['loss']"
   ]
  },
  {
   "cell_type": "markdown",
   "metadata": {},
   "source": [
    "### Method3: using other pre-train model"
   ]
  },
  {
   "cell_type": "markdown",
   "metadata": {},
   "source": [
    "1. Here we consider two pre-train model, which are mobelnetV1 and mobelnetV2, and the explained reasons coould be found in the following:\n",
    "2. Before apply the mobelnet, we would need to fit the shape of the input image, which is (160,160,3)\n",
    "3. In order to do that, we use zoom to let the image become larger (the original is (100,100,1))\n",
    "4. We would also scale the image to [0,1] as the gray-scale image to fit the model"
   ]
  },
  {
   "cell_type": "code",
   "execution_count": 49,
   "metadata": {},
   "outputs": [
    {
     "name": "stdout",
     "output_type": "stream",
     "text": [
      "time_series_1_reshape shape: (4000, 100, 50, 1)\n",
      "time_series_2_reshape shape: (4000, 100, 50, 1)\n",
      "time_series_stack_reshap shape: (4000, 100, 100, 1)\n"
     ]
    }
   ],
   "source": [
    "time_series_CNN = np.append(time_series_1_reshape, time_series_2_reshape , axis=2)\n",
    "print('time_series_1_reshape shape:', time_series_1_reshape.shape)\n",
    "print('time_series_2_reshape shape:', time_series_2_reshape.shape)\n",
    "print('time_series_stack_reshap shape:', time_series_CNN.shape)"
   ]
  },
  {
   "cell_type": "code",
   "execution_count": 50,
   "metadata": {},
   "outputs": [
    {
     "data": {
      "text/plain": [
       "(4000, 100, 100, 1)"
      ]
     },
     "execution_count": 50,
     "metadata": {},
     "output_type": "execute_result"
    }
   ],
   "source": [
    "# scaling to [0,1] as the gray-scale image\n",
    "x_preprocess = preprocess_input(time_series_CNN.copy())\n",
    "x_preprocess.shape"
   ]
  },
  {
   "cell_type": "code",
   "execution_count": 51,
   "metadata": {},
   "outputs": [
    {
     "name": "stdout",
     "output_type": "stream",
     "text": [
      "Processing all the data to resized images:\n",
      "* Processed 200 images\n",
      "* Processed 400 images\n",
      "* Processed 600 images\n",
      "* Processed 800 images\n",
      "* Processed 1000 images\n",
      "* Processed 1200 images\n",
      "* Processed 1400 images\n",
      "* Processed 1600 images\n",
      "* Processed 1800 images\n",
      "* Processed 2000 images\n",
      "* Processed 2200 images\n",
      "* Processed 2400 images\n",
      "* Processed 2600 images\n",
      "* Processed 2800 images\n",
      "* Processed 3000 images\n",
      "* Processed 3200 images\n",
      "* Processed 3400 images\n",
      "* Processed 3600 images\n",
      "* Processed 3800 images\n",
      "* Processed 4000 images\n"
     ]
    }
   ],
   "source": [
    "print('Processing all the data to resized images:')\n",
    "resized_images = []\n",
    "for i in range(x_preprocess.shape[0]):\n",
    "    resized_images.append(zoom(x_preprocess[i], (1.6, 1.6, 3.0)))\n",
    "    if (i+1) % 200 == 0:\n",
    "        print('* Processed %d images' % (i+1))\n",
    "x_preprocess = np.stack(resized_images)"
   ]
  },
  {
   "cell_type": "code",
   "execution_count": 53,
   "metadata": {},
   "outputs": [],
   "source": [
    "# trian val and test split\n",
    "np.random.seed(123)\n",
    "idx = np.arange(len(time_series_1))\n",
    "np.random.shuffle(idx)\n",
    "\n",
    "train = 2800\n",
    "val = 600\n",
    "test = 600\n",
    "train_idxs = idx[:train]\n",
    "val_idxs = idx[train:train+val]\n",
    "test_idxs = idx[train+val:train+val+test]\n",
    "\n",
    "x_preprocess_trn = x_preprocess[train_idxs]\n",
    "x_preprocess_val = x_preprocess[val_idxs]\n",
    "x_preprocess_test = x_preprocess[test_idxs]\n",
    "\n",
    "\n",
    "y_trn = y[train_idxs]\n",
    "y_val = y[val_idxs]\n",
    "y_test = y[test_idxs]"
   ]
  },
  {
   "cell_type": "markdown",
   "metadata": {},
   "source": [
    "#### mobelnetV1 "
   ]
  },
  {
   "cell_type": "markdown",
   "metadata": {},
   "source": [
    "The reason why we apply a pre-trained model is that for the Trainable params would be much less than the research model since it is taken as a forzen layers.\n",
    "In Generally speaking, the pre-trained model is more stable and computing power is more efficient.\n",
    "\n",
    "Notice that:\n",
    "1. The difference between GlobalAveragePooling and our usual average pooling is that GlobalAveragePooling takes the average value inside each feature map to each categories\n",
    "2. FCNN is stack the data but not helping the summary\n",
    "2. GlobalAveragePooling2D aggregates the data into matrix, summarizing the data for better interputation to softmax\n",
    "4. MaxPooling1D takes a pool_length argument, whereas GlobalMaxPooling1D does not.\n",
    "\n",
    "One advantage of global average pooling over the fully connected layers is that it is more native to the convolution structure by enforcing correspondences between feature maps and categories. Thus the feature maps can be easily interpreted as categories confidence maps. Another advantage is that there is no parameter to optimize in the global average pooling thus overfitting is avoided at this layer. Furthermore, global average pooling sums out the spatial information, thus it is more robust to spatial translations of the input."
   ]
  },
  {
   "cell_type": "code",
   "execution_count": 54,
   "metadata": {},
   "outputs": [],
   "source": [
    "# clean sessions and set seeds\n",
    "tf.keras.backend.clear_session()\n",
    "np.random.seed(231)\n",
    "tf.random.set_seed(631)"
   ]
  },
  {
   "cell_type": "code",
   "execution_count": 55,
   "metadata": {},
   "outputs": [
    {
     "name": "stdout",
     "output_type": "stream",
     "text": [
      "Model: \"sequential\"\n",
      "_________________________________________________________________\n",
      " Layer (type)                Output Shape              Param #   \n",
      "=================================================================\n",
      " mobilenet_1.00_160 (Functio  (None, 5, 5, 1024)       3228864   \n",
      " nal)                                                            \n",
      "                                                                 \n",
      " global_average_pooling2d (G  (None, 1024)             0         \n",
      " lobalAveragePooling2D)                                          \n",
      "                                                                 \n",
      " dense (Dense)               (None, 4)                 4100      \n",
      "                                                                 \n",
      "=================================================================\n",
      "Total params: 3,232,964\n",
      "Trainable params: 4,100\n",
      "Non-trainable params: 3,228,864\n",
      "_________________________________________________________________\n"
     ]
    }
   ],
   "source": [
    "#  use the pre-train mobilenet\n",
    "mobilenet = MobileNet(weights='imagenet', include_top=False, input_shape = (160,160,3))\n",
    "mobilenet.trainable = False # We would like to freeze the pre-trained model\n",
    "\n",
    "model_mobilenet = Sequential([\n",
    "    mobilenet,\n",
    "    GlobalAveragePooling2D(),\n",
    "    Dense(4, activation='softmax')])\n",
    "    \n",
    "model_mobilenet.compile(loss='categorical_crossentropy',\n",
    "              optimizer=tf.keras.optimizers.Adam(learning_rate=0.001),\n",
    "              metrics=['accuracy'])\n",
    "model_mobilenet.summary()"
   ]
  },
  {
   "cell_type": "code",
   "execution_count": 57,
   "metadata": {},
   "outputs": [
    {
     "name": "stdout",
     "output_type": "stream",
     "text": [
      "Epoch 1/20\n",
      "88/88 [==============================] - 24s 257ms/step - loss: 1.2816 - accuracy: 0.4357 - val_loss: 1.1487 - val_accuracy: 0.5283\n",
      "Epoch 2/20\n",
      "88/88 [==============================] - 22s 249ms/step - loss: 1.0496 - accuracy: 0.6350 - val_loss: 1.0154 - val_accuracy: 0.6717\n",
      "Epoch 3/20\n",
      "88/88 [==============================] - 23s 262ms/step - loss: 0.9196 - accuracy: 0.7239 - val_loss: 0.9425 - val_accuracy: 0.6183\n",
      "Epoch 4/20\n",
      "88/88 [==============================] - 21s 239ms/step - loss: 0.8342 - accuracy: 0.7500 - val_loss: 0.8437 - val_accuracy: 0.7550\n",
      "Epoch 5/20\n",
      "88/88 [==============================] - 20s 229ms/step - loss: 0.7680 - accuracy: 0.7825 - val_loss: 0.7869 - val_accuracy: 0.7567\n",
      "Epoch 6/20\n",
      "88/88 [==============================] - 23s 257ms/step - loss: 0.7094 - accuracy: 0.8107 - val_loss: 0.7411 - val_accuracy: 0.7833\n",
      "Epoch 7/20\n",
      "88/88 [==============================] - 22s 247ms/step - loss: 0.6587 - accuracy: 0.8243 - val_loss: 0.6873 - val_accuracy: 0.8067\n",
      "Epoch 8/20\n",
      "88/88 [==============================] - 23s 259ms/step - loss: 0.6273 - accuracy: 0.8364 - val_loss: 0.6667 - val_accuracy: 0.8150\n",
      "Epoch 9/20\n",
      "88/88 [==============================] - 23s 264ms/step - loss: 0.6013 - accuracy: 0.8361 - val_loss: 0.6525 - val_accuracy: 0.8133\n",
      "Epoch 10/20\n",
      "88/88 [==============================] - 22s 248ms/step - loss: 0.5651 - accuracy: 0.8561 - val_loss: 0.6184 - val_accuracy: 0.8233\n",
      "Epoch 11/20\n",
      "88/88 [==============================] - 23s 258ms/step - loss: 0.5520 - accuracy: 0.8489 - val_loss: 0.6005 - val_accuracy: 0.8333\n",
      "Epoch 12/20\n",
      "88/88 [==============================] - 24s 276ms/step - loss: 0.5250 - accuracy: 0.8579 - val_loss: 0.5677 - val_accuracy: 0.8300\n",
      "Epoch 13/20\n",
      "88/88 [==============================] - 24s 276ms/step - loss: 0.5033 - accuracy: 0.8686 - val_loss: 0.5584 - val_accuracy: 0.8433\n",
      "Epoch 14/20\n",
      "88/88 [==============================] - 22s 246ms/step - loss: 0.4917 - accuracy: 0.8725 - val_loss: 0.5698 - val_accuracy: 0.7783\n",
      "Epoch 15/20\n",
      "88/88 [==============================] - 20s 233ms/step - loss: 0.4735 - accuracy: 0.8771 - val_loss: 0.5321 - val_accuracy: 0.8150\n",
      "Epoch 16/20\n",
      "88/88 [==============================] - 21s 234ms/step - loss: 0.4548 - accuracy: 0.8807 - val_loss: 0.5202 - val_accuracy: 0.8567\n",
      "Epoch 17/20\n",
      "88/88 [==============================] - 23s 264ms/step - loss: 0.4402 - accuracy: 0.8829 - val_loss: 0.5037 - val_accuracy: 0.8367\n",
      "Epoch 18/20\n",
      "88/88 [==============================] - 23s 259ms/step - loss: 0.4316 - accuracy: 0.8829 - val_loss: 0.4977 - val_accuracy: 0.8517\n",
      "Epoch 19/20\n",
      "88/88 [==============================] - 22s 255ms/step - loss: 0.4193 - accuracy: 0.8886 - val_loss: 0.4974 - val_accuracy: 0.8367\n",
      "Epoch 20/20\n",
      "88/88 [==============================] - 25s 282ms/step - loss: 0.4119 - accuracy: 0.8854 - val_loss: 0.4730 - val_accuracy: 0.8450\n"
     ]
    }
   ],
   "source": [
    "epochs = 20\n",
    "# early_stopping_cb = tf.keras.callbacks.EarlyStopping(patience = 5, restore_best_weights=True)\n",
    "log_mobilenet= model_mobilenet.fit(x_preprocess_trn, y_trn, \n",
    "                epochs=epochs,\n",
    "                validation_data=(x_preprocess_val, y_val),\n",
    "                # callbacks = [early_stopping_cb]\n",
    "                )"
   ]
  },
  {
   "cell_type": "code",
   "execution_count": 58,
   "metadata": {},
   "outputs": [
    {
     "data": {
      "image/png": "[encoded data removed]",
      "text/plain": [
       "<Figure size 432x288 with 1 Axes>"
      ]
     },
     "metadata": {
      "needs_background": "light"
     },
     "output_type": "display_data"
    }
   ],
   "source": [
    "plt.plot(log_mobilenet.history['loss'],label = \"training loss\",color='darkgreen')\n",
    "plt.plot(log_mobilenet.history['val_loss'], label = \"validation loss\",color='darkblue')\n",
    "plt.legend()\n",
    "ax = plt.gca()\n",
    "plt.show()"
   ]
  },
  {
   "cell_type": "markdown",
   "metadata": {},
   "source": [
    "With 20 epcchs, we can observe:\n",
    "1. loss: 0.4119\n",
    "2. accuracy: 0.8854 \n",
    "3. val_loss: 0.4730\n",
    "4. val_accuracy: 0.8450\n",
    "5. The execution time of each epoch is about 25 seconds\n",
    "\n",
    "Observing:\n",
    "1. From the plot we could see that the learning speed for both train and validation set is great.\n",
    "2. but the execution time of each epoch is mot actually faster\n",
    "3. the accuracy rate is not also very well (which is making sence since the model is not completely pefect suitable to our data)\n",
    "\n",
    "But we would also record the result to the dataframe:"
   ]
  },
  {
   "cell_type": "code",
   "execution_count": 181,
   "metadata": {},
   "outputs": [],
   "source": [
    "df_model_record_val_accuracy['log_mobilenet'] = log_mobilenet.history['val_accuracy']\n",
    "df_model_record_val_loss['log_mobilenet'] = log_mobilenet.history['val_loss']\n",
    "df_model_record_trn_accuracy['log_mobilenet'] = log_mobilenet.history['accuracy']\n",
    "df_model_record_trn_loss['log_mobilenet'] = log_mobilenet.history['loss']"
   ]
  },
  {
   "cell_type": "markdown",
   "metadata": {},
   "source": [
    "#### mobelnetV2"
   ]
  },
  {
   "cell_type": "markdown",
   "metadata": {},
   "source": [
    "The reason why we are using the moblenetV2 is that \n",
    "1. It builds upon the ideas from MobileNetV1\n",
    "2. MobileNetV2 is about 35 percent faster with the same accuracy than MobileNetV1\n",
    "3. Linear bottlenecks between the layers: Experimental evidence suggests that using linear layers is crucial as it prevents nonlinearities from destroying too much information.\n",
    "\n",
    "some researches claims that using non-linear layers in bottlenecks indeed hurts the performance by several percent, further validating our hypothesis. With the improvement from MobileNetV1 to add linear function between the layers. We believed that with adding the linear function between the layers, the model would be more stable and the accuracy rate would be higher."
   ]
  },
  {
   "cell_type": "code",
   "execution_count": 63,
   "metadata": {},
   "outputs": [],
   "source": [
    "# clean sessions and set seeds\n",
    "tf.keras.backend.clear_session()\n",
    "np.random.seed(231)\n",
    "tf.random.set_seed(631)"
   ]
  },
  {
   "cell_type": "code",
   "execution_count": 64,
   "metadata": {},
   "outputs": [
    {
     "name": "stdout",
     "output_type": "stream",
     "text": [
      "Model: \"sequential\"\n",
      "_________________________________________________________________\n",
      " Layer (type)                Output Shape              Param #   \n",
      "=================================================================\n",
      " mobilenetv2_1.00_160 (Funct  (None, 5, 5, 1280)       2257984   \n",
      " ional)                                                          \n",
      "                                                                 \n",
      " global_average_pooling2d (G  (None, 1280)             0         \n",
      " lobalAveragePooling2D)                                          \n",
      "                                                                 \n",
      " dense (Dense)               (None, 4)                 5124      \n",
      "                                                                 \n",
      "=================================================================\n",
      "Total params: 2,263,108\n",
      "Trainable params: 5,124\n",
      "Non-trainable params: 2,257,984\n",
      "_________________________________________________________________\n"
     ]
    }
   ],
   "source": [
    "mobilenet_v2 = tf.keras.applications.MobileNetV2(weights='imagenet', include_top=False, input_shape = (160,160,3))\n",
    "mobilenet_v2.trainable = False\n",
    "\n",
    "model_mobilenet_V2 = Sequential([\n",
    "    mobilenet_v2,\n",
    "    GlobalAveragePooling2D(),\n",
    "    Dense(4, activation='softmax')])\n",
    "    \n",
    "model_mobilenet_V2.compile(loss='categorical_crossentropy',\n",
    "              optimizer=tf.keras.optimizers.Adam(learning_rate=0.001),\n",
    "              metrics=['accuracy'])\n",
    "model_mobilenet_V2.summary()"
   ]
  },
  {
   "cell_type": "code",
   "execution_count": 65,
   "metadata": {},
   "outputs": [
    {
     "name": "stdout",
     "output_type": "stream",
     "text": [
      "Epoch 1/20\n",
      "88/88 [==============================] - 22s 217ms/step - loss: 1.2710 - accuracy: 0.4221 - val_loss: 1.1854 - val_accuracy: 0.3983\n",
      "Epoch 2/20\n",
      "88/88 [==============================] - 22s 250ms/step - loss: 1.0589 - accuracy: 0.5821 - val_loss: 0.9978 - val_accuracy: 0.6400\n",
      "Epoch 3/20\n",
      "88/88 [==============================] - 21s 242ms/step - loss: 0.9405 - accuracy: 0.6643 - val_loss: 0.9956 - val_accuracy: 0.5567\n",
      "Epoch 4/20\n",
      "88/88 [==============================] - 20s 224ms/step - loss: 0.8672 - accuracy: 0.6964 - val_loss: 0.8989 - val_accuracy: 0.6750\n",
      "Epoch 5/20\n",
      "88/88 [==============================] - 20s 226ms/step - loss: 0.8210 - accuracy: 0.7150 - val_loss: 0.7829 - val_accuracy: 0.7400\n",
      "Epoch 6/20\n",
      "88/88 [==============================] - 22s 245ms/step - loss: 0.7601 - accuracy: 0.7457 - val_loss: 0.7495 - val_accuracy: 0.7650\n",
      "Epoch 7/20\n",
      "88/88 [==============================] - 23s 260ms/step - loss: 0.7134 - accuracy: 0.7664 - val_loss: 0.7299 - val_accuracy: 0.7183\n",
      "Epoch 8/20\n",
      "88/88 [==============================] - 25s 282ms/step - loss: 0.6903 - accuracy: 0.7771 - val_loss: 0.6947 - val_accuracy: 0.7883\n",
      "Epoch 9/20\n",
      "88/88 [==============================] - 24s 271ms/step - loss: 0.6666 - accuracy: 0.7779 - val_loss: 0.7224 - val_accuracy: 0.7783\n",
      "Epoch 10/20\n",
      "88/88 [==============================] - 22s 255ms/step - loss: 0.6222 - accuracy: 0.8082 - val_loss: 0.6368 - val_accuracy: 0.8083\n",
      "Epoch 11/20\n",
      "88/88 [==============================] - 23s 267ms/step - loss: 0.6228 - accuracy: 0.7914 - val_loss: 0.6444 - val_accuracy: 0.7883\n",
      "Epoch 12/20\n",
      "88/88 [==============================] - 23s 268ms/step - loss: 0.5878 - accuracy: 0.8157 - val_loss: 0.5940 - val_accuracy: 0.8067\n",
      "Epoch 13/20\n",
      "88/88 [==============================] - 24s 279ms/step - loss: 0.5658 - accuracy: 0.8271 - val_loss: 0.6031 - val_accuracy: 0.8083\n",
      "Epoch 14/20\n",
      "88/88 [==============================] - 24s 272ms/step - loss: 0.5579 - accuracy: 0.8218 - val_loss: 0.6205 - val_accuracy: 0.7600\n",
      "Epoch 15/20\n",
      "88/88 [==============================] - 21s 237ms/step - loss: 0.5362 - accuracy: 0.8425 - val_loss: 0.5910 - val_accuracy: 0.7783\n",
      "Epoch 16/20\n",
      "88/88 [==============================] - 21s 242ms/step - loss: 0.5235 - accuracy: 0.8429 - val_loss: 0.5553 - val_accuracy: 0.8300\n",
      "Epoch 17/20\n",
      "88/88 [==============================] - 22s 250ms/step - loss: 0.5028 - accuracy: 0.8521 - val_loss: 0.5483 - val_accuracy: 0.8000\n",
      "Epoch 18/20\n",
      "88/88 [==============================] - 21s 236ms/step - loss: 0.4972 - accuracy: 0.8471 - val_loss: 0.5385 - val_accuracy: 0.8300\n",
      "Epoch 19/20\n",
      "88/88 [==============================] - 23s 262ms/step - loss: 0.4922 - accuracy: 0.8496 - val_loss: 0.5109 - val_accuracy: 0.8300\n",
      "Epoch 20/20\n",
      "88/88 [==============================] - 23s 256ms/step - loss: 0.4737 - accuracy: 0.8568 - val_loss: 0.5392 - val_accuracy: 0.8283\n"
     ]
    }
   ],
   "source": [
    "epochs = 20\n",
    "# early_stopping_cb = tf.keras.callbacks.EarlyStopping(patience = 5, restore_best_weights=True)\n",
    "log_mobilenet_v2= model_mobilenet_V2.fit(x_preprocess_trn, y_trn, \n",
    "                epochs=epochs,\n",
    "                validation_data=(x_preprocess_val, y_val),\n",
    "                # callbacks = [early_stopping_cb]\n",
    "                )"
   ]
  },
  {
   "cell_type": "code",
   "execution_count": 66,
   "metadata": {},
   "outputs": [
    {
     "data": {
      "image/png": "[encoded data removed]",
      "text/plain": [
       "<Figure size 432x288 with 1 Axes>"
      ]
     },
     "metadata": {
      "needs_background": "light"
     },
     "output_type": "display_data"
    }
   ],
   "source": [
    "plt.plot(log_mobilenet_v2.history['loss'],label = \"training loss\",color='darkgreen')\n",
    "plt.plot(log_mobilenet_v2.history['val_loss'], label = \"validation loss\",color='darkblue')\n",
    "plt.legend()\n",
    "ax = plt.gca()\n",
    "plt.show()\n",
    "\n",
    "# # evalute the model on test set\n",
    "# model_mobilenet_V2.evaluate(x_preprocess_test, y_test)"
   ]
  },
  {
   "cell_type": "markdown",
   "metadata": {},
   "source": [
    "With 20 epcchs, we can observe:\n",
    "1. loss: 0.4737\n",
    "2. accuracy: 0.8568 \n",
    "3. val_loss: 0.5392\n",
    "4. val_accuracy: 0.8283\n",
    "5. The execution time of each epoch is about 20 seconds\n",
    "\n",
    "Even though with adding linear function between the layers, the accuracy rate is not higher, and the val_loss is also not lower, but the execution time is improve a bit.\n",
    "\n",
    "We would also record the result to the dataframe:"
   ]
  },
  {
   "cell_type": "code",
   "execution_count": 182,
   "metadata": {},
   "outputs": [],
   "source": [
    "df_model_record_val_accuracy['log_mobilenet_v2'] = log_mobilenet_v2.history['val_accuracy']\n",
    "df_model_record_val_loss['log_mobilenet_v2'] = log_mobilenet_v2.history['val_loss']\n",
    "df_model_record_trn_accuracy['log_mobilenet_v2'] = log_mobilenet_v2.history['accuracy']\n",
    "df_model_record_trn_loss['log_mobilenet_v2'] = log_mobilenet_v2.history['loss']"
   ]
  },
  {
   "cell_type": "markdown",
   "metadata": {},
   "source": [
    "## Question 6\n",
    "**Compare the models you have created so far (both RNNs and CNNs) and make a selection (making sure to justify this). Train that model on a combined training and validation set and evaluate it on your test set.**"
   ]
  },
  {
   "cell_type": "markdown",
   "metadata": {},
   "source": [
    "### Justification for different models\n",
    "Now we print out the result to see the difference of each model for both RNN and CNN with 20 epochs"
   ]
  },
  {
   "cell_type": "code",
   "execution_count": 189,
   "metadata": {},
   "outputs": [
    {
     "data": {
      "text/html": [
       "<div>\n",
       "<style scoped>\n",
       "    .dataframe tbody tr th:only-of-type {\n",
       "        vertical-align: middle;\n",
       "    }\n",
       "\n",
       "    .dataframe tbody tr th {\n",
       "        vertical-align: top;\n",
       "    }\n",
       "\n",
       "    .dataframe thead th {\n",
       "        text-align: right;\n",
       "    }\n",
       "</style>\n",
       "<table border=\"1\" class=\"dataframe\">\n",
       "  <thead>\n",
       "    <tr style=\"text-align: right;\">\n",
       "      <th></th>\n",
       "      <th>log_optimal</th>\n",
       "      <th>log_optimal2</th>\n",
       "      <th>log_CNN</th>\n",
       "      <th>log_CNN_tuner</th>\n",
       "      <th>log_Max</th>\n",
       "      <th>log_Max_adjust</th>\n",
       "      <th>log_mobilenet</th>\n",
       "      <th>log_mobilenet_v2</th>\n",
       "    </tr>\n",
       "  </thead>\n",
       "  <tbody>\n",
       "    <tr>\n",
       "      <th>0</th>\n",
       "      <td>0.643333</td>\n",
       "      <td>0.503333</td>\n",
       "      <td>0.845000</td>\n",
       "      <td>0.780000</td>\n",
       "      <td>0.441667</td>\n",
       "      <td>0.265000</td>\n",
       "      <td>0.528333</td>\n",
       "      <td>0.398333</td>\n",
       "    </tr>\n",
       "    <tr>\n",
       "      <th>1</th>\n",
       "      <td>0.845000</td>\n",
       "      <td>0.708333</td>\n",
       "      <td>0.883333</td>\n",
       "      <td>0.885000</td>\n",
       "      <td>0.491667</td>\n",
       "      <td>0.780000</td>\n",
       "      <td>0.671667</td>\n",
       "      <td>0.640000</td>\n",
       "    </tr>\n",
       "    <tr>\n",
       "      <th>2</th>\n",
       "      <td>0.883333</td>\n",
       "      <td>0.765000</td>\n",
       "      <td>0.871667</td>\n",
       "      <td>0.890000</td>\n",
       "      <td>0.458333</td>\n",
       "      <td>0.888333</td>\n",
       "      <td>0.618333</td>\n",
       "      <td>0.556667</td>\n",
       "    </tr>\n",
       "    <tr>\n",
       "      <th>3</th>\n",
       "      <td>0.870000</td>\n",
       "      <td>0.835000</td>\n",
       "      <td>0.876667</td>\n",
       "      <td>0.886667</td>\n",
       "      <td>0.521667</td>\n",
       "      <td>0.886667</td>\n",
       "      <td>0.755000</td>\n",
       "      <td>0.675000</td>\n",
       "    </tr>\n",
       "    <tr>\n",
       "      <th>4</th>\n",
       "      <td>0.880000</td>\n",
       "      <td>0.863333</td>\n",
       "      <td>0.886667</td>\n",
       "      <td>0.886667</td>\n",
       "      <td>0.830000</td>\n",
       "      <td>0.881667</td>\n",
       "      <td>0.756667</td>\n",
       "      <td>0.740000</td>\n",
       "    </tr>\n",
       "    <tr>\n",
       "      <th>5</th>\n",
       "      <td>0.885000</td>\n",
       "      <td>0.861667</td>\n",
       "      <td>0.885000</td>\n",
       "      <td>0.886667</td>\n",
       "      <td>0.886667</td>\n",
       "      <td>0.886667</td>\n",
       "      <td>0.783333</td>\n",
       "      <td>0.765000</td>\n",
       "    </tr>\n",
       "    <tr>\n",
       "      <th>6</th>\n",
       "      <td>0.888333</td>\n",
       "      <td>0.878333</td>\n",
       "      <td>0.883333</td>\n",
       "      <td>0.881667</td>\n",
       "      <td>0.886667</td>\n",
       "      <td>0.886667</td>\n",
       "      <td>0.806667</td>\n",
       "      <td>0.718333</td>\n",
       "    </tr>\n",
       "    <tr>\n",
       "      <th>7</th>\n",
       "      <td>0.886667</td>\n",
       "      <td>0.865000</td>\n",
       "      <td>0.888333</td>\n",
       "      <td>0.888333</td>\n",
       "      <td>0.886667</td>\n",
       "      <td>0.886667</td>\n",
       "      <td>0.815000</td>\n",
       "      <td>0.788333</td>\n",
       "    </tr>\n",
       "    <tr>\n",
       "      <th>8</th>\n",
       "      <td>0.883333</td>\n",
       "      <td>0.880000</td>\n",
       "      <td>0.888333</td>\n",
       "      <td>0.888333</td>\n",
       "      <td>0.886667</td>\n",
       "      <td>0.885000</td>\n",
       "      <td>0.813333</td>\n",
       "      <td>0.778333</td>\n",
       "    </tr>\n",
       "    <tr>\n",
       "      <th>9</th>\n",
       "      <td>0.886667</td>\n",
       "      <td>0.883333</td>\n",
       "      <td>0.886667</td>\n",
       "      <td>0.880000</td>\n",
       "      <td>0.886667</td>\n",
       "      <td>0.886667</td>\n",
       "      <td>0.823333</td>\n",
       "      <td>0.808333</td>\n",
       "    </tr>\n",
       "    <tr>\n",
       "      <th>10</th>\n",
       "      <td>0.881667</td>\n",
       "      <td>0.875000</td>\n",
       "      <td>0.886667</td>\n",
       "      <td>0.881667</td>\n",
       "      <td>0.886667</td>\n",
       "      <td>0.885000</td>\n",
       "      <td>0.833333</td>\n",
       "      <td>0.788333</td>\n",
       "    </tr>\n",
       "    <tr>\n",
       "      <th>11</th>\n",
       "      <td>0.875000</td>\n",
       "      <td>0.868333</td>\n",
       "      <td>0.886667</td>\n",
       "      <td>0.888333</td>\n",
       "      <td>0.886667</td>\n",
       "      <td>0.886667</td>\n",
       "      <td>0.830000</td>\n",
       "      <td>0.806667</td>\n",
       "    </tr>\n",
       "    <tr>\n",
       "      <th>12</th>\n",
       "      <td>0.878333</td>\n",
       "      <td>0.856667</td>\n",
       "      <td>0.888333</td>\n",
       "      <td>0.881667</td>\n",
       "      <td>0.886667</td>\n",
       "      <td>0.878333</td>\n",
       "      <td>0.843333</td>\n",
       "      <td>0.808333</td>\n",
       "    </tr>\n",
       "    <tr>\n",
       "      <th>13</th>\n",
       "      <td>0.836667</td>\n",
       "      <td>0.861667</td>\n",
       "      <td>0.886667</td>\n",
       "      <td>0.825000</td>\n",
       "      <td>0.886667</td>\n",
       "      <td>0.810000</td>\n",
       "      <td>0.778333</td>\n",
       "      <td>0.760000</td>\n",
       "    </tr>\n",
       "    <tr>\n",
       "      <th>14</th>\n",
       "      <td>0.876667</td>\n",
       "      <td>0.871667</td>\n",
       "      <td>0.885000</td>\n",
       "      <td>0.878333</td>\n",
       "      <td>0.883333</td>\n",
       "      <td>0.831667</td>\n",
       "      <td>0.815000</td>\n",
       "      <td>0.778333</td>\n",
       "    </tr>\n",
       "    <tr>\n",
       "      <th>15</th>\n",
       "      <td>0.883333</td>\n",
       "      <td>0.873333</td>\n",
       "      <td>0.886667</td>\n",
       "      <td>0.886667</td>\n",
       "      <td>0.891667</td>\n",
       "      <td>0.886667</td>\n",
       "      <td>0.856667</td>\n",
       "      <td>0.830000</td>\n",
       "    </tr>\n",
       "    <tr>\n",
       "      <th>16</th>\n",
       "      <td>0.878333</td>\n",
       "      <td>0.871667</td>\n",
       "      <td>0.881667</td>\n",
       "      <td>0.886667</td>\n",
       "      <td>0.886667</td>\n",
       "      <td>0.886667</td>\n",
       "      <td>0.836667</td>\n",
       "      <td>0.800000</td>\n",
       "    </tr>\n",
       "    <tr>\n",
       "      <th>17</th>\n",
       "      <td>0.860000</td>\n",
       "      <td>0.873333</td>\n",
       "      <td>0.886667</td>\n",
       "      <td>0.880000</td>\n",
       "      <td>0.886667</td>\n",
       "      <td>0.886667</td>\n",
       "      <td>0.851667</td>\n",
       "      <td>0.830000</td>\n",
       "    </tr>\n",
       "    <tr>\n",
       "      <th>18</th>\n",
       "      <td>0.848333</td>\n",
       "      <td>0.856667</td>\n",
       "      <td>0.886667</td>\n",
       "      <td>0.795000</td>\n",
       "      <td>0.885000</td>\n",
       "      <td>0.851667</td>\n",
       "      <td>0.836667</td>\n",
       "      <td>0.830000</td>\n",
       "    </tr>\n",
       "    <tr>\n",
       "      <th>19</th>\n",
       "      <td>0.856667</td>\n",
       "      <td>0.858333</td>\n",
       "      <td>0.886667</td>\n",
       "      <td>0.861667</td>\n",
       "      <td>0.885000</td>\n",
       "      <td>0.886667</td>\n",
       "      <td>0.845000</td>\n",
       "      <td>0.828333</td>\n",
       "    </tr>\n",
       "  </tbody>\n",
       "</table>\n",
       "</div>"
      ],
      "text/plain": [
       "    log_optimal  log_optimal2   log_CNN  log_CNN_tuner   log_Max  \\\n",
       "0      0.643333      0.503333  0.845000       0.780000  0.441667   \n",
       "1      0.845000      0.708333  0.883333       0.885000  0.491667   \n",
       "2      0.883333      0.765000  0.871667       0.890000  0.458333   \n",
       "3      0.870000      0.835000  0.876667       0.886667  0.521667   \n",
       "4      0.880000      0.863333  0.886667       0.886667  0.830000   \n",
       "5      0.885000      0.861667  0.885000       0.886667  0.886667   \n",
       "6      0.888333      0.878333  0.883333       0.881667  0.886667   \n",
       "7      0.886667      0.865000  0.888333       0.888333  0.886667   \n",
       "8      0.883333      0.880000  0.888333       0.888333  0.886667   \n",
       "9      0.886667      0.883333  0.886667       0.880000  0.886667   \n",
       "10     0.881667      0.875000  0.886667       0.881667  0.886667   \n",
       "11     0.875000      0.868333  0.886667       0.888333  0.886667   \n",
       "12     0.878333      0.856667  0.888333       0.881667  0.886667   \n",
       "13     0.836667      0.861667  0.886667       0.825000  0.886667   \n",
       "14     0.876667      0.871667  0.885000       0.878333  0.883333   \n",
       "15     0.883333      0.873333  0.886667       0.886667  0.891667   \n",
       "16     0.878333      0.871667  0.881667       0.886667  0.886667   \n",
       "17     0.860000      0.873333  0.886667       0.880000  0.886667   \n",
       "18     0.848333      0.856667  0.886667       0.795000  0.885000   \n",
       "19     0.856667      0.858333  0.886667       0.861667  0.885000   \n",
       "\n",
       "    log_Max_adjust  log_mobilenet  log_mobilenet_v2  \n",
       "0         0.265000       0.528333          0.398333  \n",
       "1         0.780000       0.671667          0.640000  \n",
       "2         0.888333       0.618333          0.556667  \n",
       "3         0.886667       0.755000          0.675000  \n",
       "4         0.881667       0.756667          0.740000  \n",
       "5         0.886667       0.783333          0.765000  \n",
       "6         0.886667       0.806667          0.718333  \n",
       "7         0.886667       0.815000          0.788333  \n",
       "8         0.885000       0.813333          0.778333  \n",
       "9         0.886667       0.823333          0.808333  \n",
       "10        0.885000       0.833333          0.788333  \n",
       "11        0.886667       0.830000          0.806667  \n",
       "12        0.878333       0.843333          0.808333  \n",
       "13        0.810000       0.778333          0.760000  \n",
       "14        0.831667       0.815000          0.778333  \n",
       "15        0.886667       0.856667          0.830000  \n",
       "16        0.886667       0.836667          0.800000  \n",
       "17        0.886667       0.851667          0.830000  \n",
       "18        0.851667       0.836667          0.830000  \n",
       "19        0.886667       0.845000          0.828333  "
      ]
     },
     "execution_count": 189,
     "metadata": {},
     "output_type": "execute_result"
    }
   ],
   "source": [
    "df_model_record_val_accuracy"
   ]
  },
  {
   "cell_type": "markdown",
   "metadata": {},
   "source": [
    "The highest accuracy rate is the research model (log_CNN) and model_Max_adjust (log_Max_adjust), which are both 0.886667"
   ]
  },
  {
   "cell_type": "code",
   "execution_count": 185,
   "metadata": {},
   "outputs": [
    {
     "data": {
      "text/html": [
       "<div>\n",
       "<style scoped>\n",
       "    .dataframe tbody tr th:only-of-type {\n",
       "        vertical-align: middle;\n",
       "    }\n",
       "\n",
       "    .dataframe tbody tr th {\n",
       "        vertical-align: top;\n",
       "    }\n",
       "\n",
       "    .dataframe thead th {\n",
       "        text-align: right;\n",
       "    }\n",
       "</style>\n",
       "<table border=\"1\" class=\"dataframe\">\n",
       "  <thead>\n",
       "    <tr style=\"text-align: right;\">\n",
       "      <th></th>\n",
       "      <th>log_optimal</th>\n",
       "      <th>log_optimal2</th>\n",
       "      <th>log_CNN</th>\n",
       "      <th>log_CNN_tuner</th>\n",
       "      <th>log_Max</th>\n",
       "      <th>log_Max_adjust</th>\n",
       "      <th>log_mobilenet</th>\n",
       "      <th>log_mobilenet_v2</th>\n",
       "    </tr>\n",
       "  </thead>\n",
       "  <tbody>\n",
       "    <tr>\n",
       "      <th>0</th>\n",
       "      <td>0.814800</td>\n",
       "      <td>1.095198</td>\n",
       "      <td>0.454780</td>\n",
       "      <td>0.448551</td>\n",
       "      <td>1.288758</td>\n",
       "      <td>1.289903</td>\n",
       "      <td>1.148728</td>\n",
       "      <td>1.185398</td>\n",
       "    </tr>\n",
       "    <tr>\n",
       "      <th>1</th>\n",
       "      <td>0.447870</td>\n",
       "      <td>0.782346</td>\n",
       "      <td>0.392768</td>\n",
       "      <td>0.313031</td>\n",
       "      <td>1.199349</td>\n",
       "      <td>0.647131</td>\n",
       "      <td>1.015367</td>\n",
       "      <td>0.997839</td>\n",
       "    </tr>\n",
       "    <tr>\n",
       "      <th>2</th>\n",
       "      <td>0.316940</td>\n",
       "      <td>0.586961</td>\n",
       "      <td>0.419767</td>\n",
       "      <td>0.279234</td>\n",
       "      <td>1.025295</td>\n",
       "      <td>0.353720</td>\n",
       "      <td>0.942466</td>\n",
       "      <td>0.995605</td>\n",
       "    </tr>\n",
       "    <tr>\n",
       "      <th>3</th>\n",
       "      <td>0.357057</td>\n",
       "      <td>0.427329</td>\n",
       "      <td>0.362974</td>\n",
       "      <td>0.339721</td>\n",
       "      <td>0.859142</td>\n",
       "      <td>0.293755</td>\n",
       "      <td>0.843736</td>\n",
       "      <td>0.898927</td>\n",
       "    </tr>\n",
       "    <tr>\n",
       "      <th>4</th>\n",
       "      <td>0.297244</td>\n",
       "      <td>0.356360</td>\n",
       "      <td>0.336711</td>\n",
       "      <td>0.261695</td>\n",
       "      <td>0.489110</td>\n",
       "      <td>0.295091</td>\n",
       "      <td>0.786897</td>\n",
       "      <td>0.782867</td>\n",
       "    </tr>\n",
       "    <tr>\n",
       "      <th>5</th>\n",
       "      <td>0.265535</td>\n",
       "      <td>0.336955</td>\n",
       "      <td>0.424150</td>\n",
       "      <td>0.310762</td>\n",
       "      <td>0.342869</td>\n",
       "      <td>0.292796</td>\n",
       "      <td>0.741129</td>\n",
       "      <td>0.749517</td>\n",
       "    </tr>\n",
       "    <tr>\n",
       "      <th>6</th>\n",
       "      <td>0.262857</td>\n",
       "      <td>0.307267</td>\n",
       "      <td>0.327477</td>\n",
       "      <td>0.264908</td>\n",
       "      <td>0.281877</td>\n",
       "      <td>0.279491</td>\n",
       "      <td>0.687279</td>\n",
       "      <td>0.729860</td>\n",
       "    </tr>\n",
       "    <tr>\n",
       "      <th>7</th>\n",
       "      <td>0.262431</td>\n",
       "      <td>0.323927</td>\n",
       "      <td>0.279846</td>\n",
       "      <td>0.258984</td>\n",
       "      <td>0.269452</td>\n",
       "      <td>0.285643</td>\n",
       "      <td>0.666746</td>\n",
       "      <td>0.694733</td>\n",
       "    </tr>\n",
       "    <tr>\n",
       "      <th>8</th>\n",
       "      <td>0.272381</td>\n",
       "      <td>0.279094</td>\n",
       "      <td>0.264277</td>\n",
       "      <td>0.289050</td>\n",
       "      <td>0.256245</td>\n",
       "      <td>0.252527</td>\n",
       "      <td>0.652482</td>\n",
       "      <td>0.722377</td>\n",
       "    </tr>\n",
       "    <tr>\n",
       "      <th>9</th>\n",
       "      <td>0.283938</td>\n",
       "      <td>0.283591</td>\n",
       "      <td>0.308788</td>\n",
       "      <td>0.261269</td>\n",
       "      <td>0.260898</td>\n",
       "      <td>0.260934</td>\n",
       "      <td>0.618400</td>\n",
       "      <td>0.636757</td>\n",
       "    </tr>\n",
       "    <tr>\n",
       "      <th>10</th>\n",
       "      <td>0.273731</td>\n",
       "      <td>0.302866</td>\n",
       "      <td>0.282372</td>\n",
       "      <td>0.256080</td>\n",
       "      <td>0.265655</td>\n",
       "      <td>0.290615</td>\n",
       "      <td>0.600494</td>\n",
       "      <td>0.644357</td>\n",
       "    </tr>\n",
       "    <tr>\n",
       "      <th>11</th>\n",
       "      <td>0.307361</td>\n",
       "      <td>0.295981</td>\n",
       "      <td>0.259139</td>\n",
       "      <td>0.256596</td>\n",
       "      <td>0.264032</td>\n",
       "      <td>0.278477</td>\n",
       "      <td>0.567691</td>\n",
       "      <td>0.593950</td>\n",
       "    </tr>\n",
       "    <tr>\n",
       "      <th>12</th>\n",
       "      <td>0.275058</td>\n",
       "      <td>0.279720</td>\n",
       "      <td>0.249421</td>\n",
       "      <td>0.264523</td>\n",
       "      <td>0.249875</td>\n",
       "      <td>0.280457</td>\n",
       "      <td>0.558405</td>\n",
       "      <td>0.603130</td>\n",
       "    </tr>\n",
       "    <tr>\n",
       "      <th>13</th>\n",
       "      <td>0.288456</td>\n",
       "      <td>0.317748</td>\n",
       "      <td>0.255927</td>\n",
       "      <td>0.324698</td>\n",
       "      <td>0.251864</td>\n",
       "      <td>0.317727</td>\n",
       "      <td>0.569834</td>\n",
       "      <td>0.620456</td>\n",
       "    </tr>\n",
       "    <tr>\n",
       "      <th>14</th>\n",
       "      <td>0.301662</td>\n",
       "      <td>0.299757</td>\n",
       "      <td>0.261124</td>\n",
       "      <td>0.259175</td>\n",
       "      <td>0.258519</td>\n",
       "      <td>0.294859</td>\n",
       "      <td>0.532066</td>\n",
       "      <td>0.591048</td>\n",
       "    </tr>\n",
       "    <tr>\n",
       "      <th>15</th>\n",
       "      <td>0.315710</td>\n",
       "      <td>0.328037</td>\n",
       "      <td>0.266892</td>\n",
       "      <td>0.274431</td>\n",
       "      <td>0.258210</td>\n",
       "      <td>0.276895</td>\n",
       "      <td>0.520174</td>\n",
       "      <td>0.555284</td>\n",
       "    </tr>\n",
       "    <tr>\n",
       "      <th>16</th>\n",
       "      <td>0.307280</td>\n",
       "      <td>0.310997</td>\n",
       "      <td>0.269918</td>\n",
       "      <td>0.257447</td>\n",
       "      <td>0.247873</td>\n",
       "      <td>0.273085</td>\n",
       "      <td>0.503670</td>\n",
       "      <td>0.548277</td>\n",
       "    </tr>\n",
       "    <tr>\n",
       "      <th>17</th>\n",
       "      <td>0.337251</td>\n",
       "      <td>0.333780</td>\n",
       "      <td>0.271922</td>\n",
       "      <td>0.299620</td>\n",
       "      <td>0.247958</td>\n",
       "      <td>0.286034</td>\n",
       "      <td>0.497687</td>\n",
       "      <td>0.538469</td>\n",
       "    </tr>\n",
       "    <tr>\n",
       "      <th>18</th>\n",
       "      <td>0.322443</td>\n",
       "      <td>0.316196</td>\n",
       "      <td>0.259548</td>\n",
       "      <td>0.347335</td>\n",
       "      <td>0.249694</td>\n",
       "      <td>0.278437</td>\n",
       "      <td>0.497414</td>\n",
       "      <td>0.510927</td>\n",
       "    </tr>\n",
       "    <tr>\n",
       "      <th>19</th>\n",
       "      <td>0.322459</td>\n",
       "      <td>0.328910</td>\n",
       "      <td>0.259568</td>\n",
       "      <td>0.274326</td>\n",
       "      <td>0.246145</td>\n",
       "      <td>0.284147</td>\n",
       "      <td>0.473039</td>\n",
       "      <td>0.539225</td>\n",
       "    </tr>\n",
       "  </tbody>\n",
       "</table>\n",
       "</div>"
      ],
      "text/plain": [
       "    log_optimal  log_optimal2   log_CNN  log_CNN_tuner   log_Max  \\\n",
       "0      0.814800      1.095198  0.454780       0.448551  1.288758   \n",
       "1      0.447870      0.782346  0.392768       0.313031  1.199349   \n",
       "2      0.316940      0.586961  0.419767       0.279234  1.025295   \n",
       "3      0.357057      0.427329  0.362974       0.339721  0.859142   \n",
       "4      0.297244      0.356360  0.336711       0.261695  0.489110   \n",
       "5      0.265535      0.336955  0.424150       0.310762  0.342869   \n",
       "6      0.262857      0.307267  0.327477       0.264908  0.281877   \n",
       "7      0.262431      0.323927  0.279846       0.258984  0.269452   \n",
       "8      0.272381      0.279094  0.264277       0.289050  0.256245   \n",
       "9      0.283938      0.283591  0.308788       0.261269  0.260898   \n",
       "10     0.273731      0.302866  0.282372       0.256080  0.265655   \n",
       "11     0.307361      0.295981  0.259139       0.256596  0.264032   \n",
       "12     0.275058      0.279720  0.249421       0.264523  0.249875   \n",
       "13     0.288456      0.317748  0.255927       0.324698  0.251864   \n",
       "14     0.301662      0.299757  0.261124       0.259175  0.258519   \n",
       "15     0.315710      0.328037  0.266892       0.274431  0.258210   \n",
       "16     0.307280      0.310997  0.269918       0.257447  0.247873   \n",
       "17     0.337251      0.333780  0.271922       0.299620  0.247958   \n",
       "18     0.322443      0.316196  0.259548       0.347335  0.249694   \n",
       "19     0.322459      0.328910  0.259568       0.274326  0.246145   \n",
       "\n",
       "    log_Max_adjust  log_mobilenet  log_mobilenet_v2  \n",
       "0         1.289903       1.148728          1.185398  \n",
       "1         0.647131       1.015367          0.997839  \n",
       "2         0.353720       0.942466          0.995605  \n",
       "3         0.293755       0.843736          0.898927  \n",
       "4         0.295091       0.786897          0.782867  \n",
       "5         0.292796       0.741129          0.749517  \n",
       "6         0.279491       0.687279          0.729860  \n",
       "7         0.285643       0.666746          0.694733  \n",
       "8         0.252527       0.652482          0.722377  \n",
       "9         0.260934       0.618400          0.636757  \n",
       "10        0.290615       0.600494          0.644357  \n",
       "11        0.278477       0.567691          0.593950  \n",
       "12        0.280457       0.558405          0.603130  \n",
       "13        0.317727       0.569834          0.620456  \n",
       "14        0.294859       0.532066          0.591048  \n",
       "15        0.276895       0.520174          0.555284  \n",
       "16        0.273085       0.503670          0.548277  \n",
       "17        0.286034       0.497687          0.538469  \n",
       "18        0.278437       0.497414          0.510927  \n",
       "19        0.284147       0.473039          0.539225  "
      ]
     },
     "execution_count": 185,
     "metadata": {},
     "output_type": "execute_result"
    }
   ],
   "source": [
    "df_model_record_val_loss"
   ]
  },
  {
   "cell_type": "markdown",
   "metadata": {},
   "source": [
    "The lowest validaiton loss ranking:\n",
    "1. model_Max (log_Max) with val_loss: 0.246145\n",
    "1. research model (log_CNN) with val_loss: 0.259568\n",
    "2. model_Max_adjust (log_Max_adjust) with val_loss: 0.284147"
   ]
  },
  {
   "cell_type": "code",
   "execution_count": 186,
   "metadata": {},
   "outputs": [
    {
     "data": {
      "text/html": [
       "<div>\n",
       "<style scoped>\n",
       "    .dataframe tbody tr th:only-of-type {\n",
       "        vertical-align: middle;\n",
       "    }\n",
       "\n",
       "    .dataframe tbody tr th {\n",
       "        vertical-align: top;\n",
       "    }\n",
       "\n",
       "    .dataframe thead th {\n",
       "        text-align: right;\n",
       "    }\n",
       "</style>\n",
       "<table border=\"1\" class=\"dataframe\">\n",
       "  <thead>\n",
       "    <tr style=\"text-align: right;\">\n",
       "      <th></th>\n",
       "      <th>log_optimal</th>\n",
       "      <th>log_optimal2</th>\n",
       "      <th>log_CNN</th>\n",
       "      <th>log_CNN_tuner</th>\n",
       "      <th>log_Max</th>\n",
       "      <th>log_Max_adjust</th>\n",
       "      <th>log_mobilenet</th>\n",
       "      <th>log_mobilenet_v2</th>\n",
       "    </tr>\n",
       "  </thead>\n",
       "  <tbody>\n",
       "    <tr>\n",
       "      <th>0</th>\n",
       "      <td>0.540000</td>\n",
       "      <td>0.410357</td>\n",
       "      <td>0.549643</td>\n",
       "      <td>0.667857</td>\n",
       "      <td>0.280714</td>\n",
       "      <td>0.397857</td>\n",
       "      <td>0.435714</td>\n",
       "      <td>0.422143</td>\n",
       "    </tr>\n",
       "    <tr>\n",
       "      <th>1</th>\n",
       "      <td>0.802500</td>\n",
       "      <td>0.601071</td>\n",
       "      <td>0.804286</td>\n",
       "      <td>0.885000</td>\n",
       "      <td>0.390357</td>\n",
       "      <td>0.680000</td>\n",
       "      <td>0.635000</td>\n",
       "      <td>0.582143</td>\n",
       "    </tr>\n",
       "    <tr>\n",
       "      <th>2</th>\n",
       "      <td>0.891786</td>\n",
       "      <td>0.749286</td>\n",
       "      <td>0.841071</td>\n",
       "      <td>0.887500</td>\n",
       "      <td>0.428214</td>\n",
       "      <td>0.843929</td>\n",
       "      <td>0.723929</td>\n",
       "      <td>0.664286</td>\n",
       "    </tr>\n",
       "    <tr>\n",
       "      <th>3</th>\n",
       "      <td>0.887143</td>\n",
       "      <td>0.829286</td>\n",
       "      <td>0.857143</td>\n",
       "      <td>0.888929</td>\n",
       "      <td>0.506786</td>\n",
       "      <td>0.880000</td>\n",
       "      <td>0.750000</td>\n",
       "      <td>0.696429</td>\n",
       "    </tr>\n",
       "    <tr>\n",
       "      <th>4</th>\n",
       "      <td>0.899286</td>\n",
       "      <td>0.876071</td>\n",
       "      <td>0.850357</td>\n",
       "      <td>0.887143</td>\n",
       "      <td>0.658571</td>\n",
       "      <td>0.885000</td>\n",
       "      <td>0.782500</td>\n",
       "      <td>0.715000</td>\n",
       "    </tr>\n",
       "    <tr>\n",
       "      <th>5</th>\n",
       "      <td>0.904286</td>\n",
       "      <td>0.889643</td>\n",
       "      <td>0.857143</td>\n",
       "      <td>0.891429</td>\n",
       "      <td>0.819643</td>\n",
       "      <td>0.890357</td>\n",
       "      <td>0.810714</td>\n",
       "      <td>0.745714</td>\n",
       "    </tr>\n",
       "    <tr>\n",
       "      <th>6</th>\n",
       "      <td>0.908571</td>\n",
       "      <td>0.899643</td>\n",
       "      <td>0.874643</td>\n",
       "      <td>0.898214</td>\n",
       "      <td>0.892143</td>\n",
       "      <td>0.889643</td>\n",
       "      <td>0.824286</td>\n",
       "      <td>0.766429</td>\n",
       "    </tr>\n",
       "    <tr>\n",
       "      <th>7</th>\n",
       "      <td>0.910000</td>\n",
       "      <td>0.902500</td>\n",
       "      <td>0.875000</td>\n",
       "      <td>0.893214</td>\n",
       "      <td>0.898929</td>\n",
       "      <td>0.894286</td>\n",
       "      <td>0.836429</td>\n",
       "      <td>0.777143</td>\n",
       "    </tr>\n",
       "    <tr>\n",
       "      <th>8</th>\n",
       "      <td>0.908214</td>\n",
       "      <td>0.907143</td>\n",
       "      <td>0.881071</td>\n",
       "      <td>0.897500</td>\n",
       "      <td>0.903214</td>\n",
       "      <td>0.894643</td>\n",
       "      <td>0.836071</td>\n",
       "      <td>0.777857</td>\n",
       "    </tr>\n",
       "    <tr>\n",
       "      <th>9</th>\n",
       "      <td>0.910000</td>\n",
       "      <td>0.908214</td>\n",
       "      <td>0.885357</td>\n",
       "      <td>0.905714</td>\n",
       "      <td>0.898571</td>\n",
       "      <td>0.902500</td>\n",
       "      <td>0.856071</td>\n",
       "      <td>0.808214</td>\n",
       "    </tr>\n",
       "    <tr>\n",
       "      <th>10</th>\n",
       "      <td>0.913214</td>\n",
       "      <td>0.906429</td>\n",
       "      <td>0.887857</td>\n",
       "      <td>0.896429</td>\n",
       "      <td>0.903214</td>\n",
       "      <td>0.895000</td>\n",
       "      <td>0.848929</td>\n",
       "      <td>0.791429</td>\n",
       "    </tr>\n",
       "    <tr>\n",
       "      <th>11</th>\n",
       "      <td>0.913929</td>\n",
       "      <td>0.906071</td>\n",
       "      <td>0.892500</td>\n",
       "      <td>0.899643</td>\n",
       "      <td>0.903929</td>\n",
       "      <td>0.900357</td>\n",
       "      <td>0.857857</td>\n",
       "      <td>0.815714</td>\n",
       "    </tr>\n",
       "    <tr>\n",
       "      <th>12</th>\n",
       "      <td>0.913571</td>\n",
       "      <td>0.910000</td>\n",
       "      <td>0.890357</td>\n",
       "      <td>0.896786</td>\n",
       "      <td>0.900714</td>\n",
       "      <td>0.893214</td>\n",
       "      <td>0.868571</td>\n",
       "      <td>0.827143</td>\n",
       "    </tr>\n",
       "    <tr>\n",
       "      <th>13</th>\n",
       "      <td>0.915357</td>\n",
       "      <td>0.910714</td>\n",
       "      <td>0.896786</td>\n",
       "      <td>0.895357</td>\n",
       "      <td>0.905714</td>\n",
       "      <td>0.895714</td>\n",
       "      <td>0.872500</td>\n",
       "      <td>0.821786</td>\n",
       "    </tr>\n",
       "    <tr>\n",
       "      <th>14</th>\n",
       "      <td>0.918929</td>\n",
       "      <td>0.914286</td>\n",
       "      <td>0.895357</td>\n",
       "      <td>0.895000</td>\n",
       "      <td>0.907500</td>\n",
       "      <td>0.899643</td>\n",
       "      <td>0.877143</td>\n",
       "      <td>0.842500</td>\n",
       "    </tr>\n",
       "    <tr>\n",
       "      <th>15</th>\n",
       "      <td>0.918929</td>\n",
       "      <td>0.922857</td>\n",
       "      <td>0.897500</td>\n",
       "      <td>0.906786</td>\n",
       "      <td>0.904286</td>\n",
       "      <td>0.903929</td>\n",
       "      <td>0.880714</td>\n",
       "      <td>0.842857</td>\n",
       "    </tr>\n",
       "    <tr>\n",
       "      <th>16</th>\n",
       "      <td>0.926429</td>\n",
       "      <td>0.921429</td>\n",
       "      <td>0.900000</td>\n",
       "      <td>0.896071</td>\n",
       "      <td>0.910357</td>\n",
       "      <td>0.899286</td>\n",
       "      <td>0.882857</td>\n",
       "      <td>0.852143</td>\n",
       "    </tr>\n",
       "    <tr>\n",
       "      <th>17</th>\n",
       "      <td>0.919643</td>\n",
       "      <td>0.925357</td>\n",
       "      <td>0.898929</td>\n",
       "      <td>0.897500</td>\n",
       "      <td>0.902143</td>\n",
       "      <td>0.889643</td>\n",
       "      <td>0.882857</td>\n",
       "      <td>0.847143</td>\n",
       "    </tr>\n",
       "    <tr>\n",
       "      <th>18</th>\n",
       "      <td>0.927143</td>\n",
       "      <td>0.922500</td>\n",
       "      <td>0.895714</td>\n",
       "      <td>0.900714</td>\n",
       "      <td>0.908214</td>\n",
       "      <td>0.904286</td>\n",
       "      <td>0.888571</td>\n",
       "      <td>0.849643</td>\n",
       "    </tr>\n",
       "    <tr>\n",
       "      <th>19</th>\n",
       "      <td>0.930714</td>\n",
       "      <td>0.921786</td>\n",
       "      <td>0.896071</td>\n",
       "      <td>0.899286</td>\n",
       "      <td>0.910714</td>\n",
       "      <td>0.896786</td>\n",
       "      <td>0.885357</td>\n",
       "      <td>0.856786</td>\n",
       "    </tr>\n",
       "  </tbody>\n",
       "</table>\n",
       "</div>"
      ],
      "text/plain": [
       "    log_optimal  log_optimal2   log_CNN  log_CNN_tuner   log_Max  \\\n",
       "0      0.540000      0.410357  0.549643       0.667857  0.280714   \n",
       "1      0.802500      0.601071  0.804286       0.885000  0.390357   \n",
       "2      0.891786      0.749286  0.841071       0.887500  0.428214   \n",
       "3      0.887143      0.829286  0.857143       0.888929  0.506786   \n",
       "4      0.899286      0.876071  0.850357       0.887143  0.658571   \n",
       "5      0.904286      0.889643  0.857143       0.891429  0.819643   \n",
       "6      0.908571      0.899643  0.874643       0.898214  0.892143   \n",
       "7      0.910000      0.902500  0.875000       0.893214  0.898929   \n",
       "8      0.908214      0.907143  0.881071       0.897500  0.903214   \n",
       "9      0.910000      0.908214  0.885357       0.905714  0.898571   \n",
       "10     0.913214      0.906429  0.887857       0.896429  0.903214   \n",
       "11     0.913929      0.906071  0.892500       0.899643  0.903929   \n",
       "12     0.913571      0.910000  0.890357       0.896786  0.900714   \n",
       "13     0.915357      0.910714  0.896786       0.895357  0.905714   \n",
       "14     0.918929      0.914286  0.895357       0.895000  0.907500   \n",
       "15     0.918929      0.922857  0.897500       0.906786  0.904286   \n",
       "16     0.926429      0.921429  0.900000       0.896071  0.910357   \n",
       "17     0.919643      0.925357  0.898929       0.897500  0.902143   \n",
       "18     0.927143      0.922500  0.895714       0.900714  0.908214   \n",
       "19     0.930714      0.921786  0.896071       0.899286  0.910714   \n",
       "\n",
       "    log_Max_adjust  log_mobilenet  log_mobilenet_v2  \n",
       "0         0.397857       0.435714          0.422143  \n",
       "1         0.680000       0.635000          0.582143  \n",
       "2         0.843929       0.723929          0.664286  \n",
       "3         0.880000       0.750000          0.696429  \n",
       "4         0.885000       0.782500          0.715000  \n",
       "5         0.890357       0.810714          0.745714  \n",
       "6         0.889643       0.824286          0.766429  \n",
       "7         0.894286       0.836429          0.777143  \n",
       "8         0.894643       0.836071          0.777857  \n",
       "9         0.902500       0.856071          0.808214  \n",
       "10        0.895000       0.848929          0.791429  \n",
       "11        0.900357       0.857857          0.815714  \n",
       "12        0.893214       0.868571          0.827143  \n",
       "13        0.895714       0.872500          0.821786  \n",
       "14        0.899643       0.877143          0.842500  \n",
       "15        0.903929       0.880714          0.842857  \n",
       "16        0.899286       0.882857          0.852143  \n",
       "17        0.889643       0.882857          0.847143  \n",
       "18        0.904286       0.888571          0.849643  \n",
       "19        0.896786       0.885357          0.856786  "
      ]
     },
     "execution_count": 186,
     "metadata": {},
     "output_type": "execute_result"
    }
   ],
   "source": [
    "df_model_record_trn_accuracy"
   ]
  },
  {
   "cell_type": "code",
   "execution_count": 187,
   "metadata": {},
   "outputs": [
    {
     "data": {
      "text/html": [
       "<div>\n",
       "<style scoped>\n",
       "    .dataframe tbody tr th:only-of-type {\n",
       "        vertical-align: middle;\n",
       "    }\n",
       "\n",
       "    .dataframe tbody tr th {\n",
       "        vertical-align: top;\n",
       "    }\n",
       "\n",
       "    .dataframe thead th {\n",
       "        text-align: right;\n",
       "    }\n",
       "</style>\n",
       "<table border=\"1\" class=\"dataframe\">\n",
       "  <thead>\n",
       "    <tr style=\"text-align: right;\">\n",
       "      <th></th>\n",
       "      <th>log_optimal</th>\n",
       "      <th>log_optimal2</th>\n",
       "      <th>log_CNN</th>\n",
       "      <th>log_CNN_tuner</th>\n",
       "      <th>log_Max</th>\n",
       "      <th>log_Max_adjust</th>\n",
       "      <th>log_mobilenet</th>\n",
       "      <th>log_mobilenet_v2</th>\n",
       "    </tr>\n",
       "  </thead>\n",
       "  <tbody>\n",
       "    <tr>\n",
       "      <th>0</th>\n",
       "      <td>1.089906</td>\n",
       "      <td>1.260466</td>\n",
       "      <td>4.319894</td>\n",
       "      <td>4.329035</td>\n",
       "      <td>5.134138</td>\n",
       "      <td>1.339463</td>\n",
       "      <td>1.281620</td>\n",
       "      <td>1.270995</td>\n",
       "    </tr>\n",
       "    <tr>\n",
       "      <th>1</th>\n",
       "      <td>0.583854</td>\n",
       "      <td>0.952367</td>\n",
       "      <td>0.749227</td>\n",
       "      <td>0.299704</td>\n",
       "      <td>1.270654</td>\n",
       "      <td>0.820276</td>\n",
       "      <td>1.049640</td>\n",
       "      <td>1.058875</td>\n",
       "    </tr>\n",
       "    <tr>\n",
       "      <th>2</th>\n",
       "      <td>0.326347</td>\n",
       "      <td>0.670108</td>\n",
       "      <td>0.584410</td>\n",
       "      <td>0.266001</td>\n",
       "      <td>1.170074</td>\n",
       "      <td>0.429870</td>\n",
       "      <td>0.919582</td>\n",
       "      <td>0.940546</td>\n",
       "    </tr>\n",
       "    <tr>\n",
       "      <th>3</th>\n",
       "      <td>0.295949</td>\n",
       "      <td>0.481168</td>\n",
       "      <td>0.547522</td>\n",
       "      <td>0.249489</td>\n",
       "      <td>1.035919</td>\n",
       "      <td>0.323173</td>\n",
       "      <td>0.834217</td>\n",
       "      <td>0.867232</td>\n",
       "    </tr>\n",
       "    <tr>\n",
       "      <th>4</th>\n",
       "      <td>0.272766</td>\n",
       "      <td>0.352080</td>\n",
       "      <td>0.523254</td>\n",
       "      <td>0.249770</td>\n",
       "      <td>0.774488</td>\n",
       "      <td>0.304085</td>\n",
       "      <td>0.768042</td>\n",
       "      <td>0.820993</td>\n",
       "    </tr>\n",
       "    <tr>\n",
       "      <th>5</th>\n",
       "      <td>0.241107</td>\n",
       "      <td>0.309780</td>\n",
       "      <td>0.482512</td>\n",
       "      <td>0.239878</td>\n",
       "      <td>0.478053</td>\n",
       "      <td>0.283234</td>\n",
       "      <td>0.709391</td>\n",
       "      <td>0.760146</td>\n",
       "    </tr>\n",
       "    <tr>\n",
       "      <th>6</th>\n",
       "      <td>0.225130</td>\n",
       "      <td>0.267846</td>\n",
       "      <td>0.374495</td>\n",
       "      <td>0.237392</td>\n",
       "      <td>0.310143</td>\n",
       "      <td>0.272423</td>\n",
       "      <td>0.658665</td>\n",
       "      <td>0.713389</td>\n",
       "    </tr>\n",
       "    <tr>\n",
       "      <th>7</th>\n",
       "      <td>0.209754</td>\n",
       "      <td>0.246990</td>\n",
       "      <td>0.335026</td>\n",
       "      <td>0.236558</td>\n",
       "      <td>0.269901</td>\n",
       "      <td>0.271234</td>\n",
       "      <td>0.627333</td>\n",
       "      <td>0.690302</td>\n",
       "    </tr>\n",
       "    <tr>\n",
       "      <th>8</th>\n",
       "      <td>0.214794</td>\n",
       "      <td>0.227774</td>\n",
       "      <td>0.291163</td>\n",
       "      <td>0.223950</td>\n",
       "      <td>0.262467</td>\n",
       "      <td>0.253440</td>\n",
       "      <td>0.601265</td>\n",
       "      <td>0.666613</td>\n",
       "    </tr>\n",
       "    <tr>\n",
       "      <th>9</th>\n",
       "      <td>0.207763</td>\n",
       "      <td>0.219678</td>\n",
       "      <td>0.273976</td>\n",
       "      <td>0.221571</td>\n",
       "      <td>0.246783</td>\n",
       "      <td>0.238657</td>\n",
       "      <td>0.565099</td>\n",
       "      <td>0.622187</td>\n",
       "    </tr>\n",
       "    <tr>\n",
       "      <th>10</th>\n",
       "      <td>0.205097</td>\n",
       "      <td>0.220022</td>\n",
       "      <td>0.275308</td>\n",
       "      <td>0.238939</td>\n",
       "      <td>0.244442</td>\n",
       "      <td>0.257232</td>\n",
       "      <td>0.552037</td>\n",
       "      <td>0.622795</td>\n",
       "    </tr>\n",
       "    <tr>\n",
       "      <th>11</th>\n",
       "      <td>0.194297</td>\n",
       "      <td>0.228789</td>\n",
       "      <td>0.263284</td>\n",
       "      <td>0.224178</td>\n",
       "      <td>0.227811</td>\n",
       "      <td>0.234218</td>\n",
       "      <td>0.525042</td>\n",
       "      <td>0.587785</td>\n",
       "    </tr>\n",
       "    <tr>\n",
       "      <th>12</th>\n",
       "      <td>0.195173</td>\n",
       "      <td>0.216741</td>\n",
       "      <td>0.251981</td>\n",
       "      <td>0.228796</td>\n",
       "      <td>0.237843</td>\n",
       "      <td>0.247519</td>\n",
       "      <td>0.503308</td>\n",
       "      <td>0.565795</td>\n",
       "    </tr>\n",
       "    <tr>\n",
       "      <th>13</th>\n",
       "      <td>0.184255</td>\n",
       "      <td>0.206895</td>\n",
       "      <td>0.252511</td>\n",
       "      <td>0.231560</td>\n",
       "      <td>0.224909</td>\n",
       "      <td>0.239695</td>\n",
       "      <td>0.491690</td>\n",
       "      <td>0.557933</td>\n",
       "    </tr>\n",
       "    <tr>\n",
       "      <th>14</th>\n",
       "      <td>0.179340</td>\n",
       "      <td>0.197393</td>\n",
       "      <td>0.251490</td>\n",
       "      <td>0.235415</td>\n",
       "      <td>0.223612</td>\n",
       "      <td>0.227344</td>\n",
       "      <td>0.473464</td>\n",
       "      <td>0.536243</td>\n",
       "    </tr>\n",
       "    <tr>\n",
       "      <th>15</th>\n",
       "      <td>0.171196</td>\n",
       "      <td>0.176276</td>\n",
       "      <td>0.241032</td>\n",
       "      <td>0.208990</td>\n",
       "      <td>0.224013</td>\n",
       "      <td>0.239163</td>\n",
       "      <td>0.454840</td>\n",
       "      <td>0.523491</td>\n",
       "    </tr>\n",
       "    <tr>\n",
       "      <th>16</th>\n",
       "      <td>0.165597</td>\n",
       "      <td>0.172130</td>\n",
       "      <td>0.235554</td>\n",
       "      <td>0.219573</td>\n",
       "      <td>0.219323</td>\n",
       "      <td>0.221363</td>\n",
       "      <td>0.440180</td>\n",
       "      <td>0.502802</td>\n",
       "    </tr>\n",
       "    <tr>\n",
       "      <th>17</th>\n",
       "      <td>0.182973</td>\n",
       "      <td>0.171455</td>\n",
       "      <td>0.248446</td>\n",
       "      <td>0.223923</td>\n",
       "      <td>0.219886</td>\n",
       "      <td>0.238735</td>\n",
       "      <td>0.431576</td>\n",
       "      <td>0.497217</td>\n",
       "    </tr>\n",
       "    <tr>\n",
       "      <th>18</th>\n",
       "      <td>0.170655</td>\n",
       "      <td>0.171320</td>\n",
       "      <td>0.237177</td>\n",
       "      <td>0.238363</td>\n",
       "      <td>0.215839</td>\n",
       "      <td>0.224030</td>\n",
       "      <td>0.419307</td>\n",
       "      <td>0.492212</td>\n",
       "    </tr>\n",
       "    <tr>\n",
       "      <th>19</th>\n",
       "      <td>0.153056</td>\n",
       "      <td>0.176051</td>\n",
       "      <td>0.245043</td>\n",
       "      <td>0.235689</td>\n",
       "      <td>0.212330</td>\n",
       "      <td>0.222732</td>\n",
       "      <td>0.411858</td>\n",
       "      <td>0.473686</td>\n",
       "    </tr>\n",
       "  </tbody>\n",
       "</table>\n",
       "</div>"
      ],
      "text/plain": [
       "    log_optimal  log_optimal2   log_CNN  log_CNN_tuner   log_Max  \\\n",
       "0      1.089906      1.260466  4.319894       4.329035  5.134138   \n",
       "1      0.583854      0.952367  0.749227       0.299704  1.270654   \n",
       "2      0.326347      0.670108  0.584410       0.266001  1.170074   \n",
       "3      0.295949      0.481168  0.547522       0.249489  1.035919   \n",
       "4      0.272766      0.352080  0.523254       0.249770  0.774488   \n",
       "5      0.241107      0.309780  0.482512       0.239878  0.478053   \n",
       "6      0.225130      0.267846  0.374495       0.237392  0.310143   \n",
       "7      0.209754      0.246990  0.335026       0.236558  0.269901   \n",
       "8      0.214794      0.227774  0.291163       0.223950  0.262467   \n",
       "9      0.207763      0.219678  0.273976       0.221571  0.246783   \n",
       "10     0.205097      0.220022  0.275308       0.238939  0.244442   \n",
       "11     0.194297      0.228789  0.263284       0.224178  0.227811   \n",
       "12     0.195173      0.216741  0.251981       0.228796  0.237843   \n",
       "13     0.184255      0.206895  0.252511       0.231560  0.224909   \n",
       "14     0.179340      0.197393  0.251490       0.235415  0.223612   \n",
       "15     0.171196      0.176276  0.241032       0.208990  0.224013   \n",
       "16     0.165597      0.172130  0.235554       0.219573  0.219323   \n",
       "17     0.182973      0.171455  0.248446       0.223923  0.219886   \n",
       "18     0.170655      0.171320  0.237177       0.238363  0.215839   \n",
       "19     0.153056      0.176051  0.245043       0.235689  0.212330   \n",
       "\n",
       "    log_Max_adjust  log_mobilenet  log_mobilenet_v2  \n",
       "0         1.339463       1.281620          1.270995  \n",
       "1         0.820276       1.049640          1.058875  \n",
       "2         0.429870       0.919582          0.940546  \n",
       "3         0.323173       0.834217          0.867232  \n",
       "4         0.304085       0.768042          0.820993  \n",
       "5         0.283234       0.709391          0.760146  \n",
       "6         0.272423       0.658665          0.713389  \n",
       "7         0.271234       0.627333          0.690302  \n",
       "8         0.253440       0.601265          0.666613  \n",
       "9         0.238657       0.565099          0.622187  \n",
       "10        0.257232       0.552037          0.622795  \n",
       "11        0.234218       0.525042          0.587785  \n",
       "12        0.247519       0.503308          0.565795  \n",
       "13        0.239695       0.491690          0.557933  \n",
       "14        0.227344       0.473464          0.536243  \n",
       "15        0.239163       0.454840          0.523491  \n",
       "16        0.221363       0.440180          0.502802  \n",
       "17        0.238735       0.431576          0.497217  \n",
       "18        0.224030       0.419307          0.492212  \n",
       "19        0.222732       0.411858          0.473686  "
      ]
     },
     "execution_count": 187,
     "metadata": {},
     "output_type": "execute_result"
    }
   ],
   "source": [
    "df_model_record_trn_loss"
   ]
  },
  {
   "cell_type": "markdown",
   "metadata": {},
   "source": [
    "The optimal model is the model_Max_adjust model (log_Max_adjust), and the reason is that:\n",
    "\n",
    "1. model_Max_adjust model and research model are the two with the highest valiadation accuracy among all models\n",
    "2. Mentioning about the lowest validaiton loss ranking, we can see that the model_Max_adjust model is the model with the top-three lowest validation loss\n",
    "3. the most critical point is that the model_Max_adjust model have the better learning curve on both train and validation set comparing with the research model, which is not too fast to drop down the loss at the beginning of the training.\n",
    "\n",
    "Behind the logic of building the model_Max_adjust model:\n",
    "1. In recent years, the more mainstream is the use of max-pooling after the 2D convolution layers to improve the signifiican of the signals and prevent overfitting\n",
    "2. The lower-level network is more responsive to detailed features. With the continuous processing of features, the higher-level network has a better response to abstract features.\n",
    "3. To add MaxPooling2D to the back of each layer of Conv2D should theoretically improve the signifiican of the signals and also increase the accuracy.\n",
    "4. We also believe that after adding BatchNormalization, it can ensure that the training of each layer of neurons is more stable, and important training information will not be lost. And improve the accuracy of the model. \n",
    "5. Also the time for each epoch is not too long, the computation power is efficient enough."
   ]
  },
  {
   "cell_type": "markdown",
   "metadata": {},
   "source": [
    "### Optimal model evaluating and saving the model"
   ]
  },
  {
   "cell_type": "code",
   "execution_count": 9,
   "metadata": {},
   "outputs": [
    {
     "data": {
      "text/plain": [
       "((3400, 100, 100, 1), (3400, 4))"
      ]
     },
     "execution_count": 9,
     "metadata": {},
     "output_type": "execute_result"
    }
   ],
   "source": [
    "x_CNN_evaluate = np.concatenate((x_CNN_trn, x_CNN_val), axis=0)\n",
    "y_CNN_evaluate = np.concatenate((y_CNN_trn, y_CNN_val), axis=0)\n",
    "x_CNN_evaluate.shape, y_CNN_evaluate.shape"
   ]
  },
  {
   "cell_type": "code",
   "execution_count": 10,
   "metadata": {},
   "outputs": [],
   "source": [
    "## clean sessions and set seeds\n",
    "tf.keras.backend.clear_session()\n",
    "np.random.seed(231)\n",
    "tf.random.set_seed(631)"
   ]
  },
  {
   "cell_type": "code",
   "execution_count": 11,
   "metadata": {},
   "outputs": [
    {
     "name": "stdout",
     "output_type": "stream",
     "text": [
      "Model: \"sequential\"\n",
      "_________________________________________________________________\n",
      " Layer (type)                Output Shape              Param #   \n",
      "=================================================================\n",
      " conv2d (Conv2D)             (None, 98, 98, 64)        640       \n",
      "                                                                 \n",
      " batch_normalization (BatchN  (None, 98, 98, 64)       256       \n",
      " ormalization)                                                   \n",
      "                                                                 \n",
      " max_pooling2d (MaxPooling2D  (None, 32, 32, 64)       0         \n",
      " )                                                               \n",
      "                                                                 \n",
      " conv2d_1 (Conv2D)           (None, 30, 30, 64)        36928     \n",
      "                                                                 \n",
      " batch_normalization_1 (Batc  (None, 30, 30, 64)       256       \n",
      " hNormalization)                                                 \n",
      "                                                                 \n",
      " max_pooling2d_1 (MaxPooling  (None, 10, 10, 64)       0         \n",
      " 2D)                                                             \n",
      "                                                                 \n",
      " dropout (Dropout)           (None, 10, 10, 64)        0         \n",
      "                                                                 \n",
      " conv2d_2 (Conv2D)           (None, 4, 4, 32)          18464     \n",
      "                                                                 \n",
      " max_pooling2d_2 (MaxPooling  (None, 1, 1, 32)         0         \n",
      " 2D)                                                             \n",
      "                                                                 \n",
      " flatten (Flatten)           (None, 32)                0         \n",
      "                                                                 \n",
      " dense (Dense)               (None, 4)                 132       \n",
      "                                                                 \n",
      "=================================================================\n",
      "Total params: 56,676\n",
      "Trainable params: 56,420\n",
      "Non-trainable params: 256\n",
      "_________________________________________________________________\n"
     ]
    },
    {
     "name": "stderr",
     "output_type": "stream",
     "text": [
      "2022-04-15 09:05:36.208917: I tensorflow/core/platform/cpu_feature_guard.cc:151] This TensorFlow binary is optimized with oneAPI Deep Neural Network Library (oneDNN) to use the following CPU instructions in performance-critical operations:  SSE4.1 SSE4.2\n",
      "To enable them in other operations, rebuild TensorFlow with the appropriate compiler flags.\n"
     ]
    }
   ],
   "source": [
    "input_shape = (100, 100, 1)\n",
    "model_Max_adjust = Sequential([\n",
    "    Conv2D(64, kernel_size=(3, 3),strides=1, padding='valid',input_shape=input_shape),\n",
    "    BatchNormalization(), # BatchNormalization could prevent overfitting and be senestive to the input feature\n",
    "    MaxPooling2D(pool_size=(3,3)),\n",
    "\n",
    "    Conv2D(64, kernel_size=(3, 3),strides=1, padding='valid'),\n",
    "    BatchNormalization(), \n",
    "    MaxPooling2D(pool_size=(3,3)),\n",
    "\n",
    "\n",
    "    tf.keras.layers.Dropout(rate=0.2), #dropout to also prevent overfitting\n",
    "    Conv2D(32, kernel_size=(3, 3),strides=2, padding='valid',activation='relu'),\n",
    "\n",
    "    #BatchNormalization(),\n",
    "    MaxPooling2D(pool_size=(3,3)),\n",
    "\n",
    "    Flatten(), # convert pixels to vector\n",
    "    Dense(4, activation='softmax')])\n",
    "\n",
    "model_Max_adjust.compile(loss='categorical_crossentropy',\n",
    "              optimizer=tf.keras.optimizers.Adam(learning_rate=0.001), #learning rate\n",
    "              metrics=['accuracy'])\n",
    "model_Max_adjust.summary()"
   ]
  },
  {
   "cell_type": "markdown",
   "metadata": {},
   "source": [
    "Here we set the epoch as 10 since the dataset is large now (to prevent overfitting), and we would evaluate the model on the test set."
   ]
  },
  {
   "cell_type": "code",
   "execution_count": 12,
   "metadata": {},
   "outputs": [
    {
     "name": "stdout",
     "output_type": "stream",
     "text": [
      "Epoch 1/10\n",
      "107/107 [==============================] - 18s 162ms/step - loss: 1.3878 - accuracy: 0.3721\n",
      "Epoch 2/10\n",
      "107/107 [==============================] - 18s 166ms/step - loss: 0.7397 - accuracy: 0.7038\n",
      "Epoch 3/10\n",
      "107/107 [==============================] - 17s 162ms/step - loss: 0.3880 - accuracy: 0.8550\n",
      "Epoch 4/10\n",
      "107/107 [==============================] - 18s 165ms/step - loss: 0.3090 - accuracy: 0.8829\n",
      "Epoch 5/10\n",
      "107/107 [==============================] - 18s 165ms/step - loss: 0.2835 - accuracy: 0.8841\n",
      "Epoch 6/10\n",
      "107/107 [==============================] - 17s 155ms/step - loss: 0.2708 - accuracy: 0.8862\n",
      "Epoch 7/10\n",
      "107/107 [==============================] - 16s 150ms/step - loss: 0.2682 - accuracy: 0.8832\n",
      "Epoch 8/10\n",
      "107/107 [==============================] - 17s 160ms/step - loss: 0.2713 - accuracy: 0.8903\n",
      "Epoch 9/10\n",
      "107/107 [==============================] - 15s 140ms/step - loss: 0.2520 - accuracy: 0.8891\n",
      "Epoch 10/10\n",
      "107/107 [==============================] - 15s 139ms/step - loss: 0.2434 - accuracy: 0.8935\n"
     ]
    }
   ],
   "source": [
    "model_Max_adjust.compile(loss='categorical_crossentropy',\n",
    "              optimizer=tf.keras.optimizers.Adam(learning_rate=0.001), #learning rate\n",
    "              metrics=['accuracy'])\n",
    "epochs = 10\n",
    "# early_stopping_cb = tf.keras.callbacks.EarlyStopping(patience = 5, restore_best_weights=True)\n",
    "log_Q6_CNN = model_Max_adjust.fit(x_CNN_evaluate, y_CNN_evaluate, \n",
    "                epochs=epochs,\n",
    "                # callbacks = [early_stopping_cb]\n",
    "                )"
   ]
  },
  {
   "cell_type": "code",
   "execution_count": 13,
   "metadata": {},
   "outputs": [
    {
     "name": "stdout",
     "output_type": "stream",
     "text": [
      "19/19 [==============================] - 1s 38ms/step - loss: 0.2843 - accuracy: 0.8767\n"
     ]
    },
    {
     "data": {
      "text/plain": [
       "[0.28433507680892944, 0.8766666650772095]"
      ]
     },
     "execution_count": 13,
     "metadata": {},
     "output_type": "execute_result"
    }
   ],
   "source": [
    "# evalute the model on test set\n",
    "model_Max_adjust.evaluate(x_CNN_test, y_CNN_test)"
   ]
  },
  {
   "cell_type": "markdown",
   "metadata": {},
   "source": [
    "The final test set evaluate result would be 0.8767 accuracy with the loss of 0.2843"
   ]
  },
  {
   "cell_type": "markdown",
   "metadata": {},
   "source": [
    "### Save the model as an .h5-file for final model chosen in Question 6"
   ]
  },
  {
   "cell_type": "code",
   "execution_count": 14,
   "metadata": {},
   "outputs": [],
   "source": [
    "# save the trained model \n",
    "model_Max_adjust.save(\"model_Max_adjust.h5\")"
   ]
  }
 ],
 "metadata": {
  "interpreter": {
   "hash": "1c955ac2759b198ced90504fafd0653ff1948d23274faaeb8b6184240be651d3"
  },
  "kernelspec": {
   "display_name": "Python 3 (ipykernel)",
   "language": "python",
   "name": "python3"
  },
  "language_info": {
   "codemirror_mode": {
    "name": "ipython",
    "version": 3
   },
   "file_extension": ".py",
   "mimetype": "text/x-python",
   "name": "python",
   "nbconvert_exporter": "python",
   "pygments_lexer": "ipython3",
   "version": "3.8.13"
  }
 },
 "nbformat": 4,
 "nbformat_minor": 2
}
